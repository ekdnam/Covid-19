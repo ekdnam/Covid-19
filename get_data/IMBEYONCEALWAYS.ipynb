{
 "cells": [
  {
   "cell_type": "code",
   "execution_count": 169,
   "metadata": {},
   "outputs": [],
   "source": [
    "import pandas as pd\n",
    "import numpy as np\n",
    "import matplotlib.pyplot as plt\n",
    "import json\n",
    "from numpy import nan as NaN\n",
    "import matplotlib.dates as mdates\n",
    "from typing import List, Union"
   ]
  },
  {
   "cell_type": "code",
   "execution_count": 2,
   "metadata": {},
   "outputs": [],
   "source": [
    "filenames = []\n",
    "__BASE__FILENAME__ = \"dataset\\\\final_tweets_\"\n",
    "for i in range(1, 75):\n",
    "    file = __BASE__FILENAME__ + str(i) + '.csv'\n",
    "    filenames.append(file)\n",
    "main_df = pd.DataFrame()\n",
    "for filename in filenames:\n",
    "    temp_df = pd.read_csv(filename)\n",
    "    main_df = main_df.append(temp_df)"
   ]
  },
  {
   "cell_type": "code",
   "execution_count": 3,
   "metadata": {},
   "outputs": [
    {
     "data": {
      "text/html": [
       "<div>\n",
       "<style scoped>\n",
       "    .dataframe tbody tr th:only-of-type {\n",
       "        vertical-align: middle;\n",
       "    }\n",
       "\n",
       "    .dataframe tbody tr th {\n",
       "        vertical-align: top;\n",
       "    }\n",
       "\n",
       "    .dataframe thead th {\n",
       "        text-align: right;\n",
       "    }\n",
       "</style>\n",
       "<table border=\"1\" class=\"dataframe\">\n",
       "  <thead>\n",
       "    <tr style=\"text-align: right;\">\n",
       "      <th></th>\n",
       "      <th>Unnamed: 0</th>\n",
       "      <th>id_str</th>\n",
       "      <th>user_id</th>\n",
       "      <th>text</th>\n",
       "      <th>created_at</th>\n",
       "      <th>entities</th>\n",
       "      <th>lang</th>\n",
       "      <th>time_zone</th>\n",
       "      <th>user_location</th>\n",
       "      <th>location</th>\n",
       "      <th>entities_hashtags</th>\n",
       "      <th>entities_symbols</th>\n",
       "      <th>coordinates</th>\n",
       "    </tr>\n",
       "  </thead>\n",
       "  <tbody>\n",
       "    <tr>\n",
       "      <th>0</th>\n",
       "      <td>0</td>\n",
       "      <td>1242693402971406342</td>\n",
       "      <td>1211110380249858049</td>\n",
       "      <td>CORONA 19 UPDATE \\n---------------------------...</td>\n",
       "      <td>2020-03-25 06:02:50</td>\n",
       "      <td>{'hashtags': [], 'symbols': [], 'user_mentions...</td>\n",
       "      <td>en</td>\n",
       "      <td>NaN</td>\n",
       "      <td>NaN</td>\n",
       "      <td>NaN</td>\n",
       "      <td>NaN</td>\n",
       "      <td>NaN</td>\n",
       "      <td>NaN</td>\n",
       "    </tr>\n",
       "    <tr>\n",
       "      <th>1</th>\n",
       "      <td>1</td>\n",
       "      <td>1242693578817597442</td>\n",
       "      <td>2558507150</td>\n",
       "      <td>Anti Corona T-shirt collection is online for s...</td>\n",
       "      <td>2020-03-25 06:03:31</td>\n",
       "      <td>{'hashtags': [{'text': '21daysLockdown', 'indi...</td>\n",
       "      <td>en</td>\n",
       "      <td>NaN</td>\n",
       "      <td>NaN</td>\n",
       "      <td>NaN</td>\n",
       "      <td>NaN</td>\n",
       "      <td>NaN</td>\n",
       "      <td>NaN</td>\n",
       "    </tr>\n",
       "    <tr>\n",
       "      <th>2</th>\n",
       "      <td>2</td>\n",
       "      <td>1242693609725575168</td>\n",
       "      <td>1242691555628060672</td>\n",
       "      <td>The matter is serious. Take full care not to b...</td>\n",
       "      <td>2020-03-25 06:03:39</td>\n",
       "      <td>{'hashtags': [], 'symbols': [], 'user_mentions...</td>\n",
       "      <td>en</td>\n",
       "      <td>NaN</td>\n",
       "      <td>NaN</td>\n",
       "      <td>NaN</td>\n",
       "      <td>NaN</td>\n",
       "      <td>NaN</td>\n",
       "      <td>NaN</td>\n",
       "    </tr>\n",
       "    <tr>\n",
       "      <th>3</th>\n",
       "      <td>3</td>\n",
       "      <td>1242693680143544325</td>\n",
       "      <td>787255787961872388</td>\n",
       "      <td>All Mosque committee members headed by Syed Ga...</td>\n",
       "      <td>2020-03-25 06:03:56</td>\n",
       "      <td>{'hashtags': [{'text': 'Narayanpet', 'indices'...</td>\n",
       "      <td>en</td>\n",
       "      <td>NaN</td>\n",
       "      <td>NaN</td>\n",
       "      <td>NaN</td>\n",
       "      <td>NaN</td>\n",
       "      <td>NaN</td>\n",
       "      <td>NaN</td>\n",
       "    </tr>\n",
       "    <tr>\n",
       "      <th>4</th>\n",
       "      <td>4</td>\n",
       "      <td>1242693745755262977</td>\n",
       "      <td>1230923356519555072</td>\n",
       "      <td>@aajtak If these Indians are already infected ...</td>\n",
       "      <td>2020-03-25 06:04:11</td>\n",
       "      <td>{'hashtags': [], 'symbols': [], 'user_mentions...</td>\n",
       "      <td>en</td>\n",
       "      <td>NaN</td>\n",
       "      <td>NaN</td>\n",
       "      <td>NaN</td>\n",
       "      <td>NaN</td>\n",
       "      <td>NaN</td>\n",
       "      <td>NaN</td>\n",
       "    </tr>\n",
       "    <tr>\n",
       "      <th>...</th>\n",
       "      <td>...</td>\n",
       "      <td>...</td>\n",
       "      <td>...</td>\n",
       "      <td>...</td>\n",
       "      <td>...</td>\n",
       "      <td>...</td>\n",
       "      <td>...</td>\n",
       "      <td>...</td>\n",
       "      <td>...</td>\n",
       "      <td>...</td>\n",
       "      <td>...</td>\n",
       "      <td>...</td>\n",
       "      <td>...</td>\n",
       "    </tr>\n",
       "    <tr>\n",
       "      <th>282</th>\n",
       "      <td>282</td>\n",
       "      <td>1264242054101635073</td>\n",
       "      <td>2987548622</td>\n",
       "      <td>#AatmaNirbharApnaBharat\\nFacilitating states d...</td>\n",
       "      <td>2020-05-23 17:09:28</td>\n",
       "      <td>NaN</td>\n",
       "      <td>en</td>\n",
       "      <td>NaN</td>\n",
       "      <td>NaN</td>\n",
       "      <td>लखनऊ, भारत</td>\n",
       "      <td>[{'text': 'AatmaNirbharApnaBharat', 'indices':...</td>\n",
       "      <td>[]</td>\n",
       "      <td>NaN</td>\n",
       "    </tr>\n",
       "    <tr>\n",
       "      <th>283</th>\n",
       "      <td>283</td>\n",
       "      <td>1264242097940336641</td>\n",
       "      <td>2269187558</td>\n",
       "      <td>Cheers to you jyoti. Wish you health &amp;amp; hap...</td>\n",
       "      <td>2020-05-23 17:09:39</td>\n",
       "      <td>NaN</td>\n",
       "      <td>en</td>\n",
       "      <td>NaN</td>\n",
       "      <td>NaN</td>\n",
       "      <td>Bengaluru South, India</td>\n",
       "      <td>[{'text': 'PMCaresFund', 'indices': [125, 137]}]</td>\n",
       "      <td>[]</td>\n",
       "      <td>NaN</td>\n",
       "    </tr>\n",
       "    <tr>\n",
       "      <th>284</th>\n",
       "      <td>284</td>\n",
       "      <td>1264242258762764289</td>\n",
       "      <td>2987548622</td>\n",
       "      <td>#AatmaNirbharApnaBharat\\nTechnology driven edu...</td>\n",
       "      <td>2020-05-23 17:10:17</td>\n",
       "      <td>NaN</td>\n",
       "      <td>en</td>\n",
       "      <td>NaN</td>\n",
       "      <td>NaN</td>\n",
       "      <td>लखनऊ, भारत</td>\n",
       "      <td>[{'text': 'AatmaNirbharApnaBharat', 'indices':...</td>\n",
       "      <td>[]</td>\n",
       "      <td>NaN</td>\n",
       "    </tr>\n",
       "    <tr>\n",
       "      <th>285</th>\n",
       "      <td>285</td>\n",
       "      <td>1264242273790787584</td>\n",
       "      <td>1083235498418733057</td>\n",
       "      <td>#EidMubarak #EidAlFitr #RomanReigns @WWERomanR...</td>\n",
       "      <td>2020-05-23 17:10:21</td>\n",
       "      <td>NaN</td>\n",
       "      <td>en</td>\n",
       "      <td>NaN</td>\n",
       "      <td>NaN</td>\n",
       "      <td>India</td>\n",
       "      <td>[{'text': 'EidMubarak', 'indices': [0, 11]}, {...</td>\n",
       "      <td>[]</td>\n",
       "      <td>NaN</td>\n",
       "    </tr>\n",
       "    <tr>\n",
       "      <th>286</th>\n",
       "      <td>286</td>\n",
       "      <td>1264242405668089858</td>\n",
       "      <td>1074016333476507648</td>\n",
       "      <td>#dmrc #metro I wanna ask about and gave asure ...</td>\n",
       "      <td>2020-05-23 17:10:52</td>\n",
       "      <td>NaN</td>\n",
       "      <td>en</td>\n",
       "      <td>NaN</td>\n",
       "      <td>NaN</td>\n",
       "      <td>New Delhi, India</td>\n",
       "      <td>[{'text': 'dmrc', 'indices': [0, 5]}, {'text':...</td>\n",
       "      <td>[]</td>\n",
       "      <td>NaN</td>\n",
       "    </tr>\n",
       "  </tbody>\n",
       "</table>\n",
       "<p>58491 rows × 13 columns</p>\n",
       "</div>"
      ],
      "text/plain": [
       "    Unnamed: 0               id_str              user_id  \\\n",
       "0            0  1242693402971406342  1211110380249858049   \n",
       "1            1  1242693578817597442           2558507150   \n",
       "2            2  1242693609725575168  1242691555628060672   \n",
       "3            3  1242693680143544325   787255787961872388   \n",
       "4            4  1242693745755262977  1230923356519555072   \n",
       "..         ...                  ...                  ...   \n",
       "282        282  1264242054101635073           2987548622   \n",
       "283        283  1264242097940336641           2269187558   \n",
       "284        284  1264242258762764289           2987548622   \n",
       "285        285  1264242273790787584  1083235498418733057   \n",
       "286        286  1264242405668089858  1074016333476507648   \n",
       "\n",
       "                                                  text           created_at  \\\n",
       "0    CORONA 19 UPDATE \\n---------------------------...  2020-03-25 06:02:50   \n",
       "1    Anti Corona T-shirt collection is online for s...  2020-03-25 06:03:31   \n",
       "2    The matter is serious. Take full care not to b...  2020-03-25 06:03:39   \n",
       "3    All Mosque committee members headed by Syed Ga...  2020-03-25 06:03:56   \n",
       "4    @aajtak If these Indians are already infected ...  2020-03-25 06:04:11   \n",
       "..                                                 ...                  ...   \n",
       "282  #AatmaNirbharApnaBharat\\nFacilitating states d...  2020-05-23 17:09:28   \n",
       "283  Cheers to you jyoti. Wish you health &amp; hap...  2020-05-23 17:09:39   \n",
       "284  #AatmaNirbharApnaBharat\\nTechnology driven edu...  2020-05-23 17:10:17   \n",
       "285  #EidMubarak #EidAlFitr #RomanReigns @WWERomanR...  2020-05-23 17:10:21   \n",
       "286  #dmrc #metro I wanna ask about and gave asure ...  2020-05-23 17:10:52   \n",
       "\n",
       "                                              entities lang time_zone  \\\n",
       "0    {'hashtags': [], 'symbols': [], 'user_mentions...   en       NaN   \n",
       "1    {'hashtags': [{'text': '21daysLockdown', 'indi...   en       NaN   \n",
       "2    {'hashtags': [], 'symbols': [], 'user_mentions...   en       NaN   \n",
       "3    {'hashtags': [{'text': 'Narayanpet', 'indices'...   en       NaN   \n",
       "4    {'hashtags': [], 'symbols': [], 'user_mentions...   en       NaN   \n",
       "..                                                 ...  ...       ...   \n",
       "282                                                NaN   en       NaN   \n",
       "283                                                NaN   en       NaN   \n",
       "284                                                NaN   en       NaN   \n",
       "285                                                NaN   en       NaN   \n",
       "286                                                NaN   en       NaN   \n",
       "\n",
       "     user_location                location  \\\n",
       "0              NaN                     NaN   \n",
       "1              NaN                     NaN   \n",
       "2              NaN                     NaN   \n",
       "3              NaN                     NaN   \n",
       "4              NaN                     NaN   \n",
       "..             ...                     ...   \n",
       "282            NaN              लखनऊ, भारत   \n",
       "283            NaN  Bengaluru South, India   \n",
       "284            NaN              लखनऊ, भारत   \n",
       "285            NaN                   India   \n",
       "286            NaN        New Delhi, India   \n",
       "\n",
       "                                     entities_hashtags entities_symbols  \\\n",
       "0                                                  NaN              NaN   \n",
       "1                                                  NaN              NaN   \n",
       "2                                                  NaN              NaN   \n",
       "3                                                  NaN              NaN   \n",
       "4                                                  NaN              NaN   \n",
       "..                                                 ...              ...   \n",
       "282  [{'text': 'AatmaNirbharApnaBharat', 'indices':...               []   \n",
       "283   [{'text': 'PMCaresFund', 'indices': [125, 137]}]               []   \n",
       "284  [{'text': 'AatmaNirbharApnaBharat', 'indices':...               []   \n",
       "285  [{'text': 'EidMubarak', 'indices': [0, 11]}, {...               []   \n",
       "286  [{'text': 'dmrc', 'indices': [0, 5]}, {'text':...               []   \n",
       "\n",
       "    coordinates  \n",
       "0           NaN  \n",
       "1           NaN  \n",
       "2           NaN  \n",
       "3           NaN  \n",
       "4           NaN  \n",
       "..          ...  \n",
       "282         NaN  \n",
       "283         NaN  \n",
       "284         NaN  \n",
       "285         NaN  \n",
       "286         NaN  \n",
       "\n",
       "[58491 rows x 13 columns]"
      ]
     },
     "execution_count": 3,
     "metadata": {},
     "output_type": "execute_result"
    }
   ],
   "source": [
    "main_df"
   ]
  },
  {
   "cell_type": "code",
   "execution_count": 5,
   "metadata": {},
   "outputs": [
    {
     "data": {
      "text/plain": [
       "(58491, 13)"
      ]
     },
     "execution_count": 5,
     "metadata": {},
     "output_type": "execute_result"
    }
   ],
   "source": [
    "main_df.shape"
   ]
  },
  {
   "cell_type": "code",
   "execution_count": 7,
   "metadata": {},
   "outputs": [
    {
     "name": "stdout",
     "output_type": "stream",
     "text": [
      "<class 'list'>\n"
     ]
    },
    {
     "data": {
      "text/html": [
       "<div>\n",
       "<style scoped>\n",
       "    .dataframe tbody tr th:only-of-type {\n",
       "        vertical-align: middle;\n",
       "    }\n",
       "\n",
       "    .dataframe tbody tr th {\n",
       "        vertical-align: top;\n",
       "    }\n",
       "\n",
       "    .dataframe thead th {\n",
       "        text-align: right;\n",
       "    }\n",
       "</style>\n",
       "<table border=\"1\" class=\"dataframe\">\n",
       "  <thead>\n",
       "    <tr style=\"text-align: right;\">\n",
       "      <th></th>\n",
       "      <th>created_at</th>\n",
       "      <th>entities_hashtags</th>\n",
       "    </tr>\n",
       "  </thead>\n",
       "  <tbody>\n",
       "    <tr>\n",
       "      <th>0</th>\n",
       "      <td>2020-03-27 04:00:28</td>\n",
       "      <td>[]</td>\n",
       "    </tr>\n",
       "    <tr>\n",
       "      <th>1</th>\n",
       "      <td>2020-03-27 04:01:08</td>\n",
       "      <td>[]</td>\n",
       "    </tr>\n",
       "    <tr>\n",
       "      <th>2</th>\n",
       "      <td>2020-03-27 04:01:13</td>\n",
       "      <td>[]</td>\n",
       "    </tr>\n",
       "    <tr>\n",
       "      <th>3</th>\n",
       "      <td>2020-03-27 04:01:54</td>\n",
       "      <td>[]</td>\n",
       "    </tr>\n",
       "    <tr>\n",
       "      <th>4</th>\n",
       "      <td>2020-03-27 04:01:59</td>\n",
       "      <td>[{'text': 'IndiaFightsCorona', 'indices': [215...</td>\n",
       "    </tr>\n",
       "    <tr>\n",
       "      <th>...</th>\n",
       "      <td>...</td>\n",
       "      <td>...</td>\n",
       "    </tr>\n",
       "    <tr>\n",
       "      <th>282</th>\n",
       "      <td>2020-05-23 17:09:28</td>\n",
       "      <td>[{'text': 'AatmaNirbharApnaBharat', 'indices':...</td>\n",
       "    </tr>\n",
       "    <tr>\n",
       "      <th>283</th>\n",
       "      <td>2020-05-23 17:09:39</td>\n",
       "      <td>[{'text': 'PMCaresFund', 'indices': [125, 137]}]</td>\n",
       "    </tr>\n",
       "    <tr>\n",
       "      <th>284</th>\n",
       "      <td>2020-05-23 17:10:17</td>\n",
       "      <td>[{'text': 'AatmaNirbharApnaBharat', 'indices':...</td>\n",
       "    </tr>\n",
       "    <tr>\n",
       "      <th>285</th>\n",
       "      <td>2020-05-23 17:10:21</td>\n",
       "      <td>[{'text': 'EidMubarak', 'indices': [0, 11]}, {...</td>\n",
       "    </tr>\n",
       "    <tr>\n",
       "      <th>286</th>\n",
       "      <td>2020-05-23 17:10:52</td>\n",
       "      <td>[{'text': 'dmrc', 'indices': [0, 5]}, {'text':...</td>\n",
       "    </tr>\n",
       "  </tbody>\n",
       "</table>\n",
       "<p>54029 rows × 2 columns</p>\n",
       "</div>"
      ],
      "text/plain": [
       "              created_at                                  entities_hashtags\n",
       "0    2020-03-27 04:00:28                                                 []\n",
       "1    2020-03-27 04:01:08                                                 []\n",
       "2    2020-03-27 04:01:13                                                 []\n",
       "3    2020-03-27 04:01:54                                                 []\n",
       "4    2020-03-27 04:01:59  [{'text': 'IndiaFightsCorona', 'indices': [215...\n",
       "..                   ...                                                ...\n",
       "282  2020-05-23 17:09:28  [{'text': 'AatmaNirbharApnaBharat', 'indices':...\n",
       "283  2020-05-23 17:09:39   [{'text': 'PMCaresFund', 'indices': [125, 137]}]\n",
       "284  2020-05-23 17:10:17  [{'text': 'AatmaNirbharApnaBharat', 'indices':...\n",
       "285  2020-05-23 17:10:21  [{'text': 'EidMubarak', 'indices': [0, 11]}, {...\n",
       "286  2020-05-23 17:10:52  [{'text': 'dmrc', 'indices': [0, 5]}, {'text':...\n",
       "\n",
       "[54029 rows x 2 columns]"
      ]
     },
     "execution_count": 7,
     "metadata": {},
     "output_type": "execute_result"
    }
   ],
   "source": [
    "reqd_data = [main_df['created_at'], main_df['entities_hashtags']]\n",
    "print(type(reqd_data))\n",
    "headers = [\"created_at\", \"entities_hashtags\"]\n",
    "reqd_df = pd.concat(reqd_data, axis = 1, keys=headers)\n",
    "reqd_df = reqd_df.dropna()\n",
    "reqd_df"
   ]
  },
  {
   "cell_type": "code",
   "execution_count": 8,
   "metadata": {},
   "outputs": [
    {
     "data": {
      "text/plain": [
       "(54029, 2)"
      ]
     },
     "execution_count": 8,
     "metadata": {},
     "output_type": "execute_result"
    }
   ],
   "source": [
    "reqd_df.shape"
   ]
  },
  {
   "cell_type": "code",
   "execution_count": 9,
   "metadata": {},
   "outputs": [
    {
     "data": {
      "text/html": [
       "<div>\n",
       "<style scoped>\n",
       "    .dataframe tbody tr th:only-of-type {\n",
       "        vertical-align: middle;\n",
       "    }\n",
       "\n",
       "    .dataframe tbody tr th {\n",
       "        vertical-align: top;\n",
       "    }\n",
       "\n",
       "    .dataframe thead th {\n",
       "        text-align: right;\n",
       "    }\n",
       "</style>\n",
       "<table border=\"1\" class=\"dataframe\">\n",
       "  <thead>\n",
       "    <tr style=\"text-align: right;\">\n",
       "      <th></th>\n",
       "      <th>time</th>\n",
       "      <th>hashtags</th>\n",
       "      <th>date</th>\n",
       "    </tr>\n",
       "  </thead>\n",
       "  <tbody>\n",
       "  </tbody>\n",
       "</table>\n",
       "</div>"
      ],
      "text/plain": [
       "Empty DataFrame\n",
       "Columns: [time, hashtags, date]\n",
       "Index: []"
      ]
     },
     "execution_count": 9,
     "metadata": {},
     "output_type": "execute_result"
    }
   ],
   "source": [
    "columns = {\"date\", \"time\", \"hashtags\"}\n",
    "split_df = pd.DataFrame(columns=columns)\n",
    "split_df"
   ]
  },
  {
   "cell_type": "code",
   "execution_count": 12,
   "metadata": {},
   "outputs": [],
   "source": [
    "# columns = {\"date\", \"time\", \"hashtags\"}\n",
    "# split_df = pd.DataFrame(columns=columns)\n",
    "# split_df\n",
    "# error_rows = []\n",
    "# temp = 0\n",
    "# for idx, row in reqd_df.iterrows():\n",
    "# #     print('Processing row '+ str(idx))\n",
    "#     text_values = []\n",
    "#     date, time = str(row.created_at).split()\n",
    "#     try:\n",
    "#         json_hashtags = json.loads(str(row.entities_hashtags).replace(\"'\", '\"'))\n",
    "# #         for value in json_hashtags[\"hashtags\"]:\n",
    "#         text_values.append(json_hashtags[\"text\"].lower())\n",
    "#         if len(text_values) != 0:\n",
    "#             temp_dict = {'date': date, 'hashtags': text_values, 'time': time}\n",
    "#         else:\n",
    "#             temp_dict = {'date': date, 'hashtags': NaN, 'time': time}\n",
    "#         split_df = split_df.append(temp_dict, ignore_index=True)\n",
    "#     except Exception as e:\n",
    "#         print(e)\n",
    "# #         print(\"error occurred while processing row \" + str(idx))\n",
    "#         error_rows.append(idx)"
   ]
  },
  {
   "cell_type": "code",
   "execution_count": 31,
   "metadata": {},
   "outputs": [
    {
     "name": "stdout",
     "output_type": "stream",
     "text": [
      "Processing row 0\n",
      "Processing row 500\n",
      "Processing row 1000\n",
      "Processing row 1500\n",
      "Processing row 2000\n",
      "Processing row 2500\n",
      "Processing row 3000\n",
      "Processing row 3500\n",
      "Processing row 4000\n",
      "Processing row 4500\n",
      "Processing row 5000\n",
      "Processing row 5500\n",
      "Processing row 6000\n",
      "Processing row 6500\n",
      "Processing row 7000\n",
      "Processing row 7500\n",
      "Processing row 8000\n",
      "Processing row 8500\n",
      "Processing row 9000\n",
      "Processing row 9500\n",
      "Processing row 10000\n",
      "Processing row 10500\n",
      "Processing row 11000\n",
      "Processing row 11500\n",
      "Processing row 12000\n",
      "Processing row 12500\n",
      "Processing row 13000\n",
      "Processing row 13500\n",
      "Processing row 14000\n",
      "Processing row 14500\n",
      "Processing row 15000\n",
      "Processing row 15500\n",
      "Processing row 16000\n",
      "Processing row 16500\n",
      "Processing row 17000\n",
      "Processing row 17500\n",
      "Processing row 18000\n",
      "Processing row 18500\n",
      "Processing row 19000\n",
      "Processing row 19500\n",
      "Processing row 20000\n",
      "Processing row 20500\n",
      "Processing row 21000\n",
      "Processing row 21500\n",
      "Processing row 22000\n",
      "Processing row 22500\n",
      "Processing row 23000\n",
      "Processing row 23500\n",
      "Processing row 24000\n",
      "Processing row 24500\n",
      "Processing row 25000\n",
      "Processing row 25500\n",
      "Processing row 26000\n",
      "Processing row 26500\n",
      "Processing row 27000\n",
      "Processing row 27500\n",
      "Processing row 28000\n",
      "Processing row 28500\n",
      "Processing row 29000\n",
      "Processing row 29500\n",
      "Processing row 30000\n",
      "Processing row 30500\n",
      "Processing row 31000\n",
      "Processing row 31500\n",
      "Processing row 32000\n",
      "Processing row 32500\n",
      "Processing row 33000\n",
      "Processing row 33500\n",
      "Processing row 34000\n",
      "Processing row 34500\n",
      "Processing row 35000\n",
      "Processing row 35500\n",
      "Processing row 36000\n",
      "Processing row 36500\n",
      "Processing row 37000\n",
      "Processing row 37500\n",
      "Processing row 38000\n",
      "Processing row 38500\n",
      "Processing row 39000\n",
      "Processing row 39500\n",
      "Processing row 40000\n",
      "Processing row 40500\n",
      "Processing row 41000\n",
      "Processing row 41500\n",
      "Processing row 42000\n",
      "Processing row 42500\n",
      "Processing row 43000\n",
      "Processing row 43500\n",
      "Processing row 44000\n",
      "Processing row 44500\n",
      "Processing row 45000\n",
      "Processing row 45500\n",
      "Processing row 46000\n",
      "Processing row 46500\n",
      "Processing row 47000\n",
      "Processing row 47500\n",
      "Processing row 48000\n",
      "Processing row 48500\n",
      "Processing row 49000\n",
      "Processing row 49500\n",
      "Processing row 50000\n",
      "Processing row 50500\n",
      "Processing row 51000\n",
      "Processing row 51500\n",
      "Processing row 52000\n",
      "Processing row 52500\n",
      "Processing row 53000\n",
      "Processing row 53500\n",
      "Processing row 54000\n"
     ]
    }
   ],
   "source": [
    "columns = {\"date\", \"time\", \"hashtags\"}\n",
    "split_df = pd.DataFrame(columns=columns)\n",
    "split_df\n",
    "error_rows = []\n",
    "temp = 0\n",
    "i = 0\n",
    "for idx, row in reqd_df.iterrows():\n",
    "    if i%500 == 0:\n",
    "        print('Processing row '+ str(i))\n",
    "    text_values = []\n",
    "    date, time = str(row.created_at).split()\n",
    "    try:\n",
    "        hashtags = json.loads(str(row.entities_hashtags).replace(\"'\", '\"'))\n",
    "        for hashtag in hashtags:\n",
    "            text_values.append(hashtag[\"text\"].lower())\n",
    "        if len(text_values) != 0:\n",
    "            temp_dict = {'date': date, 'hashtags': text_values, 'time': time}\n",
    "        else:\n",
    "            temp_dict = {'date': date, 'hashtags': NaN, 'time': time}\n",
    "        split_df = split_df.append(temp_dict, ignore_index=True)\n",
    "    except Exception as e:\n",
    "        print(e)\n",
    "#         print(\"error occurred while processing row \" + str(idx))\n",
    "        error_rows.append(idx)\n",
    "    i += 1"
   ]
  },
  {
   "cell_type": "code",
   "execution_count": 88,
   "metadata": {},
   "outputs": [
    {
     "data": {
      "text/html": [
       "<div>\n",
       "<style scoped>\n",
       "    .dataframe tbody tr th:only-of-type {\n",
       "        vertical-align: middle;\n",
       "    }\n",
       "\n",
       "    .dataframe tbody tr th {\n",
       "        vertical-align: top;\n",
       "    }\n",
       "\n",
       "    .dataframe thead th {\n",
       "        text-align: right;\n",
       "    }\n",
       "</style>\n",
       "<table border=\"1\" class=\"dataframe\">\n",
       "  <thead>\n",
       "    <tr style=\"text-align: right;\">\n",
       "      <th></th>\n",
       "      <th>time</th>\n",
       "      <th>hashtags</th>\n",
       "      <th>date</th>\n",
       "    </tr>\n",
       "  </thead>\n",
       "  <tbody>\n",
       "    <tr>\n",
       "      <th>4</th>\n",
       "      <td>04:01:59</td>\n",
       "      <td>[indiafightscorona]</td>\n",
       "      <td>2020-03-27</td>\n",
       "    </tr>\n",
       "    <tr>\n",
       "      <th>5</th>\n",
       "      <td>04:02:20</td>\n",
       "      <td>[serveinmylanguage]</td>\n",
       "      <td>2020-03-27</td>\n",
       "    </tr>\n",
       "    <tr>\n",
       "      <th>6</th>\n",
       "      <td>04:02:50</td>\n",
       "      <td>[bangalorepolice, bangalorelockdown]</td>\n",
       "      <td>2020-03-27</td>\n",
       "    </tr>\n",
       "    <tr>\n",
       "      <th>7</th>\n",
       "      <td>04:02:53</td>\n",
       "      <td>[coronavirus, covid2019, coronapandemie, coron...</td>\n",
       "      <td>2020-03-27</td>\n",
       "    </tr>\n",
       "    <tr>\n",
       "      <th>10</th>\n",
       "      <td>04:03:44</td>\n",
       "      <td>[chinesevirus19, sarcasmalert]</td>\n",
       "      <td>2020-03-27</td>\n",
       "    </tr>\n",
       "    <tr>\n",
       "      <th>...</th>\n",
       "      <td>...</td>\n",
       "      <td>...</td>\n",
       "      <td>...</td>\n",
       "    </tr>\n",
       "    <tr>\n",
       "      <th>54024</th>\n",
       "      <td>17:09:28</td>\n",
       "      <td>[aatmanirbharapnabharat]</td>\n",
       "      <td>2020-05-23</td>\n",
       "    </tr>\n",
       "    <tr>\n",
       "      <th>54025</th>\n",
       "      <td>17:09:39</td>\n",
       "      <td>[pmcaresfund]</td>\n",
       "      <td>2020-05-23</td>\n",
       "    </tr>\n",
       "    <tr>\n",
       "      <th>54026</th>\n",
       "      <td>17:10:17</td>\n",
       "      <td>[aatmanirbharapnabharat]</td>\n",
       "      <td>2020-05-23</td>\n",
       "    </tr>\n",
       "    <tr>\n",
       "      <th>54027</th>\n",
       "      <td>17:10:21</td>\n",
       "      <td>[eidmubarak, eidalfitr, romanreigns]</td>\n",
       "      <td>2020-05-23</td>\n",
       "    </tr>\n",
       "    <tr>\n",
       "      <th>54028</th>\n",
       "      <td>17:10:52</td>\n",
       "      <td>[dmrc, metro, corona, delhifightscorona]</td>\n",
       "      <td>2020-05-23</td>\n",
       "    </tr>\n",
       "  </tbody>\n",
       "</table>\n",
       "<p>22528 rows × 3 columns</p>\n",
       "</div>"
      ],
      "text/plain": [
       "           time                                           hashtags        date\n",
       "4      04:01:59                                [indiafightscorona]  2020-03-27\n",
       "5      04:02:20                                [serveinmylanguage]  2020-03-27\n",
       "6      04:02:50               [bangalorepolice, bangalorelockdown]  2020-03-27\n",
       "7      04:02:53  [coronavirus, covid2019, coronapandemie, coron...  2020-03-27\n",
       "10     04:03:44                     [chinesevirus19, sarcasmalert]  2020-03-27\n",
       "...         ...                                                ...         ...\n",
       "54024  17:09:28                           [aatmanirbharapnabharat]  2020-05-23\n",
       "54025  17:09:39                                      [pmcaresfund]  2020-05-23\n",
       "54026  17:10:17                           [aatmanirbharapnabharat]  2020-05-23\n",
       "54027  17:10:21               [eidmubarak, eidalfitr, romanreigns]  2020-05-23\n",
       "54028  17:10:52           [dmrc, metro, corona, delhifightscorona]  2020-05-23\n",
       "\n",
       "[22528 rows x 3 columns]"
      ]
     },
     "execution_count": 88,
     "metadata": {},
     "output_type": "execute_result"
    }
   ],
   "source": [
    "# json.loads(str(reqd_df.iloc[6].entities_hashtags).replace(\"'\", '\"'))\n",
    "# type(json.loads(str(reqd_df.iloc[6].entities_hashtags).replace(\"'\", '\"')))\n",
    "# x = json.loads(str(reqd_df.iloc[6].entities_hashtags).replace(\"'\", '\"'))[1]\n",
    "# x\n",
    "# type(x)\n",
    "# x['text']\n",
    "split_df"
   ]
  },
  {
   "cell_type": "code",
   "execution_count": 34,
   "metadata": {},
   "outputs": [],
   "source": [
    "split_df.to_csv('cleanedDataset\\split_df.csv', index=False)"
   ]
  },
  {
   "cell_type": "code",
   "execution_count": 189,
   "metadata": {},
   "outputs": [
    {
     "ename": "FileNotFoundError",
     "evalue": "[Errno 2] No such file or directory: 'cleanedDataset\\\\split_df_dropna.csv'",
     "output_type": "error",
     "traceback": [
      "\u001b[1;31m---------------------------------------------------------------------------\u001b[0m",
      "\u001b[1;31mFileNotFoundError\u001b[0m                         Traceback (most recent call last)",
      "\u001b[1;32m<ipython-input-189-38cc1a9af430>\u001b[0m in \u001b[0;36m<module>\u001b[1;34m\u001b[0m\n\u001b[0;32m      1\u001b[0m \u001b[0msplit_df\u001b[0m \u001b[1;33m=\u001b[0m \u001b[0msplit_df\u001b[0m\u001b[1;33m.\u001b[0m\u001b[0mdropna\u001b[0m\u001b[1;33m(\u001b[0m\u001b[1;33m)\u001b[0m\u001b[1;33m\u001b[0m\u001b[1;33m\u001b[0m\u001b[0m\n\u001b[1;32m----> 2\u001b[1;33m \u001b[0msplit_df\u001b[0m\u001b[1;33m.\u001b[0m\u001b[0mto_csv\u001b[0m\u001b[1;33m(\u001b[0m\u001b[1;34m'cleanedDataset\\split_df_dropna.csv'\u001b[0m\u001b[1;33m,\u001b[0m \u001b[0mindex\u001b[0m\u001b[1;33m=\u001b[0m\u001b[1;32mFalse\u001b[0m\u001b[1;33m)\u001b[0m\u001b[1;33m\u001b[0m\u001b[1;33m\u001b[0m\u001b[0m\n\u001b[0m",
      "\u001b[1;32m~\\anaconda3\\lib\\site-packages\\pandas\\core\\generic.py\u001b[0m in \u001b[0;36mto_csv\u001b[1;34m(self, path_or_buf, sep, na_rep, float_format, columns, header, index, index_label, mode, encoding, compression, quoting, quotechar, line_terminator, chunksize, date_format, doublequote, escapechar, decimal, errors)\u001b[0m\n\u001b[0;32m   3168\u001b[0m             \u001b[0mdecimal\u001b[0m\u001b[1;33m=\u001b[0m\u001b[0mdecimal\u001b[0m\u001b[1;33m,\u001b[0m\u001b[1;33m\u001b[0m\u001b[1;33m\u001b[0m\u001b[0m\n\u001b[0;32m   3169\u001b[0m         )\n\u001b[1;32m-> 3170\u001b[1;33m         \u001b[0mformatter\u001b[0m\u001b[1;33m.\u001b[0m\u001b[0msave\u001b[0m\u001b[1;33m(\u001b[0m\u001b[1;33m)\u001b[0m\u001b[1;33m\u001b[0m\u001b[1;33m\u001b[0m\u001b[0m\n\u001b[0m\u001b[0;32m   3171\u001b[0m \u001b[1;33m\u001b[0m\u001b[0m\n\u001b[0;32m   3172\u001b[0m         \u001b[1;32mif\u001b[0m \u001b[0mpath_or_buf\u001b[0m \u001b[1;32mis\u001b[0m \u001b[1;32mNone\u001b[0m\u001b[1;33m:\u001b[0m\u001b[1;33m\u001b[0m\u001b[1;33m\u001b[0m\u001b[0m\n",
      "\u001b[1;32m~\\anaconda3\\lib\\site-packages\\pandas\\io\\formats\\csvs.py\u001b[0m in \u001b[0;36msave\u001b[1;34m(self)\u001b[0m\n\u001b[0;32m    183\u001b[0m             \u001b[0mclose\u001b[0m \u001b[1;33m=\u001b[0m \u001b[1;32mFalse\u001b[0m\u001b[1;33m\u001b[0m\u001b[1;33m\u001b[0m\u001b[0m\n\u001b[0;32m    184\u001b[0m         \u001b[1;32melse\u001b[0m\u001b[1;33m:\u001b[0m\u001b[1;33m\u001b[0m\u001b[1;33m\u001b[0m\u001b[0m\n\u001b[1;32m--> 185\u001b[1;33m             f, handles = get_handle(\n\u001b[0m\u001b[0;32m    186\u001b[0m                 \u001b[0mself\u001b[0m\u001b[1;33m.\u001b[0m\u001b[0mpath_or_buf\u001b[0m\u001b[1;33m,\u001b[0m\u001b[1;33m\u001b[0m\u001b[1;33m\u001b[0m\u001b[0m\n\u001b[0;32m    187\u001b[0m                 \u001b[0mself\u001b[0m\u001b[1;33m.\u001b[0m\u001b[0mmode\u001b[0m\u001b[1;33m,\u001b[0m\u001b[1;33m\u001b[0m\u001b[1;33m\u001b[0m\u001b[0m\n",
      "\u001b[1;32m~\\anaconda3\\lib\\site-packages\\pandas\\io\\common.py\u001b[0m in \u001b[0;36mget_handle\u001b[1;34m(path_or_buf, mode, encoding, compression, memory_map, is_text, errors)\u001b[0m\n\u001b[0;32m    491\u001b[0m         \u001b[1;32mif\u001b[0m \u001b[0mencoding\u001b[0m\u001b[1;33m:\u001b[0m\u001b[1;33m\u001b[0m\u001b[1;33m\u001b[0m\u001b[0m\n\u001b[0;32m    492\u001b[0m             \u001b[1;31m# Encoding\u001b[0m\u001b[1;33m\u001b[0m\u001b[1;33m\u001b[0m\u001b[1;33m\u001b[0m\u001b[0m\n\u001b[1;32m--> 493\u001b[1;33m             \u001b[0mf\u001b[0m \u001b[1;33m=\u001b[0m \u001b[0mopen\u001b[0m\u001b[1;33m(\u001b[0m\u001b[0mpath_or_buf\u001b[0m\u001b[1;33m,\u001b[0m \u001b[0mmode\u001b[0m\u001b[1;33m,\u001b[0m \u001b[0mencoding\u001b[0m\u001b[1;33m=\u001b[0m\u001b[0mencoding\u001b[0m\u001b[1;33m,\u001b[0m \u001b[0merrors\u001b[0m\u001b[1;33m=\u001b[0m\u001b[0merrors\u001b[0m\u001b[1;33m,\u001b[0m \u001b[0mnewline\u001b[0m\u001b[1;33m=\u001b[0m\u001b[1;34m\"\"\u001b[0m\u001b[1;33m)\u001b[0m\u001b[1;33m\u001b[0m\u001b[1;33m\u001b[0m\u001b[0m\n\u001b[0m\u001b[0;32m    494\u001b[0m         \u001b[1;32melif\u001b[0m \u001b[0mis_text\u001b[0m\u001b[1;33m:\u001b[0m\u001b[1;33m\u001b[0m\u001b[1;33m\u001b[0m\u001b[0m\n\u001b[0;32m    495\u001b[0m             \u001b[1;31m# No explicit encoding\u001b[0m\u001b[1;33m\u001b[0m\u001b[1;33m\u001b[0m\u001b[1;33m\u001b[0m\u001b[0m\n",
      "\u001b[1;31mFileNotFoundError\u001b[0m: [Errno 2] No such file or directory: 'cleanedDataset\\\\split_df_dropna.csv'"
     ]
    }
   ],
   "source": [
    "split_df = split_df.dropna()\n",
    "split_df.to_csv('cleanedDataset\\split_df_dropna.csv', index=False)"
   ]
  },
  {
   "cell_type": "code",
   "execution_count": 190,
   "metadata": {},
   "outputs": [
    {
     "data": {
      "text/html": [
       "<div>\n",
       "<style scoped>\n",
       "    .dataframe tbody tr th:only-of-type {\n",
       "        vertical-align: middle;\n",
       "    }\n",
       "\n",
       "    .dataframe tbody tr th {\n",
       "        vertical-align: top;\n",
       "    }\n",
       "\n",
       "    .dataframe thead th {\n",
       "        text-align: right;\n",
       "    }\n",
       "</style>\n",
       "<table border=\"1\" class=\"dataframe\">\n",
       "  <thead>\n",
       "    <tr style=\"text-align: right;\">\n",
       "      <th></th>\n",
       "      <th>time</th>\n",
       "      <th>hashtags</th>\n",
       "      <th>date</th>\n",
       "    </tr>\n",
       "  </thead>\n",
       "  <tbody>\n",
       "    <tr>\n",
       "      <th>4</th>\n",
       "      <td>04:01:59</td>\n",
       "      <td>[indiafightscorona]</td>\n",
       "      <td>2020-03-27</td>\n",
       "    </tr>\n",
       "    <tr>\n",
       "      <th>5</th>\n",
       "      <td>04:02:20</td>\n",
       "      <td>[serveinmylanguage]</td>\n",
       "      <td>2020-03-27</td>\n",
       "    </tr>\n",
       "    <tr>\n",
       "      <th>6</th>\n",
       "      <td>04:02:50</td>\n",
       "      <td>[bangalorepolice, bangalorelockdown]</td>\n",
       "      <td>2020-03-27</td>\n",
       "    </tr>\n",
       "    <tr>\n",
       "      <th>7</th>\n",
       "      <td>04:02:53</td>\n",
       "      <td>[coronavirus, covid2019, coronapandemie, coron...</td>\n",
       "      <td>2020-03-27</td>\n",
       "    </tr>\n",
       "    <tr>\n",
       "      <th>10</th>\n",
       "      <td>04:03:44</td>\n",
       "      <td>[chinesevirus19, sarcasmalert]</td>\n",
       "      <td>2020-03-27</td>\n",
       "    </tr>\n",
       "    <tr>\n",
       "      <th>...</th>\n",
       "      <td>...</td>\n",
       "      <td>...</td>\n",
       "      <td>...</td>\n",
       "    </tr>\n",
       "    <tr>\n",
       "      <th>54024</th>\n",
       "      <td>17:09:28</td>\n",
       "      <td>[aatmanirbharapnabharat]</td>\n",
       "      <td>2020-05-23</td>\n",
       "    </tr>\n",
       "    <tr>\n",
       "      <th>54025</th>\n",
       "      <td>17:09:39</td>\n",
       "      <td>[pmcaresfund]</td>\n",
       "      <td>2020-05-23</td>\n",
       "    </tr>\n",
       "    <tr>\n",
       "      <th>54026</th>\n",
       "      <td>17:10:17</td>\n",
       "      <td>[aatmanirbharapnabharat]</td>\n",
       "      <td>2020-05-23</td>\n",
       "    </tr>\n",
       "    <tr>\n",
       "      <th>54027</th>\n",
       "      <td>17:10:21</td>\n",
       "      <td>[eidmubarak, eidalfitr, romanreigns]</td>\n",
       "      <td>2020-05-23</td>\n",
       "    </tr>\n",
       "    <tr>\n",
       "      <th>54028</th>\n",
       "      <td>17:10:52</td>\n",
       "      <td>[dmrc, metro, corona, delhifightscorona]</td>\n",
       "      <td>2020-05-23</td>\n",
       "    </tr>\n",
       "  </tbody>\n",
       "</table>\n",
       "<p>22528 rows × 3 columns</p>\n",
       "</div>"
      ],
      "text/plain": [
       "           time                                           hashtags        date\n",
       "4      04:01:59                                [indiafightscorona]  2020-03-27\n",
       "5      04:02:20                                [serveinmylanguage]  2020-03-27\n",
       "6      04:02:50               [bangalorepolice, bangalorelockdown]  2020-03-27\n",
       "7      04:02:53  [coronavirus, covid2019, coronapandemie, coron...  2020-03-27\n",
       "10     04:03:44                     [chinesevirus19, sarcasmalert]  2020-03-27\n",
       "...         ...                                                ...         ...\n",
       "54024  17:09:28                           [aatmanirbharapnabharat]  2020-05-23\n",
       "54025  17:09:39                                      [pmcaresfund]  2020-05-23\n",
       "54026  17:10:17                           [aatmanirbharapnabharat]  2020-05-23\n",
       "54027  17:10:21               [eidmubarak, eidalfitr, romanreigns]  2020-05-23\n",
       "54028  17:10:52           [dmrc, metro, corona, delhifightscorona]  2020-05-23\n",
       "\n",
       "[22528 rows x 3 columns]"
      ]
     },
     "execution_count": 190,
     "metadata": {},
     "output_type": "execute_result"
    }
   ],
   "source": [
    "split_df"
   ]
  },
  {
   "cell_type": "code",
   "execution_count": 89,
   "metadata": {},
   "outputs": [
    {
     "data": {
      "text/plain": [
       "4                                      [indiafightscorona]\n",
       "5                                      [serveinmylanguage]\n",
       "6                     [bangalorepolice, bangalorelockdown]\n",
       "7        [coronavirus, covid2019, coronapandemie, coron...\n",
       "10                          [chinesevirus19, sarcasmalert]\n",
       "                               ...                        \n",
       "54024                             [aatmanirbharapnabharat]\n",
       "54025                                        [pmcaresfund]\n",
       "54026                             [aatmanirbharapnabharat]\n",
       "54027                 [eidmubarak, eidalfitr, romanreigns]\n",
       "54028             [dmrc, metro, corona, delhifightscorona]\n",
       "Name: hashtags, Length: 22528, dtype: object"
      ]
     },
     "execution_count": 89,
     "metadata": {},
     "output_type": "execute_result"
    }
   ],
   "source": [
    "hashtags_split_series = split_df['hashtags']\n",
    "hashtags_split_series"
   ]
  },
  {
   "cell_type": "code",
   "execution_count": null,
   "metadata": {},
   "outputs": [],
   "source": []
  },
  {
   "cell_type": "code",
   "execution_count": 39,
   "metadata": {},
   "outputs": [],
   "source": [
    "all_hashtags = []\n",
    "for index, list_hashtags in hashtags_split_series.iteritems():\n",
    "    for hashtag in list_hashtags:\n",
    "        all_hashtags.append(hashtag)"
   ]
  },
  {
   "cell_type": "code",
   "execution_count": 41,
   "metadata": {},
   "outputs": [
    {
     "name": "stdout",
     "output_type": "stream",
     "text": [
      "Total number of hashtags used: 74704\n"
     ]
    }
   ],
   "source": [
    "print('Total number of hashtags used: ' + str(len(all_hashtags)))"
   ]
  },
  {
   "cell_type": "code",
   "execution_count": 42,
   "metadata": {},
   "outputs": [
    {
     "name": "stdout",
     "output_type": "stream",
     "text": [
      "Total number of unique hashtags: 16283\n"
     ]
    }
   ],
   "source": [
    "all_hashtags_set = set(all_hashtags)\n",
    "all_hastags_set = list(all_hashtags_set)\n",
    "print('Total number of unique hashtags: ' + str(len(all_hashtags_set)))"
   ]
  },
  {
   "cell_type": "code",
   "execution_count": 43,
   "metadata": {},
   "outputs": [
    {
     "data": {
      "text/plain": [
       "corona               4213\n",
       "covid19              4101\n",
       "coronavirus          2538\n",
       "indiafightscorona    1638\n",
       "covid                1553\n",
       "                     ... \n",
       "oracareprime            1\n",
       "44day                   1\n",
       "fm                      1\n",
       "jc                      1\n",
       "sundaytask              1\n",
       "Name: hashtag_text, Length: 16283, dtype: int64"
      ]
     },
     "execution_count": 43,
     "metadata": {},
     "output_type": "execute_result"
    }
   ],
   "source": [
    "temp_df = pd.DataFrame(columns={\"hashtag_text\"})\n",
    "temp_df[\"hashtag_text\"] = all_hashtags\n",
    "temp_df[\"hashtag_text\"].value_counts()"
   ]
  },
  {
   "cell_type": "code",
   "execution_count": 90,
   "metadata": {},
   "outputs": [
    {
     "data": {
      "text/html": [
       "<div>\n",
       "<style scoped>\n",
       "    .dataframe tbody tr th:only-of-type {\n",
       "        vertical-align: middle;\n",
       "    }\n",
       "\n",
       "    .dataframe tbody tr th {\n",
       "        vertical-align: top;\n",
       "    }\n",
       "\n",
       "    .dataframe thead th {\n",
       "        text-align: right;\n",
       "    }\n",
       "</style>\n",
       "<table border=\"1\" class=\"dataframe\">\n",
       "  <thead>\n",
       "    <tr style=\"text-align: right;\">\n",
       "      <th></th>\n",
       "      <th>hashtag_text</th>\n",
       "    </tr>\n",
       "  </thead>\n",
       "  <tbody>\n",
       "    <tr>\n",
       "      <th>0</th>\n",
       "      <td>indiafightscorona</td>\n",
       "    </tr>\n",
       "    <tr>\n",
       "      <th>1</th>\n",
       "      <td>serveinmylanguage</td>\n",
       "    </tr>\n",
       "    <tr>\n",
       "      <th>2</th>\n",
       "      <td>bangalorepolice</td>\n",
       "    </tr>\n",
       "    <tr>\n",
       "      <th>3</th>\n",
       "      <td>bangalorelockdown</td>\n",
       "    </tr>\n",
       "    <tr>\n",
       "      <th>4</th>\n",
       "      <td>coronavirus</td>\n",
       "    </tr>\n",
       "    <tr>\n",
       "      <th>...</th>\n",
       "      <td>...</td>\n",
       "    </tr>\n",
       "    <tr>\n",
       "      <th>74699</th>\n",
       "      <td>romanreigns</td>\n",
       "    </tr>\n",
       "    <tr>\n",
       "      <th>74700</th>\n",
       "      <td>dmrc</td>\n",
       "    </tr>\n",
       "    <tr>\n",
       "      <th>74701</th>\n",
       "      <td>metro</td>\n",
       "    </tr>\n",
       "    <tr>\n",
       "      <th>74702</th>\n",
       "      <td>corona</td>\n",
       "    </tr>\n",
       "    <tr>\n",
       "      <th>74703</th>\n",
       "      <td>delhifightscorona</td>\n",
       "    </tr>\n",
       "  </tbody>\n",
       "</table>\n",
       "<p>74704 rows × 1 columns</p>\n",
       "</div>"
      ],
      "text/plain": [
       "            hashtag_text\n",
       "0      indiafightscorona\n",
       "1      serveinmylanguage\n",
       "2        bangalorepolice\n",
       "3      bangalorelockdown\n",
       "4            coronavirus\n",
       "...                  ...\n",
       "74699        romanreigns\n",
       "74700               dmrc\n",
       "74701              metro\n",
       "74702             corona\n",
       "74703  delhifightscorona\n",
       "\n",
       "[74704 rows x 1 columns]"
      ]
     },
     "execution_count": 90,
     "metadata": {},
     "output_type": "execute_result"
    }
   ],
   "source": [
    "temp_df"
   ]
  },
  {
   "cell_type": "code",
   "execution_count": 44,
   "metadata": {},
   "outputs": [
    {
     "name": "stdout",
     "output_type": "stream",
     "text": [
      "Number of rows: 74704\n"
     ]
    },
    {
     "data": {
      "text/plain": [
       "corona               4213\n",
       "covid19              4101\n",
       "coronavirus          2538\n",
       "indiafightscorona    1638\n",
       "covid                1553\n",
       "                     ... \n",
       "oracareprime            1\n",
       "44day                   1\n",
       "fm                      1\n",
       "jc                      1\n",
       "sundaytask              1\n",
       "Name: hashtags, Length: 16283, dtype: int64"
      ]
     },
     "execution_count": 44,
     "metadata": {},
     "output_type": "execute_result"
    }
   ],
   "source": [
    "split_df_explode = split_df.explode('hashtags')\n",
    "print(\"Number of rows: \"+ str(split_df_explode.shape[0]))\n",
    "split_df_explode['hashtags'].value_counts()"
   ]
  },
  {
   "cell_type": "code",
   "execution_count": 93,
   "metadata": {},
   "outputs": [],
   "source": [
    "split_df_explode.to_csv('cleanDatasets\\split_df_explode.csv', index=False)"
   ]
  },
  {
   "cell_type": "code",
   "execution_count": 45,
   "metadata": {},
   "outputs": [
    {
     "data": {
      "text/html": [
       "<div>\n",
       "<style scoped>\n",
       "    .dataframe tbody tr th:only-of-type {\n",
       "        vertical-align: middle;\n",
       "    }\n",
       "\n",
       "    .dataframe tbody tr th {\n",
       "        vertical-align: top;\n",
       "    }\n",
       "\n",
       "    .dataframe thead th {\n",
       "        text-align: right;\n",
       "    }\n",
       "</style>\n",
       "<table border=\"1\" class=\"dataframe\">\n",
       "  <thead>\n",
       "    <tr style=\"text-align: right;\">\n",
       "      <th></th>\n",
       "      <th>time</th>\n",
       "      <th>hashtags</th>\n",
       "      <th>date</th>\n",
       "    </tr>\n",
       "  </thead>\n",
       "  <tbody>\n",
       "    <tr>\n",
       "      <th>4</th>\n",
       "      <td>04:01:59</td>\n",
       "      <td>indiafightscorona</td>\n",
       "      <td>2020-03-27</td>\n",
       "    </tr>\n",
       "    <tr>\n",
       "      <th>5</th>\n",
       "      <td>04:02:20</td>\n",
       "      <td>serveinmylanguage</td>\n",
       "      <td>2020-03-27</td>\n",
       "    </tr>\n",
       "    <tr>\n",
       "      <th>6</th>\n",
       "      <td>04:02:50</td>\n",
       "      <td>bangalorepolice</td>\n",
       "      <td>2020-03-27</td>\n",
       "    </tr>\n",
       "    <tr>\n",
       "      <th>6</th>\n",
       "      <td>04:02:50</td>\n",
       "      <td>bangalorelockdown</td>\n",
       "      <td>2020-03-27</td>\n",
       "    </tr>\n",
       "    <tr>\n",
       "      <th>7</th>\n",
       "      <td>04:02:53</td>\n",
       "      <td>coronavirus</td>\n",
       "      <td>2020-03-27</td>\n",
       "    </tr>\n",
       "    <tr>\n",
       "      <th>...</th>\n",
       "      <td>...</td>\n",
       "      <td>...</td>\n",
       "      <td>...</td>\n",
       "    </tr>\n",
       "    <tr>\n",
       "      <th>54027</th>\n",
       "      <td>17:10:21</td>\n",
       "      <td>romanreigns</td>\n",
       "      <td>2020-05-23</td>\n",
       "    </tr>\n",
       "    <tr>\n",
       "      <th>54028</th>\n",
       "      <td>17:10:52</td>\n",
       "      <td>dmrc</td>\n",
       "      <td>2020-05-23</td>\n",
       "    </tr>\n",
       "    <tr>\n",
       "      <th>54028</th>\n",
       "      <td>17:10:52</td>\n",
       "      <td>metro</td>\n",
       "      <td>2020-05-23</td>\n",
       "    </tr>\n",
       "    <tr>\n",
       "      <th>54028</th>\n",
       "      <td>17:10:52</td>\n",
       "      <td>corona</td>\n",
       "      <td>2020-05-23</td>\n",
       "    </tr>\n",
       "    <tr>\n",
       "      <th>54028</th>\n",
       "      <td>17:10:52</td>\n",
       "      <td>delhifightscorona</td>\n",
       "      <td>2020-05-23</td>\n",
       "    </tr>\n",
       "  </tbody>\n",
       "</table>\n",
       "<p>74704 rows × 3 columns</p>\n",
       "</div>"
      ],
      "text/plain": [
       "           time           hashtags        date\n",
       "4      04:01:59  indiafightscorona  2020-03-27\n",
       "5      04:02:20  serveinmylanguage  2020-03-27\n",
       "6      04:02:50    bangalorepolice  2020-03-27\n",
       "6      04:02:50  bangalorelockdown  2020-03-27\n",
       "7      04:02:53        coronavirus  2020-03-27\n",
       "...         ...                ...         ...\n",
       "54027  17:10:21        romanreigns  2020-05-23\n",
       "54028  17:10:52               dmrc  2020-05-23\n",
       "54028  17:10:52              metro  2020-05-23\n",
       "54028  17:10:52             corona  2020-05-23\n",
       "54028  17:10:52  delhifightscorona  2020-05-23\n",
       "\n",
       "[74704 rows x 3 columns]"
      ]
     },
     "execution_count": 45,
     "metadata": {},
     "output_type": "execute_result"
    }
   ],
   "source": [
    "split_df_explode_sorted = split_df_explode.sort_values(by=[\"date\", \"time\"])\n",
    "split_df_explode_sorted"
   ]
  },
  {
   "cell_type": "code",
   "execution_count": 46,
   "metadata": {},
   "outputs": [
    {
     "data": {
      "text/plain": [
       "[1544, 1360, 1028, 835, 816, 589, 571, 414, 321, 297]"
      ]
     },
     "execution_count": 46,
     "metadata": {},
     "output_type": "execute_result"
    }
   ],
   "source": [
    "list_value_counts = list(split_df_explode['hashtags'].value_counts())\n",
    "list_value_counts[5:15]"
   ]
  },
  {
   "cell_type": "code",
   "execution_count": 47,
   "metadata": {},
   "outputs": [],
   "source": [
    "def number_of_list_elems_greater_than_certain_value(x: list, val: int) -> int:\n",
    "    count = 0\n",
    "    for value in x:\n",
    "        if(value >= val):\n",
    "            count += 1\n",
    "        else:\n",
    "            break\n",
    "    return count"
   ]
  },
  {
   "cell_type": "code",
   "execution_count": 48,
   "metadata": {},
   "outputs": [
    {
     "data": {
      "text/plain": [
       "58"
      ]
     },
     "execution_count": 48,
     "metadata": {},
     "output_type": "execute_result"
    }
   ],
   "source": [
    "number_of_list_elems_greater_than_certain_value(list_value_counts, 100)"
   ]
  },
  {
   "cell_type": "code",
   "execution_count": 49,
   "metadata": {},
   "outputs": [
    {
     "data": {
      "text/plain": [
       "156"
      ]
     },
     "execution_count": 49,
     "metadata": {},
     "output_type": "execute_result"
    }
   ],
   "source": [
    "number_of_list_elems_greater_than_certain_value(list_value_counts, 50)"
   ]
  },
  {
   "cell_type": "code",
   "execution_count": 200,
   "metadata": {},
   "outputs": [],
   "source": [
    "import datetime\n",
    "time_df = pd.DataFrame(columns={'hashtag','date_datetime', 'time_datetime'})\n",
    "# for idx, row in split_df_explode_sorted.iterrows():\n",
    "#     date = datetime.datetime.strptime(row.date, '%y-%m-%d')\n",
    "#     time = datetime.datetime.strptime(row.time, '%h:%m:%s')\n",
    "#     temp_dict = {'date': row.date, 'date_date': date, 'time_date': time}\n",
    "#     time_df.append(temp_dict, ignore_index=True)\n",
    "# split_df_explode_join = pd.DataFrame.join(split_explode_df, time_df)\n",
    "time_df['hashtag'] = split_df_explode_sorted['hashtags']\n",
    "time_df['date_datetime'] = pd.to_datetime(split_df_explode_sorted['date'])\n",
    "time_df['time_datetime'] = split_df_explode_sorted['time']"
   ]
  },
  {
   "cell_type": "code",
   "execution_count": 201,
   "metadata": {},
   "outputs": [
    {
     "data": {
      "text/html": [
       "<div>\n",
       "<style scoped>\n",
       "    .dataframe tbody tr th:only-of-type {\n",
       "        vertical-align: middle;\n",
       "    }\n",
       "\n",
       "    .dataframe tbody tr th {\n",
       "        vertical-align: top;\n",
       "    }\n",
       "\n",
       "    .dataframe thead th {\n",
       "        text-align: right;\n",
       "    }\n",
       "</style>\n",
       "<table border=\"1\" class=\"dataframe\">\n",
       "  <thead>\n",
       "    <tr style=\"text-align: right;\">\n",
       "      <th></th>\n",
       "      <th>date_datetime</th>\n",
       "      <th>hashtag</th>\n",
       "      <th>time_datetime</th>\n",
       "    </tr>\n",
       "  </thead>\n",
       "  <tbody>\n",
       "    <tr>\n",
       "      <th>4</th>\n",
       "      <td>2020-03-27</td>\n",
       "      <td>indiafightscorona</td>\n",
       "      <td>04:01:59</td>\n",
       "    </tr>\n",
       "    <tr>\n",
       "      <th>5</th>\n",
       "      <td>2020-03-27</td>\n",
       "      <td>serveinmylanguage</td>\n",
       "      <td>04:02:20</td>\n",
       "    </tr>\n",
       "    <tr>\n",
       "      <th>6</th>\n",
       "      <td>2020-03-27</td>\n",
       "      <td>bangalorepolice</td>\n",
       "      <td>04:02:50</td>\n",
       "    </tr>\n",
       "    <tr>\n",
       "      <th>6</th>\n",
       "      <td>2020-03-27</td>\n",
       "      <td>bangalorelockdown</td>\n",
       "      <td>04:02:50</td>\n",
       "    </tr>\n",
       "    <tr>\n",
       "      <th>7</th>\n",
       "      <td>2020-03-27</td>\n",
       "      <td>coronavirus</td>\n",
       "      <td>04:02:53</td>\n",
       "    </tr>\n",
       "    <tr>\n",
       "      <th>...</th>\n",
       "      <td>...</td>\n",
       "      <td>...</td>\n",
       "      <td>...</td>\n",
       "    </tr>\n",
       "    <tr>\n",
       "      <th>54027</th>\n",
       "      <td>2020-05-23</td>\n",
       "      <td>romanreigns</td>\n",
       "      <td>17:10:21</td>\n",
       "    </tr>\n",
       "    <tr>\n",
       "      <th>54028</th>\n",
       "      <td>2020-05-23</td>\n",
       "      <td>dmrc</td>\n",
       "      <td>17:10:52</td>\n",
       "    </tr>\n",
       "    <tr>\n",
       "      <th>54028</th>\n",
       "      <td>2020-05-23</td>\n",
       "      <td>metro</td>\n",
       "      <td>17:10:52</td>\n",
       "    </tr>\n",
       "    <tr>\n",
       "      <th>54028</th>\n",
       "      <td>2020-05-23</td>\n",
       "      <td>corona</td>\n",
       "      <td>17:10:52</td>\n",
       "    </tr>\n",
       "    <tr>\n",
       "      <th>54028</th>\n",
       "      <td>2020-05-23</td>\n",
       "      <td>delhifightscorona</td>\n",
       "      <td>17:10:52</td>\n",
       "    </tr>\n",
       "  </tbody>\n",
       "</table>\n",
       "<p>74704 rows × 3 columns</p>\n",
       "</div>"
      ],
      "text/plain": [
       "      date_datetime            hashtag time_datetime\n",
       "4        2020-03-27  indiafightscorona      04:01:59\n",
       "5        2020-03-27  serveinmylanguage      04:02:20\n",
       "6        2020-03-27    bangalorepolice      04:02:50\n",
       "6        2020-03-27  bangalorelockdown      04:02:50\n",
       "7        2020-03-27        coronavirus      04:02:53\n",
       "...             ...                ...           ...\n",
       "54027    2020-05-23        romanreigns      17:10:21\n",
       "54028    2020-05-23               dmrc      17:10:52\n",
       "54028    2020-05-23              metro      17:10:52\n",
       "54028    2020-05-23             corona      17:10:52\n",
       "54028    2020-05-23  delhifightscorona      17:10:52\n",
       "\n",
       "[74704 rows x 3 columns]"
      ]
     },
     "execution_count": 201,
     "metadata": {},
     "output_type": "execute_result"
    }
   ],
   "source": [
    "time_df"
   ]
  },
  {
   "cell_type": "code",
   "execution_count": 202,
   "metadata": {},
   "outputs": [],
   "source": [
    "def get_hashtag_data(hashtag: str , df: pd.DataFrame()):\n",
    "    temp_df = df[df.hashtag == hashtag]\n",
    "    return temp_df"
   ]
  },
  {
   "cell_type": "code",
   "execution_count": 203,
   "metadata": {},
   "outputs": [
    {
     "data": {
      "text/plain": [
       "date_datetime\n",
       "2020-03-27    398\n",
       "2020-03-28    481\n",
       "2020-03-29    170\n",
       "2020-03-30    255\n",
       "2020-03-31    455\n",
       "2020-04-01    348\n",
       "2020-04-02     96\n",
       "2020-04-14    203\n",
       "2020-04-15    175\n",
       "2020-04-16    254\n",
       "2020-04-17    164\n",
       "2020-04-18    123\n",
       "2020-04-19     83\n",
       "2020-04-20     66\n",
       "2020-04-21     18\n",
       "2020-05-01     63\n",
       "2020-05-02     87\n",
       "2020-05-03     78\n",
       "2020-05-04     71\n",
       "2020-05-05     56\n",
       "2020-05-06     72\n",
       "2020-05-07      3\n",
       "2020-05-18     74\n",
       "2020-05-19    130\n",
       "2020-05-20     66\n",
       "2020-05-21     89\n",
       "2020-05-22     69\n",
       "2020-05-23     66\n",
       "dtype: int64"
      ]
     },
     "execution_count": 203,
     "metadata": {},
     "output_type": "execute_result"
    }
   ],
   "source": [
    "x = get_hashtag_data('corona', time_df)\n",
    "x.groupby(['date_datetime']).size()"
   ]
  },
  {
   "cell_type": "code",
   "execution_count": 204,
   "metadata": {},
   "outputs": [
    {
     "name": "stdout",
     "output_type": "stream",
     "text": [
      "date_datetime\n",
      "2020-03-27    26\n",
      "2020-03-28    15\n",
      "2020-03-29     7\n",
      "2020-03-30    17\n",
      "2020-03-31    15\n",
      "2020-04-01    13\n",
      "2020-04-02     8\n",
      "2020-04-14     1\n",
      "2020-04-15     2\n",
      "2020-04-16     1\n",
      "2020-04-17     1\n",
      "2020-04-19     3\n",
      "dtype: int64\n",
      "Dtype is: <class 'pandas.core.series.Series'>\n"
     ]
    }
   ],
   "source": [
    "x = get_hashtag_data('21daylockdown', time_df)\n",
    "print(x.groupby(['date_datetime']).size())\n",
    "print('Dtype is: ' + str(type(x.groupby(['date_datetime']).size())))"
   ]
  },
  {
   "cell_type": "code",
   "execution_count": 205,
   "metadata": {},
   "outputs": [],
   "source": [
    "time_df.to_csv(path_or_buf=r'cleanDatasets\\time_df.csv', date_format='%Y-%m-%d', index=False)"
   ]
  },
  {
   "cell_type": "code",
   "execution_count": 206,
   "metadata": {},
   "outputs": [
    {
     "data": {
      "text/plain": [
       "date_datetime\n",
       "2020-03-27    398\n",
       "2020-03-28    481\n",
       "2020-03-29    170\n",
       "2020-03-30    255\n",
       "2020-03-31    455\n",
       "2020-04-01    348\n",
       "2020-04-02     96\n",
       "2020-04-14    203\n",
       "2020-04-15    175\n",
       "2020-04-16    254\n",
       "2020-04-17    164\n",
       "2020-04-18    123\n",
       "2020-04-19     83\n",
       "2020-04-20     66\n",
       "2020-04-21     18\n",
       "2020-05-01     63\n",
       "2020-05-02     87\n",
       "2020-05-03     78\n",
       "2020-05-04     71\n",
       "2020-05-05     56\n",
       "2020-05-06     72\n",
       "2020-05-07      3\n",
       "2020-05-18     74\n",
       "2020-05-19    130\n",
       "2020-05-20     66\n",
       "2020-05-21     89\n",
       "2020-05-22     69\n",
       "2020-05-23     66\n",
       "dtype: int64"
      ]
     },
     "execution_count": 206,
     "metadata": {},
     "output_type": "execute_result"
    }
   ],
   "source": [
    "x = get_hashtag_data('corona', time_df)\n",
    "x = x.groupby(['date_datetime']).size()\n",
    "x"
   ]
  },
  {
   "cell_type": "code",
   "execution_count": 207,
   "metadata": {},
   "outputs": [
    {
     "data": {
      "image/png": "[encoded data removed]",
      "text/plain": [
       "<Figure size 432x288 with 1 Axes>"
      ]
     },
     "metadata": {
      "needs_background": "light"
     },
     "output_type": "display_data"
    }
   ],
   "source": [
    "\n",
    "fig, ax = plt.subplots()\n",
    "ax.plot(x, marker='o', linestyle='-')\n",
    "ax.set_ylabel('#Tweets')\n",
    "ax.set_title('Frequency of tweets with #Covid')\n",
    "ax.xaxis.set_major_locator(mdates.WeekdayLocator(byweekday=mdates.MONDAY))\n",
    "ax.xaxis.set_major_formatter(mdates.DateFormatter('%b %d'));"
   ]
  },
  {
   "cell_type": "code",
   "execution_count": 322,
   "metadata": {},
   "outputs": [],
   "source": [
    "def plot_frequency_of_tweets(hashtag: str, df: pd.DataFrame(), save= False, filename=None):\n",
    "    temp = df[df.hashtag == hashtag]\n",
    "    temp = temp.groupby(['date_datetime']).size()\n",
    "    fig, ax = plt.subplots()\n",
    "    ax.plot(temp, marker='o', linestyle='-')\n",
    "    ax.set_ylabel('#Tweets')\n",
    "    ax.set_title(f'Frequency of tweets with #{hashtag}')\n",
    "    ax.xaxis.set_major_locator(mdates.WeekdayLocator(byweekday=mdates.MONDAY))\n",
    "    ax.xaxis.set_major_formatter(mdates.DateFormatter('%b %d'));\n",
    "    if save:\n",
    "        if filename is not None:\n",
    "            plt.savefig(filename)\n",
    "        else:\n",
    "            filepath='customPlots\\\\hashtags\\\\'+hashtag\n",
    "            plt.savefig(filepath)\n",
    "    return fig"
   ]
  },
  {
   "cell_type": "code",
   "execution_count": 323,
   "metadata": {},
   "outputs": [
    {
     "data": {
      "image/png": "[encoded data removed]",
      "text/plain": [
       "<Figure size 432x288 with 1 Axes>"
      ]
     },
     "metadata": {
      "needs_background": "light"
     },
     "output_type": "display_data"
    }
   ],
   "source": [
    "fig = plot_frequency_of_tweets(hashtag='corona', df=time_df, save=True, filename='customPlots\\\\hashtags\\\\corona')"
   ]
  },
  {
   "cell_type": "code",
   "execution_count": 324,
   "metadata": {},
   "outputs": [
    {
     "data": {
      "image/png": "[encoded data removed]",
      "text/plain": [
       "<Figure size 432x288 with 1 Axes>"
      ]
     },
     "metadata": {
      "needs_background": "light"
     },
     "output_type": "display_data"
    }
   ],
   "source": [
    "fig = plot_frequency_of_tweets(hashtag='21daylockdown', df=time_df, save=True)"
   ]
  },
  {
   "cell_type": "code",
   "execution_count": 327,
   "metadata": {},
   "outputs": [
    {
     "data": {
      "image/png": "[encoded data removed]",
      "text/plain": [
       "<Figure size 432x288 with 1 Axes>"
      ]
     },
     "metadata": {
      "needs_background": "light"
     },
     "output_type": "display_data"
    }
   ],
   "source": [
    "fig = plot_frequency_of_tweets(hashtag='covid', df=time_df, save=True)"
   ]
  },
  {
   "cell_type": "code",
   "execution_count": 328,
   "metadata": {},
   "outputs": [
    {
     "data": {
      "image/png": "[encoded data removed]",
      "text/plain": [
       "<Figure size 432x288 with 1 Axes>"
      ]
     },
     "metadata": {
      "needs_background": "light"
     },
     "output_type": "display_data"
    }
   ],
   "source": [
    "fig = plot_frequency_of_tweets(hashtag='china', df=time_df, save=True)"
   ]
  },
  {
   "cell_type": "code",
   "execution_count": 329,
   "metadata": {},
   "outputs": [
    {
     "data": {
      "image/png": "[encoded data removed]",
      "text/plain": [
       "<Figure size 432x288 with 1 Axes>"
      ]
     },
     "metadata": {
      "needs_background": "light"
     },
     "output_type": "display_data"
    }
   ],
   "source": [
    "fig = plot_frequency_of_tweets(hashtag='chinesevirus', df=time_df, save=True)"
   ]
  },
  {
   "cell_type": "code",
   "execution_count": 330,
   "metadata": {},
   "outputs": [
    {
     "data": {
      "image/png": "[encoded data removed]",
      "text/plain": [
       "<Figure size 432x288 with 1 Axes>"
      ]
     },
     "metadata": {
      "needs_background": "light"
     },
     "output_type": "display_data"
    }
   ],
   "source": [
    "fig = plot_frequency_of_tweets(hashtag='modi', df=time_df, save=True)"
   ]
  },
  {
   "cell_type": "code",
   "execution_count": 331,
   "metadata": {},
   "outputs": [
    {
     "data": {
      "image/png": "[encoded data removed]",
      "text/plain": [
       "<Figure size 432x288 with 1 Axes>"
      ]
     },
     "metadata": {
      "needs_background": "light"
     },
     "output_type": "display_data"
    }
   ],
   "source": [
    "fig = plot_frequency_of_tweets(hashtag='india', df=time_df, save=True)"
   ]
  },
  {
   "cell_type": "code",
   "execution_count": 216,
   "metadata": {},
   "outputs": [],
   "source": [
    "def plot_multiple_frequencies(hashtags: List[str], df: pd.DataFrame()):\n",
    "    data = []\n",
    "    print(\"Length is \" + str(len(hashtags)))\n",
    "    fig, axs = plt.subplots(len(hashtags))\n",
    "    for hashtag in hashtags:\n",
    "        print(\"hashtag\")\n",
    "        temp = df[df.hashtag == hashtag]\n",
    "        temp = temp.groupby(['date_datetime']).size()\n",
    "        data.append(temp)\n",
    "    ite = 0\n",
    "    for item in data:\n",
    "        axs[ite].plot(item, marker='o', linestyle='-')\n",
    "        ite += 1\n",
    "    ax.set_ylabel('#Tweets')\n",
    "    ax.set_title(f'Frequency of tweets with multiple hashtags')\n",
    "    ax.xaxis.set_major_locator(mdates.WeekdayLocator(byweekday=mdates.MONDAY))\n",
    "    ax.xaxis.set_major_formatter(mdates.DateFormatter('%b %d'));\n",
    "    return fig"
   ]
  },
  {
   "cell_type": "code",
   "execution_count": 217,
   "metadata": {},
   "outputs": [],
   "source": [
    "# plot_multiple_frequencies(hashtags=[\"corona\", \"covid\"], df=time_df)"
   ]
  },
  {
   "cell_type": "code",
   "execution_count": 218,
   "metadata": {},
   "outputs": [
    {
     "data": {
      "text/plain": [
       "date_datetime\n",
       "2020-03-27    398\n",
       "2020-03-28    481\n",
       "2020-03-29    170\n",
       "2020-03-30    255\n",
       "2020-03-31    455\n",
       "2020-04-01    348\n",
       "2020-04-02     96\n",
       "2020-04-14    203\n",
       "2020-04-15    175\n",
       "2020-04-16    254\n",
       "2020-04-17    164\n",
       "2020-04-18    123\n",
       "2020-04-19     83\n",
       "2020-04-20     66\n",
       "2020-04-21     18\n",
       "2020-05-01     63\n",
       "2020-05-02     87\n",
       "2020-05-03     78\n",
       "2020-05-04     71\n",
       "2020-05-05     56\n",
       "2020-05-06     72\n",
       "2020-05-07      3\n",
       "2020-05-18     74\n",
       "2020-05-19    130\n",
       "2020-05-20     66\n",
       "2020-05-21     89\n",
       "2020-05-22     69\n",
       "2020-05-23     66\n",
       "dtype: int64"
      ]
     },
     "execution_count": 218,
     "metadata": {},
     "output_type": "execute_result"
    }
   ],
   "source": [
    "x = get_hashtag_data('corona', time_df)\n",
    "x = x.groupby(['date_datetime']).size()\n",
    "x"
   ]
  },
  {
   "cell_type": "code",
   "execution_count": 219,
   "metadata": {},
   "outputs": [],
   "source": [
    "def get_date_data(date: str , df: pd.DataFrame(), column_name: str):\n",
    "    try:\n",
    "        temp_df = df[df[column_name] == datetime.datetime.strptime(date, '%Y-%m-%d')]\n",
    "    except:\n",
    "        temp_df = df[df[column_name] == date]\n",
    "    return temp_df"
   ]
  },
  {
   "cell_type": "code",
   "execution_count": 220,
   "metadata": {},
   "outputs": [
    {
     "data": {
      "text/html": [
       "<div>\n",
       "<style scoped>\n",
       "    .dataframe tbody tr th:only-of-type {\n",
       "        vertical-align: middle;\n",
       "    }\n",
       "\n",
       "    .dataframe tbody tr th {\n",
       "        vertical-align: top;\n",
       "    }\n",
       "\n",
       "    .dataframe thead th {\n",
       "        text-align: right;\n",
       "    }\n",
       "</style>\n",
       "<table border=\"1\" class=\"dataframe\">\n",
       "  <thead>\n",
       "    <tr style=\"text-align: right;\">\n",
       "      <th></th>\n",
       "      <th>date_datetime</th>\n",
       "      <th>hashtag</th>\n",
       "      <th>time_datetime</th>\n",
       "    </tr>\n",
       "  </thead>\n",
       "  <tbody>\n",
       "    <tr>\n",
       "      <th>28745</th>\n",
       "      <td>2020-05-02</td>\n",
       "      <td>covid_19</td>\n",
       "      <td>00:06:58</td>\n",
       "    </tr>\n",
       "    <tr>\n",
       "      <th>28745</th>\n",
       "      <td>2020-05-02</td>\n",
       "      <td>coronavirus</td>\n",
       "      <td>00:06:58</td>\n",
       "    </tr>\n",
       "    <tr>\n",
       "      <th>28745</th>\n",
       "      <td>2020-05-02</td>\n",
       "      <td>lockdownindia</td>\n",
       "      <td>00:06:58</td>\n",
       "    </tr>\n",
       "    <tr>\n",
       "      <th>28745</th>\n",
       "      <td>2020-05-02</td>\n",
       "      <td>lockdownextended</td>\n",
       "      <td>00:06:58</td>\n",
       "    </tr>\n",
       "    <tr>\n",
       "      <th>28748</th>\n",
       "      <td>2020-05-02</td>\n",
       "      <td>coronavirus</td>\n",
       "      <td>00:08:17</td>\n",
       "    </tr>\n",
       "    <tr>\n",
       "      <th>...</th>\n",
       "      <td>...</td>\n",
       "      <td>...</td>\n",
       "      <td>...</td>\n",
       "    </tr>\n",
       "    <tr>\n",
       "      <th>31025</th>\n",
       "      <td>2020-05-02</td>\n",
       "      <td>freesafoorazargar</td>\n",
       "      <td>23:44:46</td>\n",
       "    </tr>\n",
       "    <tr>\n",
       "      <th>31025</th>\n",
       "      <td>2020-05-02</td>\n",
       "      <td>islamophobia</td>\n",
       "      <td>23:44:46</td>\n",
       "    </tr>\n",
       "    <tr>\n",
       "      <th>31026</th>\n",
       "      <td>2020-05-02</td>\n",
       "      <td>coronavirus</td>\n",
       "      <td>23:45:02</td>\n",
       "    </tr>\n",
       "    <tr>\n",
       "      <th>31026</th>\n",
       "      <td>2020-05-02</td>\n",
       "      <td>covid__19</td>\n",
       "      <td>23:45:02</td>\n",
       "    </tr>\n",
       "    <tr>\n",
       "      <th>31029</th>\n",
       "      <td>2020-05-02</td>\n",
       "      <td>stoptargetingmuslim</td>\n",
       "      <td>23:49:31</td>\n",
       "    </tr>\n",
       "  </tbody>\n",
       "</table>\n",
       "<p>3309 rows × 3 columns</p>\n",
       "</div>"
      ],
      "text/plain": [
       "      date_datetime              hashtag time_datetime\n",
       "28745    2020-05-02             covid_19      00:06:58\n",
       "28745    2020-05-02          coronavirus      00:06:58\n",
       "28745    2020-05-02        lockdownindia      00:06:58\n",
       "28745    2020-05-02     lockdownextended      00:06:58\n",
       "28748    2020-05-02          coronavirus      00:08:17\n",
       "...             ...                  ...           ...\n",
       "31025    2020-05-02    freesafoorazargar      23:44:46\n",
       "31025    2020-05-02         islamophobia      23:44:46\n",
       "31026    2020-05-02          coronavirus      23:45:02\n",
       "31026    2020-05-02            covid__19      23:45:02\n",
       "31029    2020-05-02  stoptargetingmuslim      23:49:31\n",
       "\n",
       "[3309 rows x 3 columns]"
      ]
     },
     "execution_count": 220,
     "metadata": {},
     "output_type": "execute_result"
    }
   ],
   "source": [
    "get_date_data(date='2020-05-02', df=time_df, column_name='date_datetime')"
   ]
  },
  {
   "cell_type": "code",
   "execution_count": 221,
   "metadata": {},
   "outputs": [
    {
     "name": "stdout",
     "output_type": "stream",
     "text": [
      "<class 'str'>\n"
     ]
    },
    {
     "data": {
      "text/html": [
       "<div>\n",
       "<style scoped>\n",
       "    .dataframe tbody tr th:only-of-type {\n",
       "        vertical-align: middle;\n",
       "    }\n",
       "\n",
       "    .dataframe tbody tr th {\n",
       "        vertical-align: top;\n",
       "    }\n",
       "\n",
       "    .dataframe thead th {\n",
       "        text-align: right;\n",
       "    }\n",
       "</style>\n",
       "<table border=\"1\" class=\"dataframe\">\n",
       "  <thead>\n",
       "    <tr style=\"text-align: right;\">\n",
       "      <th></th>\n",
       "      <th>time</th>\n",
       "      <th>hashtags</th>\n",
       "      <th>date</th>\n",
       "    </tr>\n",
       "  </thead>\n",
       "  <tbody>\n",
       "    <tr>\n",
       "      <th>4</th>\n",
       "      <td>04:01:59</td>\n",
       "      <td>[indiafightscorona]</td>\n",
       "      <td>2020-03-27</td>\n",
       "    </tr>\n",
       "    <tr>\n",
       "      <th>5</th>\n",
       "      <td>04:02:20</td>\n",
       "      <td>[serveinmylanguage]</td>\n",
       "      <td>2020-03-27</td>\n",
       "    </tr>\n",
       "    <tr>\n",
       "      <th>6</th>\n",
       "      <td>04:02:50</td>\n",
       "      <td>[bangalorepolice, bangalorelockdown]</td>\n",
       "      <td>2020-03-27</td>\n",
       "    </tr>\n",
       "    <tr>\n",
       "      <th>7</th>\n",
       "      <td>04:02:53</td>\n",
       "      <td>[coronavirus, covid2019, coronapandemie, coron...</td>\n",
       "      <td>2020-03-27</td>\n",
       "    </tr>\n",
       "    <tr>\n",
       "      <th>10</th>\n",
       "      <td>04:03:44</td>\n",
       "      <td>[chinesevirus19, sarcasmalert]</td>\n",
       "      <td>2020-03-27</td>\n",
       "    </tr>\n",
       "    <tr>\n",
       "      <th>...</th>\n",
       "      <td>...</td>\n",
       "      <td>...</td>\n",
       "      <td>...</td>\n",
       "    </tr>\n",
       "    <tr>\n",
       "      <th>54024</th>\n",
       "      <td>17:09:28</td>\n",
       "      <td>[aatmanirbharapnabharat]</td>\n",
       "      <td>2020-05-23</td>\n",
       "    </tr>\n",
       "    <tr>\n",
       "      <th>54025</th>\n",
       "      <td>17:09:39</td>\n",
       "      <td>[pmcaresfund]</td>\n",
       "      <td>2020-05-23</td>\n",
       "    </tr>\n",
       "    <tr>\n",
       "      <th>54026</th>\n",
       "      <td>17:10:17</td>\n",
       "      <td>[aatmanirbharapnabharat]</td>\n",
       "      <td>2020-05-23</td>\n",
       "    </tr>\n",
       "    <tr>\n",
       "      <th>54027</th>\n",
       "      <td>17:10:21</td>\n",
       "      <td>[eidmubarak, eidalfitr, romanreigns]</td>\n",
       "      <td>2020-05-23</td>\n",
       "    </tr>\n",
       "    <tr>\n",
       "      <th>54028</th>\n",
       "      <td>17:10:52</td>\n",
       "      <td>[dmrc, metro, corona, delhifightscorona]</td>\n",
       "      <td>2020-05-23</td>\n",
       "    </tr>\n",
       "  </tbody>\n",
       "</table>\n",
       "<p>22528 rows × 3 columns</p>\n",
       "</div>"
      ],
      "text/plain": [
       "           time                                           hashtags        date\n",
       "4      04:01:59                                [indiafightscorona]  2020-03-27\n",
       "5      04:02:20                                [serveinmylanguage]  2020-03-27\n",
       "6      04:02:50               [bangalorepolice, bangalorelockdown]  2020-03-27\n",
       "7      04:02:53  [coronavirus, covid2019, coronapandemie, coron...  2020-03-27\n",
       "10     04:03:44                     [chinesevirus19, sarcasmalert]  2020-03-27\n",
       "...         ...                                                ...         ...\n",
       "54024  17:09:28                           [aatmanirbharapnabharat]  2020-05-23\n",
       "54025  17:09:39                                      [pmcaresfund]  2020-05-23\n",
       "54026  17:10:17                           [aatmanirbharapnabharat]  2020-05-23\n",
       "54027  17:10:21               [eidmubarak, eidalfitr, romanreigns]  2020-05-23\n",
       "54028  17:10:52           [dmrc, metro, corona, delhifightscorona]  2020-05-23\n",
       "\n",
       "[22528 rows x 3 columns]"
      ]
     },
     "execution_count": 221,
     "metadata": {},
     "output_type": "execute_result"
    }
   ],
   "source": [
    "print(type(split_df.iloc[1].date))\n",
    "split_df"
   ]
  },
  {
   "cell_type": "code",
   "execution_count": 194,
   "metadata": {},
   "outputs": [
    {
     "data": {
      "text/html": [
       "<div>\n",
       "<style scoped>\n",
       "    .dataframe tbody tr th:only-of-type {\n",
       "        vertical-align: middle;\n",
       "    }\n",
       "\n",
       "    .dataframe tbody tr th {\n",
       "        vertical-align: top;\n",
       "    }\n",
       "\n",
       "    .dataframe thead th {\n",
       "        text-align: right;\n",
       "    }\n",
       "</style>\n",
       "<table border=\"1\" class=\"dataframe\">\n",
       "  <thead>\n",
       "    <tr style=\"text-align: right;\">\n",
       "      <th></th>\n",
       "      <th>time</th>\n",
       "      <th>hashtags</th>\n",
       "      <th>date</th>\n",
       "    </tr>\n",
       "  </thead>\n",
       "  <tbody>\n",
       "  </tbody>\n",
       "</table>\n",
       "</div>"
      ],
      "text/plain": [
       "Empty DataFrame\n",
       "Columns: [time, hashtags, date]\n",
       "Index: []"
      ]
     },
     "execution_count": 194,
     "metadata": {},
     "output_type": "execute_result"
    }
   ],
   "source": [
    "get_date_data(date='2020-05-02', df=split_df, column_name='date')"
   ]
  },
  {
   "cell_type": "code",
   "execution_count": 197,
   "metadata": {},
   "outputs": [
    {
     "data": {
      "image/png": "[encoded data removed]",
      "text/plain": [
       "<Figure size 432x288 with 1 Axes>"
      ]
     },
     "metadata": {
      "needs_background": "light"
     },
     "output_type": "display_data"
    }
   ],
   "source": [
    "fig = plot_frequency_of_tweets(hashtag='pune', df=time_df)"
   ]
  },
  {
   "cell_type": "code",
   "execution_count": 199,
   "metadata": {},
   "outputs": [],
   "source": [
    "split_time_df = pd.DataFrame(columns={'date', 'hashtags'})\n",
    "split_time_df['hashtags'] = split_df['hashtags']\n",
    "split_time_df['date'] = pd.to_datetime(split_df['date'])"
   ]
  },
  {
   "cell_type": "code",
   "execution_count": 222,
   "metadata": {},
   "outputs": [
    {
     "data": {
      "text/html": [
       "<div>\n",
       "<style scoped>\n",
       "    .dataframe tbody tr th:only-of-type {\n",
       "        vertical-align: middle;\n",
       "    }\n",
       "\n",
       "    .dataframe tbody tr th {\n",
       "        vertical-align: top;\n",
       "    }\n",
       "\n",
       "    .dataframe thead th {\n",
       "        text-align: right;\n",
       "    }\n",
       "</style>\n",
       "<table border=\"1\" class=\"dataframe\">\n",
       "  <thead>\n",
       "    <tr style=\"text-align: right;\">\n",
       "      <th></th>\n",
       "      <th>hashtags</th>\n",
       "      <th>date</th>\n",
       "    </tr>\n",
       "  </thead>\n",
       "  <tbody>\n",
       "    <tr>\n",
       "      <th>28745</th>\n",
       "      <td>[covid_19, coronavirus, lockdownindia, lockdow...</td>\n",
       "      <td>2020-05-02</td>\n",
       "    </tr>\n",
       "    <tr>\n",
       "      <th>28748</th>\n",
       "      <td>[coronavirus, covid19]</td>\n",
       "      <td>2020-05-02</td>\n",
       "    </tr>\n",
       "    <tr>\n",
       "      <th>28750</th>\n",
       "      <td>[coronavirus, covid19]</td>\n",
       "      <td>2020-05-02</td>\n",
       "    </tr>\n",
       "    <tr>\n",
       "      <th>28751</th>\n",
       "      <td>[fertilizer, covid, covidー19, covid_19, trumpi...</td>\n",
       "      <td>2020-05-02</td>\n",
       "    </tr>\n",
       "    <tr>\n",
       "      <th>28752</th>\n",
       "      <td>[caa_nrc_npr]</td>\n",
       "      <td>2020-05-02</td>\n",
       "    </tr>\n",
       "    <tr>\n",
       "      <th>...</th>\n",
       "      <td>...</td>\n",
       "      <td>...</td>\n",
       "    </tr>\n",
       "    <tr>\n",
       "      <th>31022</th>\n",
       "      <td>[stoptargetingmuslim]</td>\n",
       "      <td>2020-05-02</td>\n",
       "    </tr>\n",
       "    <tr>\n",
       "      <th>31023</th>\n",
       "      <td>[weekenddoneright, psm, scrum, scrummaster, ac...</td>\n",
       "      <td>2020-05-02</td>\n",
       "    </tr>\n",
       "    <tr>\n",
       "      <th>31025</th>\n",
       "      <td>[caa_nrc_protests, jamiamilliaislamia, freesaf...</td>\n",
       "      <td>2020-05-02</td>\n",
       "    </tr>\n",
       "    <tr>\n",
       "      <th>31026</th>\n",
       "      <td>[coronavirus, covid__19]</td>\n",
       "      <td>2020-05-02</td>\n",
       "    </tr>\n",
       "    <tr>\n",
       "      <th>31029</th>\n",
       "      <td>[stoptargetingmuslim]</td>\n",
       "      <td>2020-05-02</td>\n",
       "    </tr>\n",
       "  </tbody>\n",
       "</table>\n",
       "<p>881 rows × 2 columns</p>\n",
       "</div>"
      ],
      "text/plain": [
       "                                                hashtags       date\n",
       "28745  [covid_19, coronavirus, lockdownindia, lockdow... 2020-05-02\n",
       "28748                             [coronavirus, covid19] 2020-05-02\n",
       "28750                             [coronavirus, covid19] 2020-05-02\n",
       "28751  [fertilizer, covid, covidー19, covid_19, trumpi... 2020-05-02\n",
       "28752                                      [caa_nrc_npr] 2020-05-02\n",
       "...                                                  ...        ...\n",
       "31022                              [stoptargetingmuslim] 2020-05-02\n",
       "31023  [weekenddoneright, psm, scrum, scrummaster, ac... 2020-05-02\n",
       "31025  [caa_nrc_protests, jamiamilliaislamia, freesaf... 2020-05-02\n",
       "31026                           [coronavirus, covid__19] 2020-05-02\n",
       "31029                              [stoptargetingmuslim] 2020-05-02\n",
       "\n",
       "[881 rows x 2 columns]"
      ]
     },
     "execution_count": 222,
     "metadata": {},
     "output_type": "execute_result"
    }
   ],
   "source": [
    "get_date_data(date='2020-05-02', df=split_time_df, column_name='date')"
   ]
  },
  {
   "cell_type": "code",
   "execution_count": 223,
   "metadata": {},
   "outputs": [
    {
     "data": {
      "text/plain": [
       "(22528, 2)"
      ]
     },
     "execution_count": 223,
     "metadata": {},
     "output_type": "execute_result"
    }
   ],
   "source": [
    "split_time_df.shape"
   ]
  },
  {
   "cell_type": "code",
   "execution_count": 233,
   "metadata": {},
   "outputs": [
    {
     "data": {
      "text/plain": [
       "2020-05-18    1350\n",
       "2020-03-28    1204\n",
       "2020-03-31    1191\n",
       "2020-05-03    1149\n",
       "2020-05-19    1147\n",
       "2020-05-22    1134\n",
       "2020-05-04    1088\n",
       "2020-05-23    1039\n",
       "2020-04-18     980\n",
       "2020-04-01     922\n",
       "2020-05-21     910\n",
       "2020-03-27     893\n",
       "2020-05-02     881\n",
       "2020-05-05     875\n",
       "2020-04-19     839\n",
       "2020-05-01     806\n",
       "2020-04-20     786\n",
       "2020-05-06     775\n",
       "2020-05-20     684\n",
       "2020-04-16     669\n",
       "2020-04-14     610\n",
       "2020-03-30     575\n",
       "2020-03-29     522\n",
       "2020-04-15     485\n",
       "2020-04-17     436\n",
       "2020-04-02     333\n",
       "2020-04-21     163\n",
       "2020-05-07      82\n",
       "Name: date, dtype: int64"
      ]
     },
     "execution_count": 233,
     "metadata": {},
     "output_type": "execute_result"
    }
   ],
   "source": [
    "split_time_df.date.value_counts()"
   ]
  },
  {
   "cell_type": "code",
   "execution_count": 332,
   "metadata": {},
   "outputs": [],
   "source": [
    "def plot_frequency_of_tweets_per_day(df: pd.DataFrame(), filename: None, save: bool = False,kind: str = 'line'):\n",
    "    temp = None\n",
    "    try:\n",
    "        series = df['date_datetime']\n",
    "    except:\n",
    "        series = df['date']\n",
    "    if kind == 'scatter':\n",
    "        temp = pd.DataFrame()\n",
    "        temp['date'] = series\n",
    "        temp['frequency'] = series.value_counts().transform('count')\n",
    "        return temp\n",
    "    series = series.value_counts()\n",
    "    fig = series.plot(kind=kind, title='#tweets per day (related to covid)')\n",
    "    if save:\n",
    "        plt.savefig(fname=filename)\n",
    "    return temp"
   ]
  },
  {
   "cell_type": "code",
   "execution_count": 333,
   "metadata": {},
   "outputs": [
    {
     "data": {
      "image/png": "[encoded data removed]",
      "text/plain": [
       "<Figure size 432x288 with 1 Axes>"
      ]
     },
     "metadata": {
      "needs_background": "light"
     },
     "output_type": "display_data"
    }
   ],
   "source": [
    "temp = plot_frequency_of_tweets_per_day(df=split_time_df, kind='line', save = True, filename='customPlots\\\\tweetsPerDay\\\\line')"
   ]
  },
  {
   "cell_type": "code",
   "execution_count": 334,
   "metadata": {},
   "outputs": [
    {
     "data": {
      "image/png": "[encoded data removed]",
      "text/plain": [
       "<Figure size 432x288 with 1 Axes>"
      ]
     },
     "metadata": {
      "needs_background": "light"
     },
     "output_type": "display_data"
    }
   ],
   "source": [
    "temp = plot_frequency_of_tweets_per_day(split_time_df, kind='bar', save = True, filename='customPlots\\\\tweetsPerDay\\\\bar')"
   ]
  },
  {
   "cell_type": "code",
   "execution_count": 335,
   "metadata": {},
   "outputs": [
    {
     "data": {
      "image/png": "[encoded data removed]",
      "text/plain": [
       "<Figure size 432x288 with 1 Axes>"
      ]
     },
     "metadata": {
      "needs_background": "light"
     },
     "output_type": "display_data"
    }
   ],
   "source": [
    "temp = plot_frequency_of_tweets_per_day(split_time_df, kind='hist', save = True, filename='customPlots\\\\tweetsPerDay\\\\hist')"
   ]
  },
  {
   "cell_type": "code",
   "execution_count": 294,
   "metadata": {},
   "outputs": [],
   "source": [
    "# temp = plot_frequency_of_tweets_per_day(split_time_df, kind='scatter')\n",
    "# temp"
   ]
  },
  {
   "cell_type": "code",
   "execution_count": 337,
   "metadata": {},
   "outputs": [
    {
     "data": {
      "text/plain": [
       "74704"
      ]
     },
     "execution_count": 337,
     "metadata": {},
     "output_type": "execute_result"
    }
   ],
   "source": [
    "len(all_hashtags)"
   ]
  },
  {
   "cell_type": "code",
   "execution_count": 339,
   "metadata": {},
   "outputs": [
    {
     "data": {
      "text/plain": [
       "pandas.core.series.Series"
      ]
     },
     "execution_count": 339,
     "metadata": {},
     "output_type": "execute_result"
    }
   ],
   "source": [
    "type(split_df_explode['hashtags'].value_counts())"
   ]
  },
  {
   "cell_type": "code",
   "execution_count": 349,
   "metadata": {},
   "outputs": [],
   "source": [
    "string_hashtags_value_counts = split_df_explode['hashtags'].value_counts().to_string()"
   ]
  },
  {
   "cell_type": "code",
   "execution_count": 350,
   "metadata": {},
   "outputs": [
    {
     "data": {
      "text/plain": [
       "1318935"
      ]
     },
     "execution_count": 350,
     "metadata": {},
     "output_type": "execute_result"
    }
   ],
   "source": [
    "len(string_hashtags_value_counts)"
   ]
  },
  {
   "cell_type": "code",
   "execution_count": 351,
   "metadata": {},
   "outputs": [
    {
     "ename": "UnicodeEncodeError",
     "evalue": "'charmap' codec can't encode character '\\u30fc' in position 415: character maps to <undefined>",
     "output_type": "error",
     "traceback": [
      "\u001b[1;31m---------------------------------------------------------------------------\u001b[0m",
      "\u001b[1;31mUnicodeEncodeError\u001b[0m                        Traceback (most recent call last)",
      "\u001b[1;32m<ipython-input-351-ba8b95f8ca1f>\u001b[0m in \u001b[0;36m<module>\u001b[1;34m\u001b[0m\n\u001b[0;32m      1\u001b[0m \u001b[0mfile\u001b[0m \u001b[1;33m=\u001b[0m \u001b[0mopen\u001b[0m\u001b[1;33m(\u001b[0m\u001b[1;34m'cleanDatasets\\\\observation.txt'\u001b[0m\u001b[1;33m,\u001b[0m \u001b[1;34m'w+'\u001b[0m\u001b[1;33m)\u001b[0m\u001b[1;33m\u001b[0m\u001b[1;33m\u001b[0m\u001b[0m\n\u001b[0;32m      2\u001b[0m \u001b[0mstring_hashtags_value_counts\u001b[0m \u001b[1;33m=\u001b[0m \u001b[0mstring_hashtags_value_counts\u001b[0m\u001b[1;33m.\u001b[0m\u001b[0mencode\u001b[0m\u001b[1;33m(\u001b[0m\u001b[1;33m)\u001b[0m\u001b[1;33m.\u001b[0m\u001b[0mdecode\u001b[0m\u001b[1;33m(\u001b[0m\u001b[1;34m'utf-8'\u001b[0m\u001b[1;33m)\u001b[0m\u001b[1;33m\u001b[0m\u001b[1;33m\u001b[0m\u001b[0m\n\u001b[1;32m----> 3\u001b[1;33m \u001b[0mfile\u001b[0m\u001b[1;33m.\u001b[0m\u001b[0mwrite\u001b[0m\u001b[1;33m(\u001b[0m\u001b[0mstring_hashtags_value_counts\u001b[0m\u001b[1;33m)\u001b[0m\u001b[1;33m\u001b[0m\u001b[1;33m\u001b[0m\u001b[0m\n\u001b[0m\u001b[0;32m      4\u001b[0m \u001b[0mfile\u001b[0m\u001b[1;33m.\u001b[0m\u001b[0mclose\u001b[0m\u001b[1;33m(\u001b[0m\u001b[1;33m)\u001b[0m\u001b[1;33m\u001b[0m\u001b[1;33m\u001b[0m\u001b[0m\n",
      "\u001b[1;32m~\\anaconda3\\lib\\encodings\\cp1252.py\u001b[0m in \u001b[0;36mencode\u001b[1;34m(self, input, final)\u001b[0m\n\u001b[0;32m     17\u001b[0m \u001b[1;32mclass\u001b[0m \u001b[0mIncrementalEncoder\u001b[0m\u001b[1;33m(\u001b[0m\u001b[0mcodecs\u001b[0m\u001b[1;33m.\u001b[0m\u001b[0mIncrementalEncoder\u001b[0m\u001b[1;33m)\u001b[0m\u001b[1;33m:\u001b[0m\u001b[1;33m\u001b[0m\u001b[1;33m\u001b[0m\u001b[0m\n\u001b[0;32m     18\u001b[0m     \u001b[1;32mdef\u001b[0m \u001b[0mencode\u001b[0m\u001b[1;33m(\u001b[0m\u001b[0mself\u001b[0m\u001b[1;33m,\u001b[0m \u001b[0minput\u001b[0m\u001b[1;33m,\u001b[0m \u001b[0mfinal\u001b[0m\u001b[1;33m=\u001b[0m\u001b[1;32mFalse\u001b[0m\u001b[1;33m)\u001b[0m\u001b[1;33m:\u001b[0m\u001b[1;33m\u001b[0m\u001b[1;33m\u001b[0m\u001b[0m\n\u001b[1;32m---> 19\u001b[1;33m         \u001b[1;32mreturn\u001b[0m \u001b[0mcodecs\u001b[0m\u001b[1;33m.\u001b[0m\u001b[0mcharmap_encode\u001b[0m\u001b[1;33m(\u001b[0m\u001b[0minput\u001b[0m\u001b[1;33m,\u001b[0m\u001b[0mself\u001b[0m\u001b[1;33m.\u001b[0m\u001b[0merrors\u001b[0m\u001b[1;33m,\u001b[0m\u001b[0mencoding_table\u001b[0m\u001b[1;33m)\u001b[0m\u001b[1;33m[\u001b[0m\u001b[1;36m0\u001b[0m\u001b[1;33m]\u001b[0m\u001b[1;33m\u001b[0m\u001b[1;33m\u001b[0m\u001b[0m\n\u001b[0m\u001b[0;32m     20\u001b[0m \u001b[1;33m\u001b[0m\u001b[0m\n\u001b[0;32m     21\u001b[0m \u001b[1;32mclass\u001b[0m \u001b[0mIncrementalDecoder\u001b[0m\u001b[1;33m(\u001b[0m\u001b[0mcodecs\u001b[0m\u001b[1;33m.\u001b[0m\u001b[0mIncrementalDecoder\u001b[0m\u001b[1;33m)\u001b[0m\u001b[1;33m:\u001b[0m\u001b[1;33m\u001b[0m\u001b[1;33m\u001b[0m\u001b[0m\n",
      "\u001b[1;31mUnicodeEncodeError\u001b[0m: 'charmap' codec can't encode character '\\u30fc' in position 415: character maps to <undefined>"
     ]
    }
   ],
   "source": [
    "file = open('cleanDatasets\\\\observation.txt', 'w+')\n",
    "string_hashtags_value_counts = string_hashtags_value_counts.encode().decode('utf-8')\n",
    "file.write(string_hashtags_value_counts)\n",
    "file.close()"
   ]
  },
  {
   "cell_type": "code",
   "execution_count": 352,
   "metadata": {},
   "outputs": [],
   "source": [
    "split_df_explode['hashtags'].value_counts().to_csv(path_or_buf='cleanDatasets\\\\hashtags_value_counts.csv')"
   ]
  },
  {
   "cell_type": "code",
   "execution_count": null,
   "metadata": {},
   "outputs": [],
   "source": []
  }
 ],
 "metadata": {
  "kernelspec": {
   "display_name": "Python 3",
   "language": "python",
   "name": "python3"
  },
  "language_info": {
   "codemirror_mode": {
    "name": "ipython",
    "version": 3
   },
   "file_extension": ".py",
   "mimetype": "text/x-python",
   "name": "python",
   "nbconvert_exporter": "python",
   "pygments_lexer": "ipython3",
   "version": "3.8.3"
  }
 },
 "nbformat": 4,
 "nbformat_minor": 4
}
