{
 "cells": [
  {
   "cell_type": "code",
   "execution_count": 34,
   "metadata": {
    "id": "toe0aXOY2cB5"
   },
   "outputs": [],
   "source": [
    "import tweepy as tw\n",
    "import pandas as pd\n",
    "import os\n",
    "import csv"
   ]
  },
  {
   "cell_type": "code",
   "execution_count": 35,
   "metadata": {
    "id": "WjKHoUm-2vH4"
   },
   "outputs": [],
   "source": [
    "consumer_key = \"IQFN7RfvSs3107ZGKq1vDE2Um\"\n",
    "consumer_secret = \"JF8rB1ftzNPzNKCUGHTZXtZV22yiCK51bJnl51t1riNnLy4cuJ\"\n",
    "access_token = \"1008966897130303488-PNJTNYKhrs5q3YbCIZf2lRGC817JSQ\"\n",
    "access_token_secret = \"89xKwZBAZBUHLVqoayE1gDGfuJeJwzLhnkZ7NnXvOJZ6v\""
   ]
  },
  {
   "cell_type": "code",
   "execution_count": 36,
   "metadata": {
    "id": "8NgGWkfv3cDX"
   },
   "outputs": [],
   "source": [
    "auth = tw.OAuthHandler(consumer_key, consumer_secret)\n",
    "auth.set_access_token(access_token, access_token_secret)\n",
    "api = tw.API(auth, wait_on_rate_limit=True)"
   ]
  },
  {
   "cell_type": "code",
   "execution_count": 37,
   "metadata": {
    "colab": {
     "base_uri": "https://localhost:8080/",
     "height": 202
    },
    "id": "M9aYYkh93eek",
    "outputId": "4576741c-efa4-438e-9921-e1bbc203a18b"
   },
   "outputs": [
    {
     "data": {
      "text/html": [
       "<div>\n",
       "<style scoped>\n",
       "    .dataframe tbody tr th:only-of-type {\n",
       "        vertical-align: middle;\n",
       "    }\n",
       "\n",
       "    .dataframe tbody tr th {\n",
       "        vertical-align: top;\n",
       "    }\n",
       "\n",
       "    .dataframe thead th {\n",
       "        text-align: right;\n",
       "    }\n",
       "</style>\n",
       "<table border=\"1\" class=\"dataframe\">\n",
       "  <thead>\n",
       "    <tr style=\"text-align: right;\">\n",
       "      <th></th>\n",
       "      <th>Unnamed: 0</th>\n",
       "      <th>tweet_id</th>\n",
       "    </tr>\n",
       "  </thead>\n",
       "  <tbody>\n",
       "    <tr>\n",
       "      <th>0</th>\n",
       "      <td>0.0</td>\n",
       "      <td>1242693364098580481</td>\n",
       "    </tr>\n",
       "    <tr>\n",
       "      <th>1</th>\n",
       "      <td>1.0</td>\n",
       "      <td>1242693402971406342</td>\n",
       "    </tr>\n",
       "    <tr>\n",
       "      <th>2</th>\n",
       "      <td>2.0</td>\n",
       "      <td>1242693578817597442</td>\n",
       "    </tr>\n",
       "    <tr>\n",
       "      <th>3</th>\n",
       "      <td>3.0</td>\n",
       "      <td>1242693609725575168</td>\n",
       "    </tr>\n",
       "    <tr>\n",
       "      <th>4</th>\n",
       "      <td>4.0</td>\n",
       "      <td>1242693680143544325</td>\n",
       "    </tr>\n",
       "  </tbody>\n",
       "</table>\n",
       "</div>"
      ],
      "text/plain": [
       "   Unnamed: 0             tweet_id\n",
       "0         0.0  1242693364098580481\n",
       "1         1.0  1242693402971406342\n",
       "2         2.0  1242693578817597442\n",
       "3         3.0  1242693609725575168\n",
       "4         4.0  1242693680143544325"
      ]
     },
     "execution_count": 37,
     "metadata": {},
     "output_type": "execute_result"
    }
   ],
   "source": [
    "tweets_df = pd.read_csv(\"tweet_ids.csv\")\n",
    "tweets_df.head()"
   ]
  },
  {
   "cell_type": "code",
   "execution_count": 38,
   "metadata": {},
   "outputs": [
    {
     "name": "stdout",
     "output_type": "stream",
     "text": [
      "5395\n"
     ]
    }
   ],
   "source": [
    "index_manager_read = open('index_manager.txt', 'r')\n",
    "indx = index_manager_read.read()\n",
    "print(indx)\n",
    "index_manager_read.close()"
   ]
  },
  {
   "cell_type": "code",
   "execution_count": 39,
   "metadata": {},
   "outputs": [],
   "source": [
    "twitter_ids = tweets_df[\"tweet_id\"].tolist()\n",
    "i = 0\n",
    "indx = int(indx)\n",
    "ids = twitter_ids[indx:indx + 899]\n",
    "\n",
    "text = []\n",
    "id_str = []\n",
    "entities_hashtags = []\n",
    "entities_symbols = []\n",
    "entities = []\n",
    "user_id = []\n",
    "entities_hashtags = []\n",
    "entitites_symbols = []\n",
    "user_location = []\n",
    "time_zone = []\n",
    "lang = []\n",
    "created_at = []\n",
    "\n",
    "cnt = 0"
   ]
  },
  {
   "cell_type": "code",
   "execution_count": 40,
   "metadata": {
    "colab": {
     "base_uri": "https://localhost:8080/",
     "height": 1000
    },
    "id": "JMv8JocI3gZs",
    "outputId": "e70e3504-49bf-4e10-85fa-542e8d0c893d"
   },
   "outputs": [
    {
     "name": "stdout",
     "output_type": "stream",
     "text": [
      "\n",
      "Current indx: 5395\n",
      "Tweets to be processed: 900\n",
      "Processing tweet. ID = 1243387385016008711\n"
     ]
    },
    {
     "ename": "AttributeError",
     "evalue": "'dict' object has no attribute 'hashtags'",
     "output_type": "error",
     "traceback": [
      "\u001b[1;31m---------------------------------------------------------------------------\u001b[0m",
      "\u001b[1;31mAttributeError\u001b[0m                            Traceback (most recent call last)",
      "\u001b[1;32m<ipython-input-40-f89d4e46d48a>\u001b[0m in \u001b[0;36m<module>\u001b[1;34m\u001b[0m\n\u001b[0;32m     19\u001b[0m         \u001b[0mtime_zone\u001b[0m\u001b[1;33m.\u001b[0m\u001b[0mappend\u001b[0m\u001b[1;33m(\u001b[0m\u001b[0mtweet\u001b[0m\u001b[1;33m.\u001b[0m\u001b[0muser\u001b[0m\u001b[1;33m.\u001b[0m\u001b[0mtime_zone\u001b[0m\u001b[1;33m)\u001b[0m\u001b[1;33m\u001b[0m\u001b[1;33m\u001b[0m\u001b[0m\n\u001b[0;32m     20\u001b[0m         \u001b[0muser_location\u001b[0m\u001b[1;33m.\u001b[0m\u001b[0mappend\u001b[0m\u001b[1;33m(\u001b[0m\u001b[0mtweet\u001b[0m\u001b[1;33m.\u001b[0m\u001b[0muser\u001b[0m\u001b[1;33m.\u001b[0m\u001b[0mlocation\u001b[0m\u001b[1;33m)\u001b[0m\u001b[1;33m\u001b[0m\u001b[1;33m\u001b[0m\u001b[0m\n\u001b[1;32m---> 21\u001b[1;33m         \u001b[0mentities_hashtags\u001b[0m\u001b[1;33m.\u001b[0m\u001b[0mappend\u001b[0m\u001b[1;33m(\u001b[0m\u001b[0mtweet\u001b[0m\u001b[1;33m.\u001b[0m\u001b[0mentities\u001b[0m\u001b[1;33m.\u001b[0m\u001b[0mhashtags\u001b[0m\u001b[1;33m)\u001b[0m\u001b[1;33m\u001b[0m\u001b[1;33m\u001b[0m\u001b[0m\n\u001b[0m\u001b[0;32m     22\u001b[0m         \u001b[0mentities_symbols\u001b[0m\u001b[1;33m.\u001b[0m\u001b[0mappend\u001b[0m\u001b[1;33m(\u001b[0m\u001b[0mtweet\u001b[0m\u001b[1;33m.\u001b[0m\u001b[0mentities\u001b[0m\u001b[1;33m.\u001b[0m\u001b[0msymbols\u001b[0m\u001b[1;33m)\u001b[0m\u001b[1;33m\u001b[0m\u001b[1;33m\u001b[0m\u001b[0m\n\u001b[0;32m     23\u001b[0m \u001b[1;33m\u001b[0m\u001b[0m\n",
      "\u001b[1;31mAttributeError\u001b[0m: 'dict' object has no attribute 'hashtags'"
     ]
    }
   ],
   "source": [
    "for tweet_id in ids:\n",
    "    \n",
    "    print(\"\\nCurrent indx: \" + str(indx))\n",
    "    print(\"Tweets to be processed: \" + str(900-cnt))\n",
    "    cnt += 1 \n",
    "    indx += 1\n",
    "    \n",
    "    try:\n",
    "        print(\"Processing tweet. ID = \" + str(tweet_id))\n",
    "        \n",
    "        tweet = api.get_status(tweet_id, tweet_mode = 'extended', include_entities = True)\n",
    "        \n",
    "        text.append(tweet.full_text)\n",
    "        created_at.append(tweet.created_at)\n",
    "        id_str.append(tweet.id_str)\n",
    "        entities.append(tweet.entities)\n",
    "        user_id.append(tweet.user.id)\n",
    "        lang.append(tweet.lang)\n",
    "        time_zone.append(tweet.user.time_zone)\n",
    "        user_location.append(tweet.user.location)\n",
    "        entities_hashtags.append(tweet.entities.hashtags)\n",
    "        entities_symbols.append(tweet.entities.symbols)\n",
    "        \n",
    "        if(cnt%100 == 0):\n",
    "            print(\"Text: \" + str(tweet.full_text))\n",
    "    except tw.error.TweepError:\n",
    "      print(\"ERROR WHILE ACCESSING TWEET. ID: \" + str(tweet_id))\n",
    "      pass"
   ]
  },
  {
   "cell_type": "code",
   "execution_count": 22,
   "metadata": {},
   "outputs": [
    {
     "name": "stdout",
     "output_type": "stream",
     "text": [
      "5395\n"
     ]
    }
   ],
   "source": [
    "indx_manager_write = open('index_manager.txt', 'w')\n",
    "indx_manager_write.write(str(indx))\n",
    "indx_manager_write.close()\n",
    "print(str(indx))"
   ]
  },
  {
   "cell_type": "code",
   "execution_count": 23,
   "metadata": {},
   "outputs": [],
   "source": [
    "text_2 = text\n",
    "for ttext in text:\n",
    "    ttext = ttext.strip(\"\\n\")"
   ]
  },
  {
   "cell_type": "code",
   "execution_count": 24,
   "metadata": {},
   "outputs": [],
   "source": [
    "#         text.append(tweet.full_text)\n",
    "#         created_at.append(tweet.created_at)\n",
    "#         id_str.append(tweet.id_str)\n",
    "#         entities.append(tweet.entities)\n",
    "#         user_id.append(tweet.user.id)\n",
    "#         location.append(tweet.user.location)\n",
    "#         lang.append(tweet.lang)\n",
    "#         time_zone.append(tweet.user.time_zone)\n",
    "\n",
    "# for loc in location[:10]:\n",
    "#     print(loc)"
   ]
  },
  {
   "cell_type": "code",
   "execution_count": 26,
   "metadata": {},
   "outputs": [],
   "source": [
    "import pandas as pd\n",
    "\n",
    "# df = pd.DataFrame(columns=['id_str', 'user_id', 'text', 'created_at', 'entities', 'location', 'lang', 'time_zone'])\n",
    "df = pd.DataFrame(columns=['id_str', 'user_id', 'text', 'created_at', 'entities','user_location' ,'lang', 'time_zone'])\n",
    "df.head()\n",
    "\n",
    "df['id_str'] = id_str\n",
    "df['user_id'] = user_id\n",
    "df['text'] = text\n",
    "df['created_at'] = created_at\n",
    "df['entities'] = entities\n",
    "df['location'] = user_location\n",
    "df['lang'] = lang\n",
    "df['time_zone'] = time_zone"
   ]
  },
  {
   "cell_type": "code",
   "execution_count": 27,
   "metadata": {},
   "outputs": [
    {
     "data": {
      "text/html": [
       "<div>\n",
       "<style scoped>\n",
       "    .dataframe tbody tr th:only-of-type {\n",
       "        vertical-align: middle;\n",
       "    }\n",
       "\n",
       "    .dataframe tbody tr th {\n",
       "        vertical-align: top;\n",
       "    }\n",
       "\n",
       "    .dataframe thead th {\n",
       "        text-align: right;\n",
       "    }\n",
       "</style>\n",
       "<table border=\"1\" class=\"dataframe\">\n",
       "  <thead>\n",
       "    <tr style=\"text-align: right;\">\n",
       "      <th></th>\n",
       "      <th>id_str</th>\n",
       "      <th>user_id</th>\n",
       "      <th>text</th>\n",
       "      <th>created_at</th>\n",
       "      <th>entities</th>\n",
       "      <th>user_location</th>\n",
       "      <th>lang</th>\n",
       "      <th>time_zone</th>\n",
       "      <th>location</th>\n",
       "    </tr>\n",
       "  </thead>\n",
       "  <tbody>\n",
       "    <tr>\n",
       "      <th>0</th>\n",
       "      <td>1243216779750436866</td>\n",
       "      <td>771813582</td>\n",
       "      <td>@Swamy39 @smartpraki Corona is born, nurtured ...</td>\n",
       "      <td>2020-03-26 16:42:32</td>\n",
       "      <td>{'hashtags': [], 'symbols': [], 'user_mentions...</td>\n",
       "      <td>NaN</td>\n",
       "      <td>en</td>\n",
       "      <td>None</td>\n",
       "      <td>India</td>\n",
       "    </tr>\n",
       "    <tr>\n",
       "      <th>1</th>\n",
       "      <td>1243216890329272320</td>\n",
       "      <td>587599466</td>\n",
       "      <td>Was talking to someone from chennai and when a...</td>\n",
       "      <td>2020-03-26 16:42:59</td>\n",
       "      <td>{'hashtags': [], 'symbols': [], 'user_mentions...</td>\n",
       "      <td>NaN</td>\n",
       "      <td>en</td>\n",
       "      <td>None</td>\n",
       "      <td>Mumbai, India</td>\n",
       "    </tr>\n",
       "    <tr>\n",
       "      <th>2</th>\n",
       "      <td>1243216937460482048</td>\n",
       "      <td>4889660393</td>\n",
       "      <td>@drashwathcn @deepolice12 sir you both are my ...</td>\n",
       "      <td>2020-03-26 16:43:10</td>\n",
       "      <td>{'hashtags': [], 'symbols': [], 'user_mentions...</td>\n",
       "      <td>NaN</td>\n",
       "      <td>en</td>\n",
       "      <td>None</td>\n",
       "      <td>Bengaluru, India</td>\n",
       "    </tr>\n",
       "    <tr>\n",
       "      <th>3</th>\n",
       "      <td>1243216982897393665</td>\n",
       "      <td>1145281609412648965</td>\n",
       "      <td>Corona is a Viral Virus...\\nBut working as a f...</td>\n",
       "      <td>2020-03-26 16:43:21</td>\n",
       "      <td>{'hashtags': [], 'symbols': [], 'user_mentions...</td>\n",
       "      <td>NaN</td>\n",
       "      <td>en</td>\n",
       "      <td>None</td>\n",
       "      <td></td>\n",
       "    </tr>\n",
       "    <tr>\n",
       "      <th>4</th>\n",
       "      <td>1243217009980178438</td>\n",
       "      <td>2445184111</td>\n",
       "      <td>#IndiaFightsCorona\\nIn this environment of det...</td>\n",
       "      <td>2020-03-26 16:43:27</td>\n",
       "      <td>{'hashtags': [{'text': 'IndiaFightsCorona', 'i...</td>\n",
       "      <td>NaN</td>\n",
       "      <td>en</td>\n",
       "      <td>None</td>\n",
       "      <td>gallery</td>\n",
       "    </tr>\n",
       "  </tbody>\n",
       "</table>\n",
       "</div>"
      ],
      "text/plain": [
       "                id_str              user_id  \\\n",
       "0  1243216779750436866            771813582   \n",
       "1  1243216890329272320            587599466   \n",
       "2  1243216937460482048           4889660393   \n",
       "3  1243216982897393665  1145281609412648965   \n",
       "4  1243217009980178438           2445184111   \n",
       "\n",
       "                                                text          created_at  \\\n",
       "0  @Swamy39 @smartpraki Corona is born, nurtured ... 2020-03-26 16:42:32   \n",
       "1  Was talking to someone from chennai and when a... 2020-03-26 16:42:59   \n",
       "2  @drashwathcn @deepolice12 sir you both are my ... 2020-03-26 16:43:10   \n",
       "3  Corona is a Viral Virus...\\nBut working as a f... 2020-03-26 16:43:21   \n",
       "4  #IndiaFightsCorona\\nIn this environment of det... 2020-03-26 16:43:27   \n",
       "\n",
       "                                            entities user_location lang  \\\n",
       "0  {'hashtags': [], 'symbols': [], 'user_mentions...           NaN   en   \n",
       "1  {'hashtags': [], 'symbols': [], 'user_mentions...           NaN   en   \n",
       "2  {'hashtags': [], 'symbols': [], 'user_mentions...           NaN   en   \n",
       "3  {'hashtags': [], 'symbols': [], 'user_mentions...           NaN   en   \n",
       "4  {'hashtags': [{'text': 'IndiaFightsCorona', 'i...           NaN   en   \n",
       "\n",
       "  time_zone          location  \n",
       "0      None             India  \n",
       "1      None     Mumbai, India  \n",
       "2      None  Bengaluru, India  \n",
       "3      None                    \n",
       "4      None           gallery  "
      ]
     },
     "execution_count": 27,
     "metadata": {},
     "output_type": "execute_result"
    }
   ],
   "source": [
    "df.head()"
   ]
  },
  {
   "cell_type": "code",
   "execution_count": 30,
   "metadata": {},
   "outputs": [
    {
     "name": "stdout",
     "output_type": "stream",
     "text": [
      "final_tweets_5.csv\n"
     ]
    }
   ],
   "source": [
    "file_new = open('file_manager.txt', 'r')\n",
    "file_indx = file_new.read()\n",
    "file_new.close()\n",
    "filename = 'final_tweets_' + file_indx + '.csv'\n",
    "# filename = 'final_tweets_1.csv'\n",
    "print(filename)"
   ]
  },
  {
   "cell_type": "code",
   "execution_count": 31,
   "metadata": {},
   "outputs": [],
   "source": [
    "df.to_csv(filename)"
   ]
  },
  {
   "cell_type": "code",
   "execution_count": 32,
   "metadata": {
    "colab": {
     "base_uri": "https://localhost:8080/",
     "height": 1000
    },
    "id": "IxlXmkoP3yK0",
    "outputId": "85b83a5d-850a-469d-a757-7f43fee4e3c5"
   },
   "outputs": [],
   "source": [
    "file_indx = int(file_indx)\n",
    "file_indx += 1\n",
    "\n",
    "file_write = open('file_manager.txt', 'w')\n",
    "file_write.write(str(file_indx))\n",
    "file_write.close()"
   ]
  },
  {
   "cell_type": "code",
   "execution_count": 33,
   "metadata": {
    "colab": {
     "base_uri": "https://localhost:8080/",
     "height": 1000
    },
    "id": "5l8hdZXi32_T",
    "outputId": "ae9b74bd-7754-4114-cfd5-8868fe51e194"
   },
   "outputs": [
    {
     "name": "stdout",
     "output_type": "stream",
     "text": [
      "6\n"
     ]
    }
   ],
   "source": [
    "print(file_indx)"
   ]
  },
  {
   "cell_type": "code",
   "execution_count": 37,
   "metadata": {
    "id": "zawuoK-S7a89"
   },
   "outputs": [],
   "source": [
    "######## DO NOT RUN #################\n",
    "\n",
    "\n",
    "# print(\"writing to dataset\")\n",
    "# with open(\"tweets.txt\", \"w+\") as f:\n",
    "#     for tweet in tweets:\n",
    "#         print(\"writing to txt file. tweet: \" + str(tweet))\n",
    "#         f.write(\"%s\\n\" % str(tweet))\n",
    "        \n",
    "# print(\"writing to dataset\")\n",
    "# with open(\"dates.txt\", \"w+\") as f:\n",
    "#     for date in dates:\n",
    "#         print(\"writing to txt file. tweet: \" + str(date))\n",
    "#         f.write(\"%s\\n\" % str(date))"
   ]
  },
  {
   "cell_type": "code",
   "execution_count": 75,
   "metadata": {},
   "outputs": [
    {
     "name": "stdout",
     "output_type": "stream",
     "text": [
      "CORONA 19 UPDATE \n",
      "----------------------------------------------------------\n",
      "Total effected : 420000\n",
      "Recovered : 107000\n",
      "Fatality : 18500\n",
      "Under Treatment : ( 420000-107000) = 313000\n",
      "Fatality Rate = 18500/420000×100=  4.4 %\n",
      "UT Rate = 74.52% \n",
      "\n",
      "GLOBAL FIGURE\n"
     ]
    }
   ],
   "source": [
    "id_t = tweets_df['tweet_id'].tolist()[1]\n",
    "tweet_2 = api.get_status(id_t, tweet_mode = 'extended')\n",
    "print(tweet_2.full_text)"
   ]
  },
  {
   "cell_type": "code",
   "execution_count": null,
   "metadata": {},
   "outputs": [],
   "source": []
  }
 ],
 "metadata": {
  "accelerator": "GPU",
  "colab": {
   "collapsed_sections": [],
   "name": "getTweets.ipynb",
   "provenance": []
  },
  "kernelspec": {
   "display_name": "Python 3",
   "language": "python",
   "name": "python3"
  },
  "language_info": {
   "codemirror_mode": {
    "name": "ipython",
    "version": 3
   },
   "file_extension": ".py",
   "mimetype": "text/x-python",
   "name": "python",
   "nbconvert_exporter": "python",
   "pygments_lexer": "ipython3",
   "version": "3.8.3"
  }
 },
 "nbformat": 4,
 "nbformat_minor": 4
}
