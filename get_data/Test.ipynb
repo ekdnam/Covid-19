{
 "cells": [
  {
   "cell_type": "code",
   "execution_count": 162,
   "metadata": {},
   "outputs": [],
   "source": [
    "import pandas as pd\n",
    "import numpy as np\n",
    "import matplotlib.pyplot as plt\n",
    "import json\n",
    "from numpy import nan as NaN"
   ]
  },
  {
   "cell_type": "code",
   "execution_count": 15,
   "metadata": {},
   "outputs": [
    {
     "data": {
      "text/html": [
       "<div>\n",
       "<style scoped>\n",
       "    .dataframe tbody tr th:only-of-type {\n",
       "        vertical-align: middle;\n",
       "    }\n",
       "\n",
       "    .dataframe tbody tr th {\n",
       "        vertical-align: top;\n",
       "    }\n",
       "\n",
       "    .dataframe thead th {\n",
       "        text-align: right;\n",
       "    }\n",
       "</style>\n",
       "<table border=\"1\" class=\"dataframe\">\n",
       "  <thead>\n",
       "    <tr style=\"text-align: right;\">\n",
       "      <th></th>\n",
       "      <th>Unnamed: 0</th>\n",
       "      <th>id_str</th>\n",
       "      <th>user_id</th>\n",
       "      <th>text</th>\n",
       "      <th>created_at</th>\n",
       "      <th>entities</th>\n",
       "      <th>lang</th>\n",
       "      <th>time_zone</th>\n",
       "    </tr>\n",
       "  </thead>\n",
       "  <tbody>\n",
       "    <tr>\n",
       "      <th>0</th>\n",
       "      <td>0</td>\n",
       "      <td>1242693402971406342</td>\n",
       "      <td>1211110380249858049</td>\n",
       "      <td>CORONA 19 UPDATE \\n---------------------------...</td>\n",
       "      <td>2020-03-25 06:02:50</td>\n",
       "      <td>{'hashtags': [], 'symbols': [], 'user_mentions...</td>\n",
       "      <td>en</td>\n",
       "      <td>NaN</td>\n",
       "    </tr>\n",
       "    <tr>\n",
       "      <th>1</th>\n",
       "      <td>1</td>\n",
       "      <td>1242693578817597442</td>\n",
       "      <td>2558507150</td>\n",
       "      <td>Anti Corona T-shirt collection is online for s...</td>\n",
       "      <td>2020-03-25 06:03:31</td>\n",
       "      <td>{'hashtags': [{'text': '21daysLockdown', 'indi...</td>\n",
       "      <td>en</td>\n",
       "      <td>NaN</td>\n",
       "    </tr>\n",
       "    <tr>\n",
       "      <th>2</th>\n",
       "      <td>2</td>\n",
       "      <td>1242693609725575168</td>\n",
       "      <td>1242691555628060672</td>\n",
       "      <td>The matter is serious. Take full care not to b...</td>\n",
       "      <td>2020-03-25 06:03:39</td>\n",
       "      <td>{'hashtags': [], 'symbols': [], 'user_mentions...</td>\n",
       "      <td>en</td>\n",
       "      <td>NaN</td>\n",
       "    </tr>\n",
       "    <tr>\n",
       "      <th>3</th>\n",
       "      <td>3</td>\n",
       "      <td>1242693680143544325</td>\n",
       "      <td>787255787961872388</td>\n",
       "      <td>All Mosque committee members headed by Syed Ga...</td>\n",
       "      <td>2020-03-25 06:03:56</td>\n",
       "      <td>{'hashtags': [{'text': 'Narayanpet', 'indices'...</td>\n",
       "      <td>en</td>\n",
       "      <td>NaN</td>\n",
       "    </tr>\n",
       "    <tr>\n",
       "      <th>4</th>\n",
       "      <td>4</td>\n",
       "      <td>1242693745755262977</td>\n",
       "      <td>1230923356519555072</td>\n",
       "      <td>@aajtak If these Indians are already infected ...</td>\n",
       "      <td>2020-03-25 06:04:11</td>\n",
       "      <td>{'hashtags': [], 'symbols': [], 'user_mentions...</td>\n",
       "      <td>en</td>\n",
       "      <td>NaN</td>\n",
       "    </tr>\n",
       "    <tr>\n",
       "      <th>...</th>\n",
       "      <td>...</td>\n",
       "      <td>...</td>\n",
       "      <td>...</td>\n",
       "      <td>...</td>\n",
       "      <td>...</td>\n",
       "      <td>...</td>\n",
       "      <td>...</td>\n",
       "      <td>...</td>\n",
       "    </tr>\n",
       "    <tr>\n",
       "      <th>890</th>\n",
       "      <td>890</td>\n",
       "      <td>1242792918387060736</td>\n",
       "      <td>1045246104986562560</td>\n",
       "      <td>10 positive cases in Karnataka today, updates ...</td>\n",
       "      <td>2020-03-25 12:38:16</td>\n",
       "      <td>{'hashtags': [], 'symbols': [], 'user_mentions...</td>\n",
       "      <td>en</td>\n",
       "      <td>NaN</td>\n",
       "    </tr>\n",
       "    <tr>\n",
       "      <th>891</th>\n",
       "      <td>891</td>\n",
       "      <td>1242793054446051328</td>\n",
       "      <td>51707475</td>\n",
       "      <td>@timesofindia Did congress took corona serious...</td>\n",
       "      <td>2020-03-25 12:38:48</td>\n",
       "      <td>{'hashtags': [], 'symbols': [], 'user_mentions...</td>\n",
       "      <td>en</td>\n",
       "      <td>NaN</td>\n",
       "    </tr>\n",
       "    <tr>\n",
       "      <th>892</th>\n",
       "      <td>892</td>\n",
       "      <td>1242793057755336705</td>\n",
       "      <td>772877921547681792</td>\n",
       "      <td>Strong Action should be taken against those pe...</td>\n",
       "      <td>2020-03-25 12:38:49</td>\n",
       "      <td>{'hashtags': [{'text': 'police', 'indices': [6...</td>\n",
       "      <td>en</td>\n",
       "      <td>NaN</td>\n",
       "    </tr>\n",
       "    <tr>\n",
       "      <th>893</th>\n",
       "      <td>893</td>\n",
       "      <td>1242793132699181056</td>\n",
       "      <td>810705372</td>\n",
       "      <td>@narendramodi Sir, this time when we all are q...</td>\n",
       "      <td>2020-03-25 12:39:07</td>\n",
       "      <td>{'hashtags': [], 'symbols': [], 'user_mentions...</td>\n",
       "      <td>en</td>\n",
       "      <td>NaN</td>\n",
       "    </tr>\n",
       "    <tr>\n",
       "      <th>894</th>\n",
       "      <td>894</td>\n",
       "      <td>1242793137598115840</td>\n",
       "      <td>795872163328884736</td>\n",
       "      <td>@BJP4India @BJP4Bengal Just 500 infected. But ...</td>\n",
       "      <td>2020-03-25 12:39:08</td>\n",
       "      <td>{'hashtags': [], 'symbols': [], 'user_mentions...</td>\n",
       "      <td>en</td>\n",
       "      <td>NaN</td>\n",
       "    </tr>\n",
       "  </tbody>\n",
       "</table>\n",
       "<p>895 rows × 8 columns</p>\n",
       "</div>"
      ],
      "text/plain": [
       "     Unnamed: 0               id_str              user_id  \\\n",
       "0             0  1242693402971406342  1211110380249858049   \n",
       "1             1  1242693578817597442           2558507150   \n",
       "2             2  1242693609725575168  1242691555628060672   \n",
       "3             3  1242693680143544325   787255787961872388   \n",
       "4             4  1242693745755262977  1230923356519555072   \n",
       "..          ...                  ...                  ...   \n",
       "890         890  1242792918387060736  1045246104986562560   \n",
       "891         891  1242793054446051328             51707475   \n",
       "892         892  1242793057755336705   772877921547681792   \n",
       "893         893  1242793132699181056            810705372   \n",
       "894         894  1242793137598115840   795872163328884736   \n",
       "\n",
       "                                                  text           created_at  \\\n",
       "0    CORONA 19 UPDATE \\n---------------------------...  2020-03-25 06:02:50   \n",
       "1    Anti Corona T-shirt collection is online for s...  2020-03-25 06:03:31   \n",
       "2    The matter is serious. Take full care not to b...  2020-03-25 06:03:39   \n",
       "3    All Mosque committee members headed by Syed Ga...  2020-03-25 06:03:56   \n",
       "4    @aajtak If these Indians are already infected ...  2020-03-25 06:04:11   \n",
       "..                                                 ...                  ...   \n",
       "890  10 positive cases in Karnataka today, updates ...  2020-03-25 12:38:16   \n",
       "891  @timesofindia Did congress took corona serious...  2020-03-25 12:38:48   \n",
       "892  Strong Action should be taken against those pe...  2020-03-25 12:38:49   \n",
       "893  @narendramodi Sir, this time when we all are q...  2020-03-25 12:39:07   \n",
       "894  @BJP4India @BJP4Bengal Just 500 infected. But ...  2020-03-25 12:39:08   \n",
       "\n",
       "                                              entities lang  time_zone  \n",
       "0    {'hashtags': [], 'symbols': [], 'user_mentions...   en        NaN  \n",
       "1    {'hashtags': [{'text': '21daysLockdown', 'indi...   en        NaN  \n",
       "2    {'hashtags': [], 'symbols': [], 'user_mentions...   en        NaN  \n",
       "3    {'hashtags': [{'text': 'Narayanpet', 'indices'...   en        NaN  \n",
       "4    {'hashtags': [], 'symbols': [], 'user_mentions...   en        NaN  \n",
       "..                                                 ...  ...        ...  \n",
       "890  {'hashtags': [], 'symbols': [], 'user_mentions...   en        NaN  \n",
       "891  {'hashtags': [], 'symbols': [], 'user_mentions...   en        NaN  \n",
       "892  {'hashtags': [{'text': 'police', 'indices': [6...   en        NaN  \n",
       "893  {'hashtags': [], 'symbols': [], 'user_mentions...   en        NaN  \n",
       "894  {'hashtags': [], 'symbols': [], 'user_mentions...   en        NaN  \n",
       "\n",
       "[895 rows x 8 columns]"
      ]
     },
     "execution_count": 15,
     "metadata": {},
     "output_type": "execute_result"
    }
   ],
   "source": [
    "df_1 = pd.read_csv('dataset\\\\final_tweets_1.csv')\n",
    "df_1"
   ]
  },
  {
   "cell_type": "code",
   "execution_count": 19,
   "metadata": {},
   "outputs": [],
   "source": [
    "# generate filenames\n",
    "filenames = []\n",
    "__BASE__FILENAME__ = \"dataset\\\\final_tweets_\"\n",
    "for i in range(1, 75):\n",
    "    file = __BASE__FILENAME__ + str(i) + '.csv'\n",
    "    filenames.append(file)"
   ]
  },
  {
   "cell_type": "code",
   "execution_count": 20,
   "metadata": {},
   "outputs": [
    {
     "data": {
      "text/plain": [
       "'dataset\\\\final_tweets_6.csv'"
      ]
     },
     "execution_count": 20,
     "metadata": {},
     "output_type": "execute_result"
    }
   ],
   "source": [
    "filenames[5]"
   ]
  },
  {
   "cell_type": "code",
   "execution_count": 26,
   "metadata": {},
   "outputs": [],
   "source": [
    "main_df = pd.DataFrame()"
   ]
  },
  {
   "cell_type": "code",
   "execution_count": 27,
   "metadata": {},
   "outputs": [],
   "source": [
    "for filename in filenames:\n",
    "    temp_df = pd.read_csv(filename)\n",
    "    main_df = main_df.append(temp_df)"
   ]
  },
  {
   "cell_type": "code",
   "execution_count": 33,
   "metadata": {},
   "outputs": [
    {
     "data": {
      "text/html": [
       "<div>\n",
       "<style scoped>\n",
       "    .dataframe tbody tr th:only-of-type {\n",
       "        vertical-align: middle;\n",
       "    }\n",
       "\n",
       "    .dataframe tbody tr th {\n",
       "        vertical-align: top;\n",
       "    }\n",
       "\n",
       "    .dataframe thead th {\n",
       "        text-align: right;\n",
       "    }\n",
       "</style>\n",
       "<table border=\"1\" class=\"dataframe\">\n",
       "  <thead>\n",
       "    <tr style=\"text-align: right;\">\n",
       "      <th></th>\n",
       "      <th>Unnamed: 0</th>\n",
       "      <th>id_str</th>\n",
       "      <th>user_id</th>\n",
       "      <th>text</th>\n",
       "      <th>created_at</th>\n",
       "      <th>entities</th>\n",
       "      <th>lang</th>\n",
       "      <th>time_zone</th>\n",
       "      <th>user_location</th>\n",
       "      <th>location</th>\n",
       "      <th>entities_hashtags</th>\n",
       "      <th>entities_symbols</th>\n",
       "      <th>coordinates</th>\n",
       "    </tr>\n",
       "  </thead>\n",
       "  <tbody>\n",
       "    <tr>\n",
       "      <th>0</th>\n",
       "      <td>0</td>\n",
       "      <td>1242693402971406342</td>\n",
       "      <td>1211110380249858049</td>\n",
       "      <td>CORONA 19 UPDATE \\n---------------------------...</td>\n",
       "      <td>2020-03-25 06:02:50</td>\n",
       "      <td>{'hashtags': [], 'symbols': [], 'user_mentions...</td>\n",
       "      <td>en</td>\n",
       "      <td>NaN</td>\n",
       "      <td>NaN</td>\n",
       "      <td>NaN</td>\n",
       "      <td>NaN</td>\n",
       "      <td>NaN</td>\n",
       "      <td>NaN</td>\n",
       "    </tr>\n",
       "    <tr>\n",
       "      <th>1</th>\n",
       "      <td>1</td>\n",
       "      <td>1242693578817597442</td>\n",
       "      <td>2558507150</td>\n",
       "      <td>Anti Corona T-shirt collection is online for s...</td>\n",
       "      <td>2020-03-25 06:03:31</td>\n",
       "      <td>{'hashtags': [{'text': '21daysLockdown', 'indi...</td>\n",
       "      <td>en</td>\n",
       "      <td>NaN</td>\n",
       "      <td>NaN</td>\n",
       "      <td>NaN</td>\n",
       "      <td>NaN</td>\n",
       "      <td>NaN</td>\n",
       "      <td>NaN</td>\n",
       "    </tr>\n",
       "    <tr>\n",
       "      <th>2</th>\n",
       "      <td>2</td>\n",
       "      <td>1242693609725575168</td>\n",
       "      <td>1242691555628060672</td>\n",
       "      <td>The matter is serious. Take full care not to b...</td>\n",
       "      <td>2020-03-25 06:03:39</td>\n",
       "      <td>{'hashtags': [], 'symbols': [], 'user_mentions...</td>\n",
       "      <td>en</td>\n",
       "      <td>NaN</td>\n",
       "      <td>NaN</td>\n",
       "      <td>NaN</td>\n",
       "      <td>NaN</td>\n",
       "      <td>NaN</td>\n",
       "      <td>NaN</td>\n",
       "    </tr>\n",
       "    <tr>\n",
       "      <th>3</th>\n",
       "      <td>3</td>\n",
       "      <td>1242693680143544325</td>\n",
       "      <td>787255787961872388</td>\n",
       "      <td>All Mosque committee members headed by Syed Ga...</td>\n",
       "      <td>2020-03-25 06:03:56</td>\n",
       "      <td>{'hashtags': [{'text': 'Narayanpet', 'indices'...</td>\n",
       "      <td>en</td>\n",
       "      <td>NaN</td>\n",
       "      <td>NaN</td>\n",
       "      <td>NaN</td>\n",
       "      <td>NaN</td>\n",
       "      <td>NaN</td>\n",
       "      <td>NaN</td>\n",
       "    </tr>\n",
       "    <tr>\n",
       "      <th>4</th>\n",
       "      <td>4</td>\n",
       "      <td>1242693745755262977</td>\n",
       "      <td>1230923356519555072</td>\n",
       "      <td>@aajtak If these Indians are already infected ...</td>\n",
       "      <td>2020-03-25 06:04:11</td>\n",
       "      <td>{'hashtags': [], 'symbols': [], 'user_mentions...</td>\n",
       "      <td>en</td>\n",
       "      <td>NaN</td>\n",
       "      <td>NaN</td>\n",
       "      <td>NaN</td>\n",
       "      <td>NaN</td>\n",
       "      <td>NaN</td>\n",
       "      <td>NaN</td>\n",
       "    </tr>\n",
       "    <tr>\n",
       "      <th>...</th>\n",
       "      <td>...</td>\n",
       "      <td>...</td>\n",
       "      <td>...</td>\n",
       "      <td>...</td>\n",
       "      <td>...</td>\n",
       "      <td>...</td>\n",
       "      <td>...</td>\n",
       "      <td>...</td>\n",
       "      <td>...</td>\n",
       "      <td>...</td>\n",
       "      <td>...</td>\n",
       "      <td>...</td>\n",
       "      <td>...</td>\n",
       "    </tr>\n",
       "    <tr>\n",
       "      <th>282</th>\n",
       "      <td>282</td>\n",
       "      <td>1264242054101635073</td>\n",
       "      <td>2987548622</td>\n",
       "      <td>#AatmaNirbharApnaBharat\\nFacilitating states d...</td>\n",
       "      <td>2020-05-23 17:09:28</td>\n",
       "      <td>NaN</td>\n",
       "      <td>en</td>\n",
       "      <td>NaN</td>\n",
       "      <td>NaN</td>\n",
       "      <td>लखनऊ, भारत</td>\n",
       "      <td>[{'text': 'AatmaNirbharApnaBharat', 'indices':...</td>\n",
       "      <td>[]</td>\n",
       "      <td>NaN</td>\n",
       "    </tr>\n",
       "    <tr>\n",
       "      <th>283</th>\n",
       "      <td>283</td>\n",
       "      <td>1264242097940336641</td>\n",
       "      <td>2269187558</td>\n",
       "      <td>Cheers to you jyoti. Wish you health &amp;amp; hap...</td>\n",
       "      <td>2020-05-23 17:09:39</td>\n",
       "      <td>NaN</td>\n",
       "      <td>en</td>\n",
       "      <td>NaN</td>\n",
       "      <td>NaN</td>\n",
       "      <td>Bengaluru South, India</td>\n",
       "      <td>[{'text': 'PMCaresFund', 'indices': [125, 137]}]</td>\n",
       "      <td>[]</td>\n",
       "      <td>NaN</td>\n",
       "    </tr>\n",
       "    <tr>\n",
       "      <th>284</th>\n",
       "      <td>284</td>\n",
       "      <td>1264242258762764289</td>\n",
       "      <td>2987548622</td>\n",
       "      <td>#AatmaNirbharApnaBharat\\nTechnology driven edu...</td>\n",
       "      <td>2020-05-23 17:10:17</td>\n",
       "      <td>NaN</td>\n",
       "      <td>en</td>\n",
       "      <td>NaN</td>\n",
       "      <td>NaN</td>\n",
       "      <td>लखनऊ, भारत</td>\n",
       "      <td>[{'text': 'AatmaNirbharApnaBharat', 'indices':...</td>\n",
       "      <td>[]</td>\n",
       "      <td>NaN</td>\n",
       "    </tr>\n",
       "    <tr>\n",
       "      <th>285</th>\n",
       "      <td>285</td>\n",
       "      <td>1264242273790787584</td>\n",
       "      <td>1083235498418733057</td>\n",
       "      <td>#EidMubarak #EidAlFitr #RomanReigns @WWERomanR...</td>\n",
       "      <td>2020-05-23 17:10:21</td>\n",
       "      <td>NaN</td>\n",
       "      <td>en</td>\n",
       "      <td>NaN</td>\n",
       "      <td>NaN</td>\n",
       "      <td>India</td>\n",
       "      <td>[{'text': 'EidMubarak', 'indices': [0, 11]}, {...</td>\n",
       "      <td>[]</td>\n",
       "      <td>NaN</td>\n",
       "    </tr>\n",
       "    <tr>\n",
       "      <th>286</th>\n",
       "      <td>286</td>\n",
       "      <td>1264242405668089858</td>\n",
       "      <td>1074016333476507648</td>\n",
       "      <td>#dmrc #metro I wanna ask about and gave asure ...</td>\n",
       "      <td>2020-05-23 17:10:52</td>\n",
       "      <td>NaN</td>\n",
       "      <td>en</td>\n",
       "      <td>NaN</td>\n",
       "      <td>NaN</td>\n",
       "      <td>New Delhi, India</td>\n",
       "      <td>[{'text': 'dmrc', 'indices': [0, 5]}, {'text':...</td>\n",
       "      <td>[]</td>\n",
       "      <td>NaN</td>\n",
       "    </tr>\n",
       "  </tbody>\n",
       "</table>\n",
       "<p>58491 rows × 13 columns</p>\n",
       "</div>"
      ],
      "text/plain": [
       "    Unnamed: 0               id_str              user_id  \\\n",
       "0            0  1242693402971406342  1211110380249858049   \n",
       "1            1  1242693578817597442           2558507150   \n",
       "2            2  1242693609725575168  1242691555628060672   \n",
       "3            3  1242693680143544325   787255787961872388   \n",
       "4            4  1242693745755262977  1230923356519555072   \n",
       "..         ...                  ...                  ...   \n",
       "282        282  1264242054101635073           2987548622   \n",
       "283        283  1264242097940336641           2269187558   \n",
       "284        284  1264242258762764289           2987548622   \n",
       "285        285  1264242273790787584  1083235498418733057   \n",
       "286        286  1264242405668089858  1074016333476507648   \n",
       "\n",
       "                                                  text           created_at  \\\n",
       "0    CORONA 19 UPDATE \\n---------------------------...  2020-03-25 06:02:50   \n",
       "1    Anti Corona T-shirt collection is online for s...  2020-03-25 06:03:31   \n",
       "2    The matter is serious. Take full care not to b...  2020-03-25 06:03:39   \n",
       "3    All Mosque committee members headed by Syed Ga...  2020-03-25 06:03:56   \n",
       "4    @aajtak If these Indians are already infected ...  2020-03-25 06:04:11   \n",
       "..                                                 ...                  ...   \n",
       "282  #AatmaNirbharApnaBharat\\nFacilitating states d...  2020-05-23 17:09:28   \n",
       "283  Cheers to you jyoti. Wish you health &amp; hap...  2020-05-23 17:09:39   \n",
       "284  #AatmaNirbharApnaBharat\\nTechnology driven edu...  2020-05-23 17:10:17   \n",
       "285  #EidMubarak #EidAlFitr #RomanReigns @WWERomanR...  2020-05-23 17:10:21   \n",
       "286  #dmrc #metro I wanna ask about and gave asure ...  2020-05-23 17:10:52   \n",
       "\n",
       "                                              entities lang time_zone  \\\n",
       "0    {'hashtags': [], 'symbols': [], 'user_mentions...   en       NaN   \n",
       "1    {'hashtags': [{'text': '21daysLockdown', 'indi...   en       NaN   \n",
       "2    {'hashtags': [], 'symbols': [], 'user_mentions...   en       NaN   \n",
       "3    {'hashtags': [{'text': 'Narayanpet', 'indices'...   en       NaN   \n",
       "4    {'hashtags': [], 'symbols': [], 'user_mentions...   en       NaN   \n",
       "..                                                 ...  ...       ...   \n",
       "282                                                NaN   en       NaN   \n",
       "283                                                NaN   en       NaN   \n",
       "284                                                NaN   en       NaN   \n",
       "285                                                NaN   en       NaN   \n",
       "286                                                NaN   en       NaN   \n",
       "\n",
       "     user_location                location  \\\n",
       "0              NaN                     NaN   \n",
       "1              NaN                     NaN   \n",
       "2              NaN                     NaN   \n",
       "3              NaN                     NaN   \n",
       "4              NaN                     NaN   \n",
       "..             ...                     ...   \n",
       "282            NaN              लखनऊ, भारत   \n",
       "283            NaN  Bengaluru South, India   \n",
       "284            NaN              लखनऊ, भारत   \n",
       "285            NaN                   India   \n",
       "286            NaN        New Delhi, India   \n",
       "\n",
       "                                     entities_hashtags entities_symbols  \\\n",
       "0                                                  NaN              NaN   \n",
       "1                                                  NaN              NaN   \n",
       "2                                                  NaN              NaN   \n",
       "3                                                  NaN              NaN   \n",
       "4                                                  NaN              NaN   \n",
       "..                                                 ...              ...   \n",
       "282  [{'text': 'AatmaNirbharApnaBharat', 'indices':...               []   \n",
       "283   [{'text': 'PMCaresFund', 'indices': [125, 137]}]               []   \n",
       "284  [{'text': 'AatmaNirbharApnaBharat', 'indices':...               []   \n",
       "285  [{'text': 'EidMubarak', 'indices': [0, 11]}, {...               []   \n",
       "286  [{'text': 'dmrc', 'indices': [0, 5]}, {'text':...               []   \n",
       "\n",
       "    coordinates  \n",
       "0           NaN  \n",
       "1           NaN  \n",
       "2           NaN  \n",
       "3           NaN  \n",
       "4           NaN  \n",
       "..          ...  \n",
       "282         NaN  \n",
       "283         NaN  \n",
       "284         NaN  \n",
       "285         NaN  \n",
       "286         NaN  \n",
       "\n",
       "[58491 rows x 13 columns]"
      ]
     },
     "execution_count": 33,
     "metadata": {},
     "output_type": "execute_result"
    }
   ],
   "source": [
    "main_df"
   ]
  },
  {
   "cell_type": "code",
   "execution_count": 34,
   "metadata": {},
   "outputs": [],
   "source": [
    "reqd_data = [main_df['created_at'], main_df['entities']]"
   ]
  },
  {
   "cell_type": "code",
   "execution_count": 35,
   "metadata": {},
   "outputs": [
    {
     "data": {
      "text/plain": [
       "[0      2020-03-25 06:02:50\n",
       " 1      2020-03-25 06:03:31\n",
       " 2      2020-03-25 06:03:39\n",
       " 3      2020-03-25 06:03:56\n",
       " 4      2020-03-25 06:04:11\n",
       "               ...         \n",
       " 282    2020-05-23 17:09:28\n",
       " 283    2020-05-23 17:09:39\n",
       " 284    2020-05-23 17:10:17\n",
       " 285    2020-05-23 17:10:21\n",
       " 286    2020-05-23 17:10:52\n",
       " Name: created_at, Length: 58491, dtype: object,\n",
       " 0      {'hashtags': [], 'symbols': [], 'user_mentions...\n",
       " 1      {'hashtags': [{'text': '21daysLockdown', 'indi...\n",
       " 2      {'hashtags': [], 'symbols': [], 'user_mentions...\n",
       " 3      {'hashtags': [{'text': 'Narayanpet', 'indices'...\n",
       " 4      {'hashtags': [], 'symbols': [], 'user_mentions...\n",
       "                              ...                        \n",
       " 282                                                  NaN\n",
       " 283                                                  NaN\n",
       " 284                                                  NaN\n",
       " 285                                                  NaN\n",
       " 286                                                  NaN\n",
       " Name: entities, Length: 58491, dtype: object]"
      ]
     },
     "execution_count": 35,
     "metadata": {},
     "output_type": "execute_result"
    }
   ],
   "source": [
    "reqd_data"
   ]
  },
  {
   "cell_type": "code",
   "execution_count": 38,
   "metadata": {},
   "outputs": [],
   "source": [
    "headers = [\"created_at\", \"ent\"]\n",
    "reqd_df = pd.concat(reqd_data, axis = 1, keys=headers)"
   ]
  },
  {
   "cell_type": "code",
   "execution_count": 39,
   "metadata": {},
   "outputs": [
    {
     "data": {
      "text/html": [
       "<div>\n",
       "<style scoped>\n",
       "    .dataframe tbody tr th:only-of-type {\n",
       "        vertical-align: middle;\n",
       "    }\n",
       "\n",
       "    .dataframe tbody tr th {\n",
       "        vertical-align: top;\n",
       "    }\n",
       "\n",
       "    .dataframe thead th {\n",
       "        text-align: right;\n",
       "    }\n",
       "</style>\n",
       "<table border=\"1\" class=\"dataframe\">\n",
       "  <thead>\n",
       "    <tr style=\"text-align: right;\">\n",
       "      <th></th>\n",
       "      <th>created_at</th>\n",
       "      <th>ent</th>\n",
       "    </tr>\n",
       "  </thead>\n",
       "  <tbody>\n",
       "    <tr>\n",
       "      <th>0</th>\n",
       "      <td>2020-03-25 06:02:50</td>\n",
       "      <td>{'hashtags': [], 'symbols': [], 'user_mentions...</td>\n",
       "    </tr>\n",
       "    <tr>\n",
       "      <th>1</th>\n",
       "      <td>2020-03-25 06:03:31</td>\n",
       "      <td>{'hashtags': [{'text': '21daysLockdown', 'indi...</td>\n",
       "    </tr>\n",
       "    <tr>\n",
       "      <th>2</th>\n",
       "      <td>2020-03-25 06:03:39</td>\n",
       "      <td>{'hashtags': [], 'symbols': [], 'user_mentions...</td>\n",
       "    </tr>\n",
       "    <tr>\n",
       "      <th>3</th>\n",
       "      <td>2020-03-25 06:03:56</td>\n",
       "      <td>{'hashtags': [{'text': 'Narayanpet', 'indices'...</td>\n",
       "    </tr>\n",
       "    <tr>\n",
       "      <th>4</th>\n",
       "      <td>2020-03-25 06:04:11</td>\n",
       "      <td>{'hashtags': [], 'symbols': [], 'user_mentions...</td>\n",
       "    </tr>\n",
       "    <tr>\n",
       "      <th>...</th>\n",
       "      <td>...</td>\n",
       "      <td>...</td>\n",
       "    </tr>\n",
       "    <tr>\n",
       "      <th>282</th>\n",
       "      <td>2020-05-23 17:09:28</td>\n",
       "      <td>NaN</td>\n",
       "    </tr>\n",
       "    <tr>\n",
       "      <th>283</th>\n",
       "      <td>2020-05-23 17:09:39</td>\n",
       "      <td>NaN</td>\n",
       "    </tr>\n",
       "    <tr>\n",
       "      <th>284</th>\n",
       "      <td>2020-05-23 17:10:17</td>\n",
       "      <td>NaN</td>\n",
       "    </tr>\n",
       "    <tr>\n",
       "      <th>285</th>\n",
       "      <td>2020-05-23 17:10:21</td>\n",
       "      <td>NaN</td>\n",
       "    </tr>\n",
       "    <tr>\n",
       "      <th>286</th>\n",
       "      <td>2020-05-23 17:10:52</td>\n",
       "      <td>NaN</td>\n",
       "    </tr>\n",
       "  </tbody>\n",
       "</table>\n",
       "<p>58491 rows × 2 columns</p>\n",
       "</div>"
      ],
      "text/plain": [
       "              created_at                                                ent\n",
       "0    2020-03-25 06:02:50  {'hashtags': [], 'symbols': [], 'user_mentions...\n",
       "1    2020-03-25 06:03:31  {'hashtags': [{'text': '21daysLockdown', 'indi...\n",
       "2    2020-03-25 06:03:39  {'hashtags': [], 'symbols': [], 'user_mentions...\n",
       "3    2020-03-25 06:03:56  {'hashtags': [{'text': 'Narayanpet', 'indices'...\n",
       "4    2020-03-25 06:04:11  {'hashtags': [], 'symbols': [], 'user_mentions...\n",
       "..                   ...                                                ...\n",
       "282  2020-05-23 17:09:28                                                NaN\n",
       "283  2020-05-23 17:09:39                                                NaN\n",
       "284  2020-05-23 17:10:17                                                NaN\n",
       "285  2020-05-23 17:10:21                                                NaN\n",
       "286  2020-05-23 17:10:52                                                NaN\n",
       "\n",
       "[58491 rows x 2 columns]"
      ]
     },
     "execution_count": 39,
     "metadata": {},
     "output_type": "execute_result"
    }
   ],
   "source": [
    "reqd_df"
   ]
  },
  {
   "cell_type": "code",
   "execution_count": 40,
   "metadata": {},
   "outputs": [],
   "source": [
    "reqd_df = reqd_df.dropna()"
   ]
  },
  {
   "cell_type": "code",
   "execution_count": 41,
   "metadata": {},
   "outputs": [
    {
     "data": {
      "text/html": [
       "<div>\n",
       "<style scoped>\n",
       "    .dataframe tbody tr th:only-of-type {\n",
       "        vertical-align: middle;\n",
       "    }\n",
       "\n",
       "    .dataframe tbody tr th {\n",
       "        vertical-align: top;\n",
       "    }\n",
       "\n",
       "    .dataframe thead th {\n",
       "        text-align: right;\n",
       "    }\n",
       "</style>\n",
       "<table border=\"1\" class=\"dataframe\">\n",
       "  <thead>\n",
       "    <tr style=\"text-align: right;\">\n",
       "      <th></th>\n",
       "      <th>created_at</th>\n",
       "      <th>ent</th>\n",
       "    </tr>\n",
       "  </thead>\n",
       "  <tbody>\n",
       "    <tr>\n",
       "      <th>0</th>\n",
       "      <td>2020-03-25 06:02:50</td>\n",
       "      <td>{'hashtags': [], 'symbols': [], 'user_mentions...</td>\n",
       "    </tr>\n",
       "    <tr>\n",
       "      <th>1</th>\n",
       "      <td>2020-03-25 06:03:31</td>\n",
       "      <td>{'hashtags': [{'text': '21daysLockdown', 'indi...</td>\n",
       "    </tr>\n",
       "    <tr>\n",
       "      <th>2</th>\n",
       "      <td>2020-03-25 06:03:39</td>\n",
       "      <td>{'hashtags': [], 'symbols': [], 'user_mentions...</td>\n",
       "    </tr>\n",
       "    <tr>\n",
       "      <th>3</th>\n",
       "      <td>2020-03-25 06:03:56</td>\n",
       "      <td>{'hashtags': [{'text': 'Narayanpet', 'indices'...</td>\n",
       "    </tr>\n",
       "    <tr>\n",
       "      <th>4</th>\n",
       "      <td>2020-03-25 06:04:11</td>\n",
       "      <td>{'hashtags': [], 'symbols': [], 'user_mentions...</td>\n",
       "    </tr>\n",
       "    <tr>\n",
       "      <th>...</th>\n",
       "      <td>...</td>\n",
       "      <td>...</td>\n",
       "    </tr>\n",
       "    <tr>\n",
       "      <th>890</th>\n",
       "      <td>2020-03-27 03:57:50</td>\n",
       "      <td>{'hashtags': [], 'symbols': [], 'user_mentions...</td>\n",
       "    </tr>\n",
       "    <tr>\n",
       "      <th>891</th>\n",
       "      <td>2020-03-27 03:58:05</td>\n",
       "      <td>{'hashtags': [], 'symbols': [], 'user_mentions...</td>\n",
       "    </tr>\n",
       "    <tr>\n",
       "      <th>892</th>\n",
       "      <td>2020-03-27 03:59:27</td>\n",
       "      <td>{'hashtags': [{'text': 'corona', 'indices': [5...</td>\n",
       "    </tr>\n",
       "    <tr>\n",
       "      <th>893</th>\n",
       "      <td>2020-03-27 03:59:39</td>\n",
       "      <td>{'hashtags': [], 'symbols': [], 'user_mentions...</td>\n",
       "    </tr>\n",
       "    <tr>\n",
       "      <th>894</th>\n",
       "      <td>2020-03-27 04:00:13</td>\n",
       "      <td>{'hashtags': [], 'symbols': [], 'user_mentions...</td>\n",
       "    </tr>\n",
       "  </tbody>\n",
       "</table>\n",
       "<p>4462 rows × 2 columns</p>\n",
       "</div>"
      ],
      "text/plain": [
       "              created_at                                                ent\n",
       "0    2020-03-25 06:02:50  {'hashtags': [], 'symbols': [], 'user_mentions...\n",
       "1    2020-03-25 06:03:31  {'hashtags': [{'text': '21daysLockdown', 'indi...\n",
       "2    2020-03-25 06:03:39  {'hashtags': [], 'symbols': [], 'user_mentions...\n",
       "3    2020-03-25 06:03:56  {'hashtags': [{'text': 'Narayanpet', 'indices'...\n",
       "4    2020-03-25 06:04:11  {'hashtags': [], 'symbols': [], 'user_mentions...\n",
       "..                   ...                                                ...\n",
       "890  2020-03-27 03:57:50  {'hashtags': [], 'symbols': [], 'user_mentions...\n",
       "891  2020-03-27 03:58:05  {'hashtags': [], 'symbols': [], 'user_mentions...\n",
       "892  2020-03-27 03:59:27  {'hashtags': [{'text': 'corona', 'indices': [5...\n",
       "893  2020-03-27 03:59:39  {'hashtags': [], 'symbols': [], 'user_mentions...\n",
       "894  2020-03-27 04:00:13  {'hashtags': [], 'symbols': [], 'user_mentions...\n",
       "\n",
       "[4462 rows x 2 columns]"
      ]
     },
     "execution_count": 41,
     "metadata": {},
     "output_type": "execute_result"
    }
   ],
   "source": [
    "reqd_df"
   ]
  },
  {
   "cell_type": "code",
   "execution_count": 105,
   "metadata": {},
   "outputs": [
    {
     "data": {
      "text/html": [
       "<div>\n",
       "<style scoped>\n",
       "    .dataframe tbody tr th:only-of-type {\n",
       "        vertical-align: middle;\n",
       "    }\n",
       "\n",
       "    .dataframe tbody tr th {\n",
       "        vertical-align: top;\n",
       "    }\n",
       "\n",
       "    .dataframe thead th {\n",
       "        text-align: right;\n",
       "    }\n",
       "</style>\n",
       "<table border=\"1\" class=\"dataframe\">\n",
       "  <thead>\n",
       "    <tr style=\"text-align: right;\">\n",
       "      <th></th>\n",
       "      <th>date</th>\n",
       "      <th>hashtags</th>\n",
       "      <th>time</th>\n",
       "    </tr>\n",
       "  </thead>\n",
       "  <tbody>\n",
       "  </tbody>\n",
       "</table>\n",
       "</div>"
      ],
      "text/plain": [
       "Empty DataFrame\n",
       "Columns: [date, hashtags, time]\n",
       "Index: []"
      ]
     },
     "execution_count": 105,
     "metadata": {},
     "output_type": "execute_result"
    }
   ],
   "source": [
    "columns = {\"date\", \"time\", \"hashtags\"}\n",
    "split_df = pd.DataFrame(columns=columns)\n",
    "split_df"
   ]
  },
  {
   "cell_type": "code",
   "execution_count": 53,
   "metadata": {},
   "outputs": [],
   "source": [
    "# for index, row in reqd_df.iterrows():\n",
    "#     created_at = str(row['created_at'])\n",
    "#     date, time = created_at.split()\n",
    "date, time = str(reqd_df.iloc[1].created_at).split() "
   ]
  },
  {
   "cell_type": "code",
   "execution_count": 131,
   "metadata": {},
   "outputs": [],
   "source": [
    "hashtags = reqd_df.iloc[3].ent\n",
    "json_hashtags = json.loads(str(reqd_df.iloc[3].ent).replace(\"'\", '\"'))"
   ]
  },
  {
   "cell_type": "code",
   "execution_count": 132,
   "metadata": {},
   "outputs": [
    {
     "data": {
      "text/plain": [
       "{'hashtags': [{'text': 'Narayanpet', 'indices': [116, 127]},\n",
       "  {'text': 'Corona', 'indices': [270, 277]}],\n",
       " 'symbols': [],\n",
       " 'user_mentions': [],\n",
       " 'urls': [],\n",
       " 'media': [{'id': 1242693488161853440,\n",
       "   'id_str': '1242693488161853440',\n",
       "   'indices': [278, 301],\n",
       "   'media_url': 'http://pbs.twimg.com/ext_tw_video_thumb/1242693488161853440/pu/img/E5lbUP79nNPuF9dX.jpg',\n",
       "   'media_url_https': 'https://pbs.twimg.com/ext_tw_video_thumb/1242693488161853440/pu/img/E5lbUP79nNPuF9dX.jpg',\n",
       "   'url': 'https://t.co/zz3eI7EKsQ',\n",
       "   'display_url': 'pic.twitter.com/zz3eI7EKsQ',\n",
       "   'expanded_url': 'https://twitter.com/SzNarayanpet/status/1242693680143544325/video/1',\n",
       "   'type': 'photo',\n",
       "   'sizes': {'thumb': {'w': 150, 'h': 150, 'resize': 'crop'},\n",
       "    'medium': {'w': 960, 'h': 540, 'resize': 'fit'},\n",
       "    'small': {'w': 680, 'h': 383, 'resize': 'fit'},\n",
       "    'large': {'w': 960, 'h': 540, 'resize': 'fit'}}}]}"
      ]
     },
     "execution_count": 132,
     "metadata": {},
     "output_type": "execute_result"
    }
   ],
   "source": [
    "json_hashtags"
   ]
  },
  {
   "cell_type": "code",
   "execution_count": 133,
   "metadata": {},
   "outputs": [
    {
     "data": {
      "text/plain": [
       "[{'text': 'Narayanpet', 'indices': [116, 127]},\n",
       " {'text': 'Corona', 'indices': [270, 277]}]"
      ]
     },
     "execution_count": 133,
     "metadata": {},
     "output_type": "execute_result"
    }
   ],
   "source": [
    "json_hashtags[\"hashtags\"]\n",
    "text_values = []\n",
    "json_hashtags[\"hashtags\"]"
   ]
  },
  {
   "cell_type": "code",
   "execution_count": 134,
   "metadata": {},
   "outputs": [
    {
     "data": {
      "text/plain": [
       "['Narayanpet', 'Corona']"
      ]
     },
     "execution_count": 134,
     "metadata": {},
     "output_type": "execute_result"
    }
   ],
   "source": [
    "for value in json_hashtags[\"hashtags\"]:\n",
    "    text_values.append(value[\"text\"])\n",
    "text_values"
   ]
  },
  {
   "cell_type": "code",
   "execution_count": 104,
   "metadata": {},
   "outputs": [
    {
     "data": {
      "text/plain": [
       "['Narayanpet', 'Corona']"
      ]
     },
     "execution_count": 104,
     "metadata": {},
     "output_type": "execute_result"
    }
   ],
   "source": [
    "text_values"
   ]
  },
  {
   "cell_type": "code",
   "execution_count": 136,
   "metadata": {},
   "outputs": [
    {
     "ename": "JSONDecodeError",
     "evalue": "Expecting ',' delimiter: line 1 column 290 (char 289)",
     "output_type": "error",
     "traceback": [
      "\u001b[1;31m---------------------------------------------------------------------------\u001b[0m",
      "\u001b[1;31mJSONDecodeError\u001b[0m                           Traceback (most recent call last)",
      "\u001b[1;32m<ipython-input-136-8c0cc15fbc4f>\u001b[0m in \u001b[0;36m<module>\u001b[1;34m\u001b[0m\n\u001b[0;32m      2\u001b[0m     \u001b[0mtext_values\u001b[0m \u001b[1;33m=\u001b[0m \u001b[1;33m[\u001b[0m\u001b[1;33m]\u001b[0m\u001b[1;33m\u001b[0m\u001b[1;33m\u001b[0m\u001b[0m\n\u001b[0;32m      3\u001b[0m     \u001b[0mdate\u001b[0m\u001b[1;33m,\u001b[0m \u001b[0mtime\u001b[0m \u001b[1;33m=\u001b[0m \u001b[0mstr\u001b[0m\u001b[1;33m(\u001b[0m\u001b[0mrow\u001b[0m\u001b[1;33m.\u001b[0m\u001b[0mcreated_at\u001b[0m\u001b[1;33m)\u001b[0m\u001b[1;33m.\u001b[0m\u001b[0msplit\u001b[0m\u001b[1;33m(\u001b[0m\u001b[1;33m)\u001b[0m\u001b[1;33m\u001b[0m\u001b[1;33m\u001b[0m\u001b[0m\n\u001b[1;32m----> 4\u001b[1;33m     \u001b[0mjson_hashtags\u001b[0m \u001b[1;33m=\u001b[0m \u001b[0mjson\u001b[0m\u001b[1;33m.\u001b[0m\u001b[0mloads\u001b[0m\u001b[1;33m(\u001b[0m\u001b[0mstr\u001b[0m\u001b[1;33m(\u001b[0m\u001b[0mrow\u001b[0m\u001b[1;33m.\u001b[0m\u001b[0ment\u001b[0m\u001b[1;33m)\u001b[0m\u001b[1;33m.\u001b[0m\u001b[0mreplace\u001b[0m\u001b[1;33m(\u001b[0m\u001b[1;34m\"'\"\u001b[0m\u001b[1;33m,\u001b[0m \u001b[1;34m'\"'\u001b[0m\u001b[1;33m)\u001b[0m\u001b[1;33m)\u001b[0m\u001b[1;33m\u001b[0m\u001b[1;33m\u001b[0m\u001b[0m\n\u001b[0m\u001b[0;32m      5\u001b[0m     \u001b[1;32mfor\u001b[0m \u001b[0mvalue\u001b[0m \u001b[1;32min\u001b[0m \u001b[0mjson_hashtags\u001b[0m\u001b[1;33m[\u001b[0m\u001b[1;34m\"hashtags\"\u001b[0m\u001b[1;33m]\u001b[0m\u001b[1;33m:\u001b[0m\u001b[1;33m\u001b[0m\u001b[1;33m\u001b[0m\u001b[0m\n\u001b[0;32m      6\u001b[0m         \u001b[0mtext_values\u001b[0m\u001b[1;33m.\u001b[0m\u001b[0mappend\u001b[0m\u001b[1;33m(\u001b[0m\u001b[0mvalue\u001b[0m\u001b[1;33m[\u001b[0m\u001b[1;34m\"text\"\u001b[0m\u001b[1;33m]\u001b[0m\u001b[1;33m)\u001b[0m\u001b[1;33m\u001b[0m\u001b[1;33m\u001b[0m\u001b[0m\n",
      "\u001b[1;32m~\\anaconda3\\lib\\json\\__init__.py\u001b[0m in \u001b[0;36mloads\u001b[1;34m(s, cls, object_hook, parse_float, parse_int, parse_constant, object_pairs_hook, **kw)\u001b[0m\n\u001b[0;32m    355\u001b[0m             \u001b[0mparse_int\u001b[0m \u001b[1;32mis\u001b[0m \u001b[1;32mNone\u001b[0m \u001b[1;32mand\u001b[0m \u001b[0mparse_float\u001b[0m \u001b[1;32mis\u001b[0m \u001b[1;32mNone\u001b[0m \u001b[1;32mand\u001b[0m\u001b[1;33m\u001b[0m\u001b[1;33m\u001b[0m\u001b[0m\n\u001b[0;32m    356\u001b[0m             parse_constant is None and object_pairs_hook is None and not kw):\n\u001b[1;32m--> 357\u001b[1;33m         \u001b[1;32mreturn\u001b[0m \u001b[0m_default_decoder\u001b[0m\u001b[1;33m.\u001b[0m\u001b[0mdecode\u001b[0m\u001b[1;33m(\u001b[0m\u001b[0ms\u001b[0m\u001b[1;33m)\u001b[0m\u001b[1;33m\u001b[0m\u001b[1;33m\u001b[0m\u001b[0m\n\u001b[0m\u001b[0;32m    358\u001b[0m     \u001b[1;32mif\u001b[0m \u001b[0mcls\u001b[0m \u001b[1;32mis\u001b[0m \u001b[1;32mNone\u001b[0m\u001b[1;33m:\u001b[0m\u001b[1;33m\u001b[0m\u001b[1;33m\u001b[0m\u001b[0m\n\u001b[0;32m    359\u001b[0m         \u001b[0mcls\u001b[0m \u001b[1;33m=\u001b[0m \u001b[0mJSONDecoder\u001b[0m\u001b[1;33m\u001b[0m\u001b[1;33m\u001b[0m\u001b[0m\n",
      "\u001b[1;32m~\\anaconda3\\lib\\json\\decoder.py\u001b[0m in \u001b[0;36mdecode\u001b[1;34m(self, s, _w)\u001b[0m\n\u001b[0;32m    335\u001b[0m \u001b[1;33m\u001b[0m\u001b[0m\n\u001b[0;32m    336\u001b[0m         \"\"\"\n\u001b[1;32m--> 337\u001b[1;33m         \u001b[0mobj\u001b[0m\u001b[1;33m,\u001b[0m \u001b[0mend\u001b[0m \u001b[1;33m=\u001b[0m \u001b[0mself\u001b[0m\u001b[1;33m.\u001b[0m\u001b[0mraw_decode\u001b[0m\u001b[1;33m(\u001b[0m\u001b[0ms\u001b[0m\u001b[1;33m,\u001b[0m \u001b[0midx\u001b[0m\u001b[1;33m=\u001b[0m\u001b[0m_w\u001b[0m\u001b[1;33m(\u001b[0m\u001b[0ms\u001b[0m\u001b[1;33m,\u001b[0m \u001b[1;36m0\u001b[0m\u001b[1;33m)\u001b[0m\u001b[1;33m.\u001b[0m\u001b[0mend\u001b[0m\u001b[1;33m(\u001b[0m\u001b[1;33m)\u001b[0m\u001b[1;33m)\u001b[0m\u001b[1;33m\u001b[0m\u001b[1;33m\u001b[0m\u001b[0m\n\u001b[0m\u001b[0;32m    338\u001b[0m         \u001b[0mend\u001b[0m \u001b[1;33m=\u001b[0m \u001b[0m_w\u001b[0m\u001b[1;33m(\u001b[0m\u001b[0ms\u001b[0m\u001b[1;33m,\u001b[0m \u001b[0mend\u001b[0m\u001b[1;33m)\u001b[0m\u001b[1;33m.\u001b[0m\u001b[0mend\u001b[0m\u001b[1;33m(\u001b[0m\u001b[1;33m)\u001b[0m\u001b[1;33m\u001b[0m\u001b[1;33m\u001b[0m\u001b[0m\n\u001b[0;32m    339\u001b[0m         \u001b[1;32mif\u001b[0m \u001b[0mend\u001b[0m \u001b[1;33m!=\u001b[0m \u001b[0mlen\u001b[0m\u001b[1;33m(\u001b[0m\u001b[0ms\u001b[0m\u001b[1;33m)\u001b[0m\u001b[1;33m:\u001b[0m\u001b[1;33m\u001b[0m\u001b[1;33m\u001b[0m\u001b[0m\n",
      "\u001b[1;32m~\\anaconda3\\lib\\json\\decoder.py\u001b[0m in \u001b[0;36mraw_decode\u001b[1;34m(self, s, idx)\u001b[0m\n\u001b[0;32m    351\u001b[0m         \"\"\"\n\u001b[0;32m    352\u001b[0m         \u001b[1;32mtry\u001b[0m\u001b[1;33m:\u001b[0m\u001b[1;33m\u001b[0m\u001b[1;33m\u001b[0m\u001b[0m\n\u001b[1;32m--> 353\u001b[1;33m             \u001b[0mobj\u001b[0m\u001b[1;33m,\u001b[0m \u001b[0mend\u001b[0m \u001b[1;33m=\u001b[0m \u001b[0mself\u001b[0m\u001b[1;33m.\u001b[0m\u001b[0mscan_once\u001b[0m\u001b[1;33m(\u001b[0m\u001b[0ms\u001b[0m\u001b[1;33m,\u001b[0m \u001b[0midx\u001b[0m\u001b[1;33m)\u001b[0m\u001b[1;33m\u001b[0m\u001b[1;33m\u001b[0m\u001b[0m\n\u001b[0m\u001b[0;32m    354\u001b[0m         \u001b[1;32mexcept\u001b[0m \u001b[0mStopIteration\u001b[0m \u001b[1;32mas\u001b[0m \u001b[0merr\u001b[0m\u001b[1;33m:\u001b[0m\u001b[1;33m\u001b[0m\u001b[1;33m\u001b[0m\u001b[0m\n\u001b[0;32m    355\u001b[0m             \u001b[1;32mraise\u001b[0m \u001b[0mJSONDecodeError\u001b[0m\u001b[1;33m(\u001b[0m\u001b[1;34m\"Expecting value\"\u001b[0m\u001b[1;33m,\u001b[0m \u001b[0ms\u001b[0m\u001b[1;33m,\u001b[0m \u001b[0merr\u001b[0m\u001b[1;33m.\u001b[0m\u001b[0mvalue\u001b[0m\u001b[1;33m)\u001b[0m \u001b[1;32mfrom\u001b[0m \u001b[1;32mNone\u001b[0m\u001b[1;33m\u001b[0m\u001b[1;33m\u001b[0m\u001b[0m\n",
      "\u001b[1;31mJSONDecodeError\u001b[0m: Expecting ',' delimiter: line 1 column 290 (char 289)"
     ]
    }
   ],
   "source": [
    "for idx, row in reqd_df.iterrows():\n",
    "    text_values = []\n",
    "    date, time = str(row.created_at).split() \n",
    "    json_hashtags = json.loads(str(row.ent).replace(\"'\", '\"'))\n",
    "    for value in json_hashtags[\"hashtags\"]:\n",
    "        text_values.append(value[\"text\"])\n",
    "    temp_dict = {'date': date, 'time': time, 'hashtags': text_values}\n",
    "    split_df.append(temp_dict, ignore_index=True)"
   ]
  },
  {
   "cell_type": "code",
   "execution_count": 261,
   "metadata": {},
   "outputs": [],
   "source": [
    "columns = {\"date\", \"time\", \"hashtags\"}\n",
    "split_df = pd.DataFrame(columns=columns)\n",
    "split_df\n",
    "error_rows = []\n",
    "temp = 0"
   ]
  },
  {
   "cell_type": "code",
   "execution_count": 232,
   "metadata": {},
   "outputs": [
    {
     "name": "stdout",
     "output_type": "stream",
     "text": [
      "Expecting ',' delimiter: line 1 column 290 (char 289)\n",
      "error occurred while processing row 329\n",
      "Expecting ',' delimiter: line 1 column 129 (char 128)\n",
      "error occurred while processing row 164\n",
      "Expecting ',' delimiter: line 1 column 354 (char 353)\n",
      "error occurred while processing row 211\n",
      "Expecting ',' delimiter: line 1 column 225 (char 224)\n",
      "error occurred while processing row 745\n",
      "Expecting ',' delimiter: line 1 column 1379 (char 1378)\n",
      "error occurred while processing row 353\n",
      "Expecting ',' delimiter: line 1 column 495 (char 494)\n",
      "error occurred while processing row 451\n",
      "Expecting ',' delimiter: line 1 column 88 (char 87)\n",
      "error occurred while processing row 42\n",
      "Expecting ',' delimiter: line 1 column 473 (char 472)\n",
      "error occurred while processing row 304\n",
      "Expecting ',' delimiter: line 1 column 693 (char 692)\n",
      "error occurred while processing row 483\n",
      "Expecting ',' delimiter: line 1 column 101 (char 100)\n",
      "error occurred while processing row 868\n",
      "Expecting ',' delimiter: line 1 column 1797 (char 1796)\n",
      "error occurred while processing row 111\n",
      "Expecting ',' delimiter: line 1 column 619 (char 618)\n",
      "error occurred while processing row 117\n",
      "Expecting ',' delimiter: line 1 column 97 (char 96)\n",
      "error occurred while processing row 235\n",
      "Expecting ',' delimiter: line 1 column 1973 (char 1972)\n",
      "error occurred while processing row 327\n",
      "Invalid \\escape: line 1 column 103 (char 102)\n",
      "error occurred while processing row 637\n",
      "Expecting ',' delimiter: line 1 column 270 (char 269)\n",
      "error occurred while processing row 642\n",
      "Expecting ',' delimiter: line 1 column 94 (char 93)\n",
      "error occurred while processing row 817\n",
      "Expecting ',' delimiter: line 1 column 490 (char 489)\n",
      "error occurred while processing row 894\n"
     ]
    }
   ],
   "source": [
    "for idx, row in reqd_df.iterrows():\n",
    "#     print('Processing row '+ str(idx))\n",
    "    text_values = []\n",
    "    date, time = str(row.created_at).split()\n",
    "    try:\n",
    "        json_hashtags = json.loads(str(row.ent).replace(\"'\", '\"'))\n",
    "        for value in json_hashtags[\"hashtags\"]:\n",
    "            text_values.append(value[\"text\"].lower())\n",
    "        if len(text_values) != 0:\n",
    "            temp_dict = {'date': date, 'hashtags': text_values, 'time': time}\n",
    "        else:\n",
    "            temp_dict = {'date': date, 'hashtags': NaN, 'time': time}\n",
    "        split_df = split_df.append(temp_dict, ignore_index=True)\n",
    "    except Exception as e:\n",
    "        print(e)\n",
    "        print(\"error occurred while processing row \" + str(idx))\n",
    "        error_rows.append(idx)"
   ]
  },
  {
   "cell_type": "code",
   "execution_count": 233,
   "metadata": {},
   "outputs": [
    {
     "data": {
      "text/html": [
       "<div>\n",
       "<style scoped>\n",
       "    .dataframe tbody tr th:only-of-type {\n",
       "        vertical-align: middle;\n",
       "    }\n",
       "\n",
       "    .dataframe tbody tr th {\n",
       "        vertical-align: top;\n",
       "    }\n",
       "\n",
       "    .dataframe thead th {\n",
       "        text-align: right;\n",
       "    }\n",
       "</style>\n",
       "<table border=\"1\" class=\"dataframe\">\n",
       "  <thead>\n",
       "    <tr style=\"text-align: right;\">\n",
       "      <th></th>\n",
       "      <th>date</th>\n",
       "      <th>hashtags</th>\n",
       "      <th>time</th>\n",
       "    </tr>\n",
       "  </thead>\n",
       "  <tbody>\n",
       "    <tr>\n",
       "      <th>0</th>\n",
       "      <td>2020-03-25</td>\n",
       "      <td>NaN</td>\n",
       "      <td>06:02:50</td>\n",
       "    </tr>\n",
       "    <tr>\n",
       "      <th>1</th>\n",
       "      <td>2020-03-25</td>\n",
       "      <td>[21dayslockdown, covid2019, indiafightscorona]</td>\n",
       "      <td>06:03:31</td>\n",
       "    </tr>\n",
       "    <tr>\n",
       "      <th>2</th>\n",
       "      <td>2020-03-25</td>\n",
       "      <td>NaN</td>\n",
       "      <td>06:03:39</td>\n",
       "    </tr>\n",
       "    <tr>\n",
       "      <th>3</th>\n",
       "      <td>2020-03-25</td>\n",
       "      <td>[narayanpet, corona]</td>\n",
       "      <td>06:03:56</td>\n",
       "    </tr>\n",
       "    <tr>\n",
       "      <th>4</th>\n",
       "      <td>2020-03-25</td>\n",
       "      <td>NaN</td>\n",
       "      <td>06:04:11</td>\n",
       "    </tr>\n",
       "    <tr>\n",
       "      <th>...</th>\n",
       "      <td>...</td>\n",
       "      <td>...</td>\n",
       "      <td>...</td>\n",
       "    </tr>\n",
       "    <tr>\n",
       "      <th>4439</th>\n",
       "      <td>2020-03-27</td>\n",
       "      <td>[lifethriving]</td>\n",
       "      <td>03:57:39</td>\n",
       "    </tr>\n",
       "    <tr>\n",
       "      <th>4440</th>\n",
       "      <td>2020-03-27</td>\n",
       "      <td>NaN</td>\n",
       "      <td>03:57:50</td>\n",
       "    </tr>\n",
       "    <tr>\n",
       "      <th>4441</th>\n",
       "      <td>2020-03-27</td>\n",
       "      <td>NaN</td>\n",
       "      <td>03:58:05</td>\n",
       "    </tr>\n",
       "    <tr>\n",
       "      <th>4442</th>\n",
       "      <td>2020-03-27</td>\n",
       "      <td>[corona, silkroad, silkroute]</td>\n",
       "      <td>03:59:27</td>\n",
       "    </tr>\n",
       "    <tr>\n",
       "      <th>4443</th>\n",
       "      <td>2020-03-27</td>\n",
       "      <td>NaN</td>\n",
       "      <td>03:59:39</td>\n",
       "    </tr>\n",
       "  </tbody>\n",
       "</table>\n",
       "<p>4444 rows × 3 columns</p>\n",
       "</div>"
      ],
      "text/plain": [
       "            date                                        hashtags      time\n",
       "0     2020-03-25                                             NaN  06:02:50\n",
       "1     2020-03-25  [21dayslockdown, covid2019, indiafightscorona]  06:03:31\n",
       "2     2020-03-25                                             NaN  06:03:39\n",
       "3     2020-03-25                            [narayanpet, corona]  06:03:56\n",
       "4     2020-03-25                                             NaN  06:04:11\n",
       "...          ...                                             ...       ...\n",
       "4439  2020-03-27                                  [lifethriving]  03:57:39\n",
       "4440  2020-03-27                                             NaN  03:57:50\n",
       "4441  2020-03-27                                             NaN  03:58:05\n",
       "4442  2020-03-27                   [corona, silkroad, silkroute]  03:59:27\n",
       "4443  2020-03-27                                             NaN  03:59:39\n",
       "\n",
       "[4444 rows x 3 columns]"
      ]
     },
     "execution_count": 233,
     "metadata": {},
     "output_type": "execute_result"
    }
   ],
   "source": [
    "split_df"
   ]
  },
  {
   "cell_type": "code",
   "execution_count": 234,
   "metadata": {},
   "outputs": [
    {
     "data": {
      "text/html": [
       "<div>\n",
       "<style scoped>\n",
       "    .dataframe tbody tr th:only-of-type {\n",
       "        vertical-align: middle;\n",
       "    }\n",
       "\n",
       "    .dataframe tbody tr th {\n",
       "        vertical-align: top;\n",
       "    }\n",
       "\n",
       "    .dataframe thead th {\n",
       "        text-align: right;\n",
       "    }\n",
       "</style>\n",
       "<table border=\"1\" class=\"dataframe\">\n",
       "  <thead>\n",
       "    <tr style=\"text-align: right;\">\n",
       "      <th></th>\n",
       "      <th>date</th>\n",
       "      <th>hashtags</th>\n",
       "      <th>time</th>\n",
       "    </tr>\n",
       "  </thead>\n",
       "  <tbody>\n",
       "    <tr>\n",
       "      <th>1</th>\n",
       "      <td>2020-03-25</td>\n",
       "      <td>[21dayslockdown, covid2019, indiafightscorona]</td>\n",
       "      <td>06:03:31</td>\n",
       "    </tr>\n",
       "    <tr>\n",
       "      <th>3</th>\n",
       "      <td>2020-03-25</td>\n",
       "      <td>[narayanpet, corona]</td>\n",
       "      <td>06:03:56</td>\n",
       "    </tr>\n",
       "    <tr>\n",
       "      <th>7</th>\n",
       "      <td>2020-03-25</td>\n",
       "      <td>[corona]</td>\n",
       "      <td>06:05:05</td>\n",
       "    </tr>\n",
       "    <tr>\n",
       "      <th>8</th>\n",
       "      <td>2020-03-25</td>\n",
       "      <td>[ssc_ufm_mat_karona, corona, ufm]</td>\n",
       "      <td>06:05:46</td>\n",
       "    </tr>\n",
       "    <tr>\n",
       "      <th>9</th>\n",
       "      <td>2020-03-25</td>\n",
       "      <td>[keralafightscorona]</td>\n",
       "      <td>06:05:56</td>\n",
       "    </tr>\n",
       "    <tr>\n",
       "      <th>...</th>\n",
       "      <td>...</td>\n",
       "      <td>...</td>\n",
       "      <td>...</td>\n",
       "    </tr>\n",
       "    <tr>\n",
       "      <th>4434</th>\n",
       "      <td>2020-03-27</td>\n",
       "      <td>[coronavirusindia, stayhomestaysafe]</td>\n",
       "      <td>03:56:02</td>\n",
       "    </tr>\n",
       "    <tr>\n",
       "      <th>4437</th>\n",
       "      <td>2020-03-27</td>\n",
       "      <td>[संतों_की_दूरदर्शिता]</td>\n",
       "      <td>03:57:01</td>\n",
       "    </tr>\n",
       "    <tr>\n",
       "      <th>4438</th>\n",
       "      <td>2020-03-27</td>\n",
       "      <td>[lockdown21, indiafightscorona]</td>\n",
       "      <td>03:57:31</td>\n",
       "    </tr>\n",
       "    <tr>\n",
       "      <th>4439</th>\n",
       "      <td>2020-03-27</td>\n",
       "      <td>[lifethriving]</td>\n",
       "      <td>03:57:39</td>\n",
       "    </tr>\n",
       "    <tr>\n",
       "      <th>4442</th>\n",
       "      <td>2020-03-27</td>\n",
       "      <td>[corona, silkroad, silkroute]</td>\n",
       "      <td>03:59:27</td>\n",
       "    </tr>\n",
       "  </tbody>\n",
       "</table>\n",
       "<p>1637 rows × 3 columns</p>\n",
       "</div>"
      ],
      "text/plain": [
       "            date                                        hashtags      time\n",
       "1     2020-03-25  [21dayslockdown, covid2019, indiafightscorona]  06:03:31\n",
       "3     2020-03-25                            [narayanpet, corona]  06:03:56\n",
       "7     2020-03-25                                        [corona]  06:05:05\n",
       "8     2020-03-25               [ssc_ufm_mat_karona, corona, ufm]  06:05:46\n",
       "9     2020-03-25                            [keralafightscorona]  06:05:56\n",
       "...          ...                                             ...       ...\n",
       "4434  2020-03-27            [coronavirusindia, stayhomestaysafe]  03:56:02\n",
       "4437  2020-03-27                           [संतों_की_दूरदर्शिता]  03:57:01\n",
       "4438  2020-03-27                 [lockdown21, indiafightscorona]  03:57:31\n",
       "4439  2020-03-27                                  [lifethriving]  03:57:39\n",
       "4442  2020-03-27                   [corona, silkroad, silkroute]  03:59:27\n",
       "\n",
       "[1637 rows x 3 columns]"
      ]
     },
     "execution_count": 234,
     "metadata": {},
     "output_type": "execute_result"
    }
   ],
   "source": [
    "split_df = split_df.dropna()\n",
    "split_df"
   ]
  },
  {
   "cell_type": "code",
   "execution_count": 235,
   "metadata": {},
   "outputs": [
    {
     "name": "stdout",
     "output_type": "stream",
     "text": [
      "<class 'list'>\n"
     ]
    }
   ],
   "source": [
    "# for idx, row in split_df.iterrows():\n",
    "print(type(split_df.loc[1].hashtags))"
   ]
  },
  {
   "cell_type": "code",
   "execution_count": 236,
   "metadata": {},
   "outputs": [],
   "source": [
    "all_hashtags = []\n",
    "for idx, row in split_df.iterrows():\n",
    "    for hashtag in row.hashtags:\n",
    "        all_hashtags.append(hashtag.lower())\n",
    "#         all_hashtags.append(hashtag)"
   ]
  },
  {
   "cell_type": "code",
   "execution_count": 237,
   "metadata": {},
   "outputs": [
    {
     "data": {
      "text/plain": [
       "6148"
      ]
     },
     "execution_count": 237,
     "metadata": {},
     "output_type": "execute_result"
    }
   ],
   "source": [
    "len(all_hashtags)"
   ]
  },
  {
   "cell_type": "code",
   "execution_count": 238,
   "metadata": {},
   "outputs": [],
   "source": [
    "all_hashtags_set = set(all_hashtags)"
   ]
  },
  {
   "cell_type": "code",
   "execution_count": 239,
   "metadata": {},
   "outputs": [
    {
     "data": {
      "text/plain": [
       "2018"
      ]
     },
     "execution_count": 239,
     "metadata": {},
     "output_type": "execute_result"
    }
   ],
   "source": [
    "len(all_hashtags_set)"
   ]
  },
  {
   "cell_type": "code",
   "execution_count": 240,
   "metadata": {},
   "outputs": [],
   "source": [
    "all_hashtags_unique = list(all_hashtags_set)"
   ]
  },
  {
   "cell_type": "code",
   "execution_count": 216,
   "metadata": {},
   "outputs": [
    {
     "data": {
      "text/plain": [
       "2018"
      ]
     },
     "execution_count": 216,
     "metadata": {},
     "output_type": "execute_result"
    }
   ],
   "source": [
    "len(all_hashtags_unique)"
   ]
  },
  {
   "cell_type": "code",
   "execution_count": 217,
   "metadata": {},
   "outputs": [],
   "source": [
    "import itertools\n",
    "import operator\n",
    "\n",
    "def most_common(L):\n",
    "    # get an iterable of (item, iterable) pairs\n",
    "    SL = sorted((x, i) for i, x in enumerate(L))\n",
    "    # print 'SL:', SL\n",
    "    groups = itertools.groupby(SL, key=operator.itemgetter(0))\n",
    "    # auxiliary function to get \"quality\" for an item\n",
    "    def _auxfun(g):\n",
    "        item, iterable = g\n",
    "        count = 0\n",
    "        min_index = len(L)\n",
    "        for _, where in iterable:\n",
    "            count += 1\n",
    "            min_index = min(min_index, where)\n",
    "    # print 'item %r, count %r, minind %r' % (item, count, min_index)\n",
    "        return count, -min_index\n",
    "  # pick the highest-count/earliest item\n",
    "    return max(groups, key=_auxfun)[0]"
   ]
  },
  {
   "cell_type": "code",
   "execution_count": 220,
   "metadata": {},
   "outputs": [
    {
     "name": "stdout",
     "output_type": "stream",
     "text": [
      "corona\n"
     ]
    }
   ],
   "source": [
    "print(most_common(all_hashtags))"
   ]
  },
  {
   "cell_type": "code",
   "execution_count": 221,
   "metadata": {},
   "outputs": [],
   "source": [
    "all_hashtags.sort()"
   ]
  },
  {
   "cell_type": "code",
   "execution_count": 223,
   "metadata": {},
   "outputs": [
    {
     "data": {
      "text/plain": [
       "['144inindia', '144intn', '144intn', '17th_time']"
      ]
     },
     "execution_count": 223,
     "metadata": {},
     "output_type": "execute_result"
    }
   ],
   "source": [
    "all_hashtags[1:5]"
   ]
  },
  {
   "cell_type": "code",
   "execution_count": 224,
   "metadata": {},
   "outputs": [],
   "source": [
    "temp_df = pd.DataFrame(columns={\"hashtag_text\"})"
   ]
  },
  {
   "cell_type": "code",
   "execution_count": 225,
   "metadata": {},
   "outputs": [],
   "source": [
    "temp_df[\"hashtag_text\"] = all_hashtags"
   ]
  },
  {
   "cell_type": "code",
   "execution_count": 227,
   "metadata": {},
   "outputs": [
    {
     "data": {
      "text/plain": [
       "corona                  877\n",
       "covid2019               215\n",
       "coronavirusindia        192\n",
       "21daylockdown           179\n",
       "indiafightscorona       174\n",
       "                       ... \n",
       "tajmahalagra              1\n",
       "worldunited               1\n",
       "water                     1\n",
       "gurudwarakabulattack      1\n",
       "prayathome                1\n",
       "Name: hashtag_text, Length: 2018, dtype: int64"
      ]
     },
     "execution_count": 227,
     "metadata": {},
     "output_type": "execute_result"
    }
   ],
   "source": [
    "temp_df[\"hashtag_text\"].value_counts()"
   ]
  },
  {
   "cell_type": "code",
   "execution_count": 241,
   "metadata": {},
   "outputs": [],
   "source": [
    "split_df_explode = split_df.explode('hashtags')"
   ]
  },
  {
   "cell_type": "code",
   "execution_count": 253,
   "metadata": {},
   "outputs": [
    {
     "data": {
      "text/plain": [
       "6148"
      ]
     },
     "execution_count": 253,
     "metadata": {},
     "output_type": "execute_result"
    }
   ],
   "source": [
    "split_df_explode.shape[0]"
   ]
  },
  {
   "cell_type": "code",
   "execution_count": 252,
   "metadata": {},
   "outputs": [
    {
     "data": {
      "text/plain": [
       "str"
      ]
     },
     "execution_count": 252,
     "metadata": {},
     "output_type": "execute_result"
    }
   ],
   "source": [
    "type(split_df_explode.iloc[1].date)"
   ]
  },
  {
   "cell_type": "code",
   "execution_count": 247,
   "metadata": {},
   "outputs": [
    {
     "data": {
      "text/plain": [
       "request                      1\n",
       "gurgaon                      1\n",
       "tikdi                        1\n",
       "indiatodayphotographers      1\n",
       "covid19walkout               1\n",
       "                          ... \n",
       "indiafightscorona          135\n",
       "coronavirusindia           141\n",
       "21daylockdown              143\n",
       "covid2019                  178\n",
       "corona                     718\n",
       "Name: hashtags, Length: 2018, dtype: int64"
      ]
     },
     "execution_count": 247,
     "metadata": {},
     "output_type": "execute_result"
    }
   ],
   "source": [
    "split_df_explode['hashtags'].value_counts().sort_values()"
   ]
  },
  {
   "cell_type": "code",
   "execution_count": 258,
   "metadata": {},
   "outputs": [
    {
     "data": {
      "text/html": [
       "<div>\n",
       "<style scoped>\n",
       "    .dataframe tbody tr th:only-of-type {\n",
       "        vertical-align: middle;\n",
       "    }\n",
       "\n",
       "    .dataframe tbody tr th {\n",
       "        vertical-align: top;\n",
       "    }\n",
       "\n",
       "    .dataframe thead th {\n",
       "        text-align: right;\n",
       "    }\n",
       "</style>\n",
       "<table border=\"1\" class=\"dataframe\">\n",
       "  <thead>\n",
       "    <tr style=\"text-align: right;\">\n",
       "      <th></th>\n",
       "      <th>date</th>\n",
       "      <th>hashtags</th>\n",
       "      <th>time</th>\n",
       "    </tr>\n",
       "  </thead>\n",
       "  <tbody>\n",
       "    <tr>\n",
       "      <th>1</th>\n",
       "      <td>2020-03-25</td>\n",
       "      <td>21dayslockdown</td>\n",
       "      <td>06:03:31</td>\n",
       "    </tr>\n",
       "    <tr>\n",
       "      <th>1</th>\n",
       "      <td>2020-03-25</td>\n",
       "      <td>covid2019</td>\n",
       "      <td>06:03:31</td>\n",
       "    </tr>\n",
       "    <tr>\n",
       "      <th>1</th>\n",
       "      <td>2020-03-25</td>\n",
       "      <td>indiafightscorona</td>\n",
       "      <td>06:03:31</td>\n",
       "    </tr>\n",
       "    <tr>\n",
       "      <th>3</th>\n",
       "      <td>2020-03-25</td>\n",
       "      <td>narayanpet</td>\n",
       "      <td>06:03:56</td>\n",
       "    </tr>\n",
       "    <tr>\n",
       "      <th>3</th>\n",
       "      <td>2020-03-25</td>\n",
       "      <td>corona</td>\n",
       "      <td>06:03:56</td>\n",
       "    </tr>\n",
       "    <tr>\n",
       "      <th>...</th>\n",
       "      <td>...</td>\n",
       "      <td>...</td>\n",
       "      <td>...</td>\n",
       "    </tr>\n",
       "    <tr>\n",
       "      <th>4438</th>\n",
       "      <td>2020-03-27</td>\n",
       "      <td>indiafightscorona</td>\n",
       "      <td>03:57:31</td>\n",
       "    </tr>\n",
       "    <tr>\n",
       "      <th>4439</th>\n",
       "      <td>2020-03-27</td>\n",
       "      <td>lifethriving</td>\n",
       "      <td>03:57:39</td>\n",
       "    </tr>\n",
       "    <tr>\n",
       "      <th>4442</th>\n",
       "      <td>2020-03-27</td>\n",
       "      <td>corona</td>\n",
       "      <td>03:59:27</td>\n",
       "    </tr>\n",
       "    <tr>\n",
       "      <th>4442</th>\n",
       "      <td>2020-03-27</td>\n",
       "      <td>silkroad</td>\n",
       "      <td>03:59:27</td>\n",
       "    </tr>\n",
       "    <tr>\n",
       "      <th>4442</th>\n",
       "      <td>2020-03-27</td>\n",
       "      <td>silkroute</td>\n",
       "      <td>03:59:27</td>\n",
       "    </tr>\n",
       "  </tbody>\n",
       "</table>\n",
       "<p>6148 rows × 3 columns</p>\n",
       "</div>"
      ],
      "text/plain": [
       "            date           hashtags      time\n",
       "1     2020-03-25     21dayslockdown  06:03:31\n",
       "1     2020-03-25          covid2019  06:03:31\n",
       "1     2020-03-25  indiafightscorona  06:03:31\n",
       "3     2020-03-25         narayanpet  06:03:56\n",
       "3     2020-03-25             corona  06:03:56\n",
       "...          ...                ...       ...\n",
       "4438  2020-03-27  indiafightscorona  03:57:31\n",
       "4439  2020-03-27       lifethriving  03:57:39\n",
       "4442  2020-03-27             corona  03:59:27\n",
       "4442  2020-03-27           silkroad  03:59:27\n",
       "4442  2020-03-27          silkroute  03:59:27\n",
       "\n",
       "[6148 rows x 3 columns]"
      ]
     },
     "execution_count": 258,
     "metadata": {},
     "output_type": "execute_result"
    }
   ],
   "source": [
    "split_df_sort = split_df_explode.sort_values(by=[\"date\", \"time\"])\n",
    "split_df_sort"
   ]
  },
  {
   "cell_type": "code",
   "execution_count": 259,
   "metadata": {},
   "outputs": [],
   "source": [
    "split_df = split_df.sort_values(by=[\"date\", \"time\"])"
   ]
  },
  {
   "cell_type": "code",
   "execution_count": 260,
   "metadata": {},
   "outputs": [
    {
     "data": {
      "text/html": [
       "<div>\n",
       "<style scoped>\n",
       "    .dataframe tbody tr th:only-of-type {\n",
       "        vertical-align: middle;\n",
       "    }\n",
       "\n",
       "    .dataframe tbody tr th {\n",
       "        vertical-align: top;\n",
       "    }\n",
       "\n",
       "    .dataframe thead th {\n",
       "        text-align: right;\n",
       "    }\n",
       "</style>\n",
       "<table border=\"1\" class=\"dataframe\">\n",
       "  <thead>\n",
       "    <tr style=\"text-align: right;\">\n",
       "      <th></th>\n",
       "      <th>date</th>\n",
       "      <th>hashtags</th>\n",
       "      <th>time</th>\n",
       "    </tr>\n",
       "  </thead>\n",
       "  <tbody>\n",
       "    <tr>\n",
       "      <th>1</th>\n",
       "      <td>2020-03-25</td>\n",
       "      <td>[21dayslockdown, covid2019, indiafightscorona]</td>\n",
       "      <td>06:03:31</td>\n",
       "    </tr>\n",
       "    <tr>\n",
       "      <th>3</th>\n",
       "      <td>2020-03-25</td>\n",
       "      <td>[narayanpet, corona]</td>\n",
       "      <td>06:03:56</td>\n",
       "    </tr>\n",
       "    <tr>\n",
       "      <th>7</th>\n",
       "      <td>2020-03-25</td>\n",
       "      <td>[corona]</td>\n",
       "      <td>06:05:05</td>\n",
       "    </tr>\n",
       "    <tr>\n",
       "      <th>8</th>\n",
       "      <td>2020-03-25</td>\n",
       "      <td>[ssc_ufm_mat_karona, corona, ufm]</td>\n",
       "      <td>06:05:46</td>\n",
       "    </tr>\n",
       "    <tr>\n",
       "      <th>9</th>\n",
       "      <td>2020-03-25</td>\n",
       "      <td>[keralafightscorona]</td>\n",
       "      <td>06:05:56</td>\n",
       "    </tr>\n",
       "    <tr>\n",
       "      <th>...</th>\n",
       "      <td>...</td>\n",
       "      <td>...</td>\n",
       "      <td>...</td>\n",
       "    </tr>\n",
       "    <tr>\n",
       "      <th>4434</th>\n",
       "      <td>2020-03-27</td>\n",
       "      <td>[coronavirusindia, stayhomestaysafe]</td>\n",
       "      <td>03:56:02</td>\n",
       "    </tr>\n",
       "    <tr>\n",
       "      <th>4437</th>\n",
       "      <td>2020-03-27</td>\n",
       "      <td>[संतों_की_दूरदर्शिता]</td>\n",
       "      <td>03:57:01</td>\n",
       "    </tr>\n",
       "    <tr>\n",
       "      <th>4438</th>\n",
       "      <td>2020-03-27</td>\n",
       "      <td>[lockdown21, indiafightscorona]</td>\n",
       "      <td>03:57:31</td>\n",
       "    </tr>\n",
       "    <tr>\n",
       "      <th>4439</th>\n",
       "      <td>2020-03-27</td>\n",
       "      <td>[lifethriving]</td>\n",
       "      <td>03:57:39</td>\n",
       "    </tr>\n",
       "    <tr>\n",
       "      <th>4442</th>\n",
       "      <td>2020-03-27</td>\n",
       "      <td>[corona, silkroad, silkroute]</td>\n",
       "      <td>03:59:27</td>\n",
       "    </tr>\n",
       "  </tbody>\n",
       "</table>\n",
       "<p>1637 rows × 3 columns</p>\n",
       "</div>"
      ],
      "text/plain": [
       "            date                                        hashtags      time\n",
       "1     2020-03-25  [21dayslockdown, covid2019, indiafightscorona]  06:03:31\n",
       "3     2020-03-25                            [narayanpet, corona]  06:03:56\n",
       "7     2020-03-25                                        [corona]  06:05:05\n",
       "8     2020-03-25               [ssc_ufm_mat_karona, corona, ufm]  06:05:46\n",
       "9     2020-03-25                            [keralafightscorona]  06:05:56\n",
       "...          ...                                             ...       ...\n",
       "4434  2020-03-27            [coronavirusindia, stayhomestaysafe]  03:56:02\n",
       "4437  2020-03-27                           [संतों_की_दूरदर्शिता]  03:57:01\n",
       "4438  2020-03-27                 [lockdown21, indiafightscorona]  03:57:31\n",
       "4439  2020-03-27                                  [lifethriving]  03:57:39\n",
       "4442  2020-03-27                   [corona, silkroad, silkroute]  03:59:27\n",
       "\n",
       "[1637 rows x 3 columns]"
      ]
     },
     "execution_count": 260,
     "metadata": {},
     "output_type": "execute_result"
    }
   ],
   "source": [
    "split_df"
   ]
  },
  {
   "cell_type": "code",
   "execution_count": null,
   "metadata": {},
   "outputs": [],
   "source": []
  }
 ],
 "metadata": {
  "kernelspec": {
   "display_name": "Python 3",
   "language": "python",
   "name": "python3"
  },
  "language_info": {
   "codemirror_mode": {
    "name": "ipython",
    "version": 3
   },
   "file_extension": ".py",
   "mimetype": "text/x-python",
   "name": "python",
   "nbconvert_exporter": "python",
   "pygments_lexer": "ipython3",
   "version": "3.8.3"
  }
 },
 "nbformat": 4,
 "nbformat_minor": 4
}
