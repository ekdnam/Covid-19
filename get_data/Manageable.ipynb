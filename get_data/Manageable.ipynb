{
 "cells": [
  {
   "cell_type": "code",
   "execution_count": 1,
   "metadata": {},
   "outputs": [],
   "source": [
    "import pandas as pd\n",
    "import numpy as np\n",
    "import matplotlib.pyplot as plt\n",
    "import json\n",
    "from numpy import nan as NaN"
   ]
  },
  {
   "cell_type": "code",
   "execution_count": 2,
   "metadata": {},
   "outputs": [],
   "source": [
    "filenames = []\n",
    "__BASE__FILENAME__ = \"dataset\\\\final_tweets_\"\n",
    "for i in range(1, 75):\n",
    "    file = __BASE__FILENAME__ + str(i) + '.csv'\n",
    "    filenames.append(file)"
   ]
  },
  {
   "cell_type": "code",
   "execution_count": 3,
   "metadata": {},
   "outputs": [],
   "source": [
    "main_df = pd.DataFrame()\n",
    "for filename in filenames:\n",
    "    temp_df = pd.read_csv(filename)\n",
    "    main_df = main_df.append(temp_df)"
   ]
  },
  {
   "cell_type": "code",
   "execution_count": 4,
   "metadata": {},
   "outputs": [
    {
     "data": {
      "text/html": [
       "<div>\n",
       "<style scoped>\n",
       "    .dataframe tbody tr th:only-of-type {\n",
       "        vertical-align: middle;\n",
       "    }\n",
       "\n",
       "    .dataframe tbody tr th {\n",
       "        vertical-align: top;\n",
       "    }\n",
       "\n",
       "    .dataframe thead th {\n",
       "        text-align: right;\n",
       "    }\n",
       "</style>\n",
       "<table border=\"1\" class=\"dataframe\">\n",
       "  <thead>\n",
       "    <tr style=\"text-align: right;\">\n",
       "      <th></th>\n",
       "      <th>Unnamed: 0</th>\n",
       "      <th>id_str</th>\n",
       "      <th>user_id</th>\n",
       "      <th>text</th>\n",
       "      <th>created_at</th>\n",
       "      <th>entities</th>\n",
       "      <th>lang</th>\n",
       "      <th>time_zone</th>\n",
       "      <th>user_location</th>\n",
       "      <th>location</th>\n",
       "      <th>entities_hashtags</th>\n",
       "      <th>entities_symbols</th>\n",
       "      <th>coordinates</th>\n",
       "    </tr>\n",
       "  </thead>\n",
       "  <tbody>\n",
       "    <tr>\n",
       "      <th>0</th>\n",
       "      <td>0</td>\n",
       "      <td>1242693402971406342</td>\n",
       "      <td>1211110380249858049</td>\n",
       "      <td>CORONA 19 UPDATE \\n---------------------------...</td>\n",
       "      <td>2020-03-25 06:02:50</td>\n",
       "      <td>{'hashtags': [], 'symbols': [], 'user_mentions...</td>\n",
       "      <td>en</td>\n",
       "      <td>NaN</td>\n",
       "      <td>NaN</td>\n",
       "      <td>NaN</td>\n",
       "      <td>NaN</td>\n",
       "      <td>NaN</td>\n",
       "      <td>NaN</td>\n",
       "    </tr>\n",
       "    <tr>\n",
       "      <th>1</th>\n",
       "      <td>1</td>\n",
       "      <td>1242693578817597442</td>\n",
       "      <td>2558507150</td>\n",
       "      <td>Anti Corona T-shirt collection is online for s...</td>\n",
       "      <td>2020-03-25 06:03:31</td>\n",
       "      <td>{'hashtags': [{'text': '21daysLockdown', 'indi...</td>\n",
       "      <td>en</td>\n",
       "      <td>NaN</td>\n",
       "      <td>NaN</td>\n",
       "      <td>NaN</td>\n",
       "      <td>NaN</td>\n",
       "      <td>NaN</td>\n",
       "      <td>NaN</td>\n",
       "    </tr>\n",
       "    <tr>\n",
       "      <th>2</th>\n",
       "      <td>2</td>\n",
       "      <td>1242693609725575168</td>\n",
       "      <td>1242691555628060672</td>\n",
       "      <td>The matter is serious. Take full care not to b...</td>\n",
       "      <td>2020-03-25 06:03:39</td>\n",
       "      <td>{'hashtags': [], 'symbols': [], 'user_mentions...</td>\n",
       "      <td>en</td>\n",
       "      <td>NaN</td>\n",
       "      <td>NaN</td>\n",
       "      <td>NaN</td>\n",
       "      <td>NaN</td>\n",
       "      <td>NaN</td>\n",
       "      <td>NaN</td>\n",
       "    </tr>\n",
       "    <tr>\n",
       "      <th>3</th>\n",
       "      <td>3</td>\n",
       "      <td>1242693680143544325</td>\n",
       "      <td>787255787961872388</td>\n",
       "      <td>All Mosque committee members headed by Syed Ga...</td>\n",
       "      <td>2020-03-25 06:03:56</td>\n",
       "      <td>{'hashtags': [{'text': 'Narayanpet', 'indices'...</td>\n",
       "      <td>en</td>\n",
       "      <td>NaN</td>\n",
       "      <td>NaN</td>\n",
       "      <td>NaN</td>\n",
       "      <td>NaN</td>\n",
       "      <td>NaN</td>\n",
       "      <td>NaN</td>\n",
       "    </tr>\n",
       "    <tr>\n",
       "      <th>4</th>\n",
       "      <td>4</td>\n",
       "      <td>1242693745755262977</td>\n",
       "      <td>1230923356519555072</td>\n",
       "      <td>@aajtak If these Indians are already infected ...</td>\n",
       "      <td>2020-03-25 06:04:11</td>\n",
       "      <td>{'hashtags': [], 'symbols': [], 'user_mentions...</td>\n",
       "      <td>en</td>\n",
       "      <td>NaN</td>\n",
       "      <td>NaN</td>\n",
       "      <td>NaN</td>\n",
       "      <td>NaN</td>\n",
       "      <td>NaN</td>\n",
       "      <td>NaN</td>\n",
       "    </tr>\n",
       "    <tr>\n",
       "      <th>...</th>\n",
       "      <td>...</td>\n",
       "      <td>...</td>\n",
       "      <td>...</td>\n",
       "      <td>...</td>\n",
       "      <td>...</td>\n",
       "      <td>...</td>\n",
       "      <td>...</td>\n",
       "      <td>...</td>\n",
       "      <td>...</td>\n",
       "      <td>...</td>\n",
       "      <td>...</td>\n",
       "      <td>...</td>\n",
       "      <td>...</td>\n",
       "    </tr>\n",
       "    <tr>\n",
       "      <th>282</th>\n",
       "      <td>282</td>\n",
       "      <td>1264242054101635073</td>\n",
       "      <td>2987548622</td>\n",
       "      <td>#AatmaNirbharApnaBharat\\nFacilitating states d...</td>\n",
       "      <td>2020-05-23 17:09:28</td>\n",
       "      <td>NaN</td>\n",
       "      <td>en</td>\n",
       "      <td>NaN</td>\n",
       "      <td>NaN</td>\n",
       "      <td>लखनऊ, भारत</td>\n",
       "      <td>[{'text': 'AatmaNirbharApnaBharat', 'indices':...</td>\n",
       "      <td>[]</td>\n",
       "      <td>NaN</td>\n",
       "    </tr>\n",
       "    <tr>\n",
       "      <th>283</th>\n",
       "      <td>283</td>\n",
       "      <td>1264242097940336641</td>\n",
       "      <td>2269187558</td>\n",
       "      <td>Cheers to you jyoti. Wish you health &amp;amp; hap...</td>\n",
       "      <td>2020-05-23 17:09:39</td>\n",
       "      <td>NaN</td>\n",
       "      <td>en</td>\n",
       "      <td>NaN</td>\n",
       "      <td>NaN</td>\n",
       "      <td>Bengaluru South, India</td>\n",
       "      <td>[{'text': 'PMCaresFund', 'indices': [125, 137]}]</td>\n",
       "      <td>[]</td>\n",
       "      <td>NaN</td>\n",
       "    </tr>\n",
       "    <tr>\n",
       "      <th>284</th>\n",
       "      <td>284</td>\n",
       "      <td>1264242258762764289</td>\n",
       "      <td>2987548622</td>\n",
       "      <td>#AatmaNirbharApnaBharat\\nTechnology driven edu...</td>\n",
       "      <td>2020-05-23 17:10:17</td>\n",
       "      <td>NaN</td>\n",
       "      <td>en</td>\n",
       "      <td>NaN</td>\n",
       "      <td>NaN</td>\n",
       "      <td>लखनऊ, भारत</td>\n",
       "      <td>[{'text': 'AatmaNirbharApnaBharat', 'indices':...</td>\n",
       "      <td>[]</td>\n",
       "      <td>NaN</td>\n",
       "    </tr>\n",
       "    <tr>\n",
       "      <th>285</th>\n",
       "      <td>285</td>\n",
       "      <td>1264242273790787584</td>\n",
       "      <td>1083235498418733057</td>\n",
       "      <td>#EidMubarak #EidAlFitr #RomanReigns @WWERomanR...</td>\n",
       "      <td>2020-05-23 17:10:21</td>\n",
       "      <td>NaN</td>\n",
       "      <td>en</td>\n",
       "      <td>NaN</td>\n",
       "      <td>NaN</td>\n",
       "      <td>India</td>\n",
       "      <td>[{'text': 'EidMubarak', 'indices': [0, 11]}, {...</td>\n",
       "      <td>[]</td>\n",
       "      <td>NaN</td>\n",
       "    </tr>\n",
       "    <tr>\n",
       "      <th>286</th>\n",
       "      <td>286</td>\n",
       "      <td>1264242405668089858</td>\n",
       "      <td>1074016333476507648</td>\n",
       "      <td>#dmrc #metro I wanna ask about and gave asure ...</td>\n",
       "      <td>2020-05-23 17:10:52</td>\n",
       "      <td>NaN</td>\n",
       "      <td>en</td>\n",
       "      <td>NaN</td>\n",
       "      <td>NaN</td>\n",
       "      <td>New Delhi, India</td>\n",
       "      <td>[{'text': 'dmrc', 'indices': [0, 5]}, {'text':...</td>\n",
       "      <td>[]</td>\n",
       "      <td>NaN</td>\n",
       "    </tr>\n",
       "  </tbody>\n",
       "</table>\n",
       "<p>58491 rows × 13 columns</p>\n",
       "</div>"
      ],
      "text/plain": [
       "    Unnamed: 0               id_str              user_id  \\\n",
       "0            0  1242693402971406342  1211110380249858049   \n",
       "1            1  1242693578817597442           2558507150   \n",
       "2            2  1242693609725575168  1242691555628060672   \n",
       "3            3  1242693680143544325   787255787961872388   \n",
       "4            4  1242693745755262977  1230923356519555072   \n",
       "..         ...                  ...                  ...   \n",
       "282        282  1264242054101635073           2987548622   \n",
       "283        283  1264242097940336641           2269187558   \n",
       "284        284  1264242258762764289           2987548622   \n",
       "285        285  1264242273790787584  1083235498418733057   \n",
       "286        286  1264242405668089858  1074016333476507648   \n",
       "\n",
       "                                                  text           created_at  \\\n",
       "0    CORONA 19 UPDATE \\n---------------------------...  2020-03-25 06:02:50   \n",
       "1    Anti Corona T-shirt collection is online for s...  2020-03-25 06:03:31   \n",
       "2    The matter is serious. Take full care not to b...  2020-03-25 06:03:39   \n",
       "3    All Mosque committee members headed by Syed Ga...  2020-03-25 06:03:56   \n",
       "4    @aajtak If these Indians are already infected ...  2020-03-25 06:04:11   \n",
       "..                                                 ...                  ...   \n",
       "282  #AatmaNirbharApnaBharat\\nFacilitating states d...  2020-05-23 17:09:28   \n",
       "283  Cheers to you jyoti. Wish you health &amp; hap...  2020-05-23 17:09:39   \n",
       "284  #AatmaNirbharApnaBharat\\nTechnology driven edu...  2020-05-23 17:10:17   \n",
       "285  #EidMubarak #EidAlFitr #RomanReigns @WWERomanR...  2020-05-23 17:10:21   \n",
       "286  #dmrc #metro I wanna ask about and gave asure ...  2020-05-23 17:10:52   \n",
       "\n",
       "                                              entities lang time_zone  \\\n",
       "0    {'hashtags': [], 'symbols': [], 'user_mentions...   en       NaN   \n",
       "1    {'hashtags': [{'text': '21daysLockdown', 'indi...   en       NaN   \n",
       "2    {'hashtags': [], 'symbols': [], 'user_mentions...   en       NaN   \n",
       "3    {'hashtags': [{'text': 'Narayanpet', 'indices'...   en       NaN   \n",
       "4    {'hashtags': [], 'symbols': [], 'user_mentions...   en       NaN   \n",
       "..                                                 ...  ...       ...   \n",
       "282                                                NaN   en       NaN   \n",
       "283                                                NaN   en       NaN   \n",
       "284                                                NaN   en       NaN   \n",
       "285                                                NaN   en       NaN   \n",
       "286                                                NaN   en       NaN   \n",
       "\n",
       "     user_location                location  \\\n",
       "0              NaN                     NaN   \n",
       "1              NaN                     NaN   \n",
       "2              NaN                     NaN   \n",
       "3              NaN                     NaN   \n",
       "4              NaN                     NaN   \n",
       "..             ...                     ...   \n",
       "282            NaN              लखनऊ, भारत   \n",
       "283            NaN  Bengaluru South, India   \n",
       "284            NaN              लखनऊ, भारत   \n",
       "285            NaN                   India   \n",
       "286            NaN        New Delhi, India   \n",
       "\n",
       "                                     entities_hashtags entities_symbols  \\\n",
       "0                                                  NaN              NaN   \n",
       "1                                                  NaN              NaN   \n",
       "2                                                  NaN              NaN   \n",
       "3                                                  NaN              NaN   \n",
       "4                                                  NaN              NaN   \n",
       "..                                                 ...              ...   \n",
       "282  [{'text': 'AatmaNirbharApnaBharat', 'indices':...               []   \n",
       "283   [{'text': 'PMCaresFund', 'indices': [125, 137]}]               []   \n",
       "284  [{'text': 'AatmaNirbharApnaBharat', 'indices':...               []   \n",
       "285  [{'text': 'EidMubarak', 'indices': [0, 11]}, {...               []   \n",
       "286  [{'text': 'dmrc', 'indices': [0, 5]}, {'text':...               []   \n",
       "\n",
       "    coordinates  \n",
       "0           NaN  \n",
       "1           NaN  \n",
       "2           NaN  \n",
       "3           NaN  \n",
       "4           NaN  \n",
       "..          ...  \n",
       "282         NaN  \n",
       "283         NaN  \n",
       "284         NaN  \n",
       "285         NaN  \n",
       "286         NaN  \n",
       "\n",
       "[58491 rows x 13 columns]"
      ]
     },
     "execution_count": 4,
     "metadata": {},
     "output_type": "execute_result"
    }
   ],
   "source": [
    "main_df"
   ]
  },
  {
   "cell_type": "code",
   "execution_count": 47,
   "metadata": {},
   "outputs": [
    {
     "data": {
      "text/plain": [
       "(58491, 13)"
      ]
     },
     "execution_count": 47,
     "metadata": {},
     "output_type": "execute_result"
    }
   ],
   "source": [
    "main_df.shape"
   ]
  },
  {
   "cell_type": "code",
   "execution_count": 5,
   "metadata": {},
   "outputs": [
    {
     "name": "stdout",
     "output_type": "stream",
     "text": [
      "<class 'list'>\n"
     ]
    },
    {
     "data": {
      "text/html": [
       "<div>\n",
       "<style scoped>\n",
       "    .dataframe tbody tr th:only-of-type {\n",
       "        vertical-align: middle;\n",
       "    }\n",
       "\n",
       "    .dataframe tbody tr th {\n",
       "        vertical-align: top;\n",
       "    }\n",
       "\n",
       "    .dataframe thead th {\n",
       "        text-align: right;\n",
       "    }\n",
       "</style>\n",
       "<table border=\"1\" class=\"dataframe\">\n",
       "  <thead>\n",
       "    <tr style=\"text-align: right;\">\n",
       "      <th></th>\n",
       "      <th>created_at</th>\n",
       "      <th>ent</th>\n",
       "    </tr>\n",
       "  </thead>\n",
       "  <tbody>\n",
       "    <tr>\n",
       "      <th>0</th>\n",
       "      <td>2020-03-25 06:02:50</td>\n",
       "      <td>{'hashtags': [], 'symbols': [], 'user_mentions...</td>\n",
       "    </tr>\n",
       "    <tr>\n",
       "      <th>1</th>\n",
       "      <td>2020-03-25 06:03:31</td>\n",
       "      <td>{'hashtags': [{'text': '21daysLockdown', 'indi...</td>\n",
       "    </tr>\n",
       "    <tr>\n",
       "      <th>2</th>\n",
       "      <td>2020-03-25 06:03:39</td>\n",
       "      <td>{'hashtags': [], 'symbols': [], 'user_mentions...</td>\n",
       "    </tr>\n",
       "    <tr>\n",
       "      <th>3</th>\n",
       "      <td>2020-03-25 06:03:56</td>\n",
       "      <td>{'hashtags': [{'text': 'Narayanpet', 'indices'...</td>\n",
       "    </tr>\n",
       "    <tr>\n",
       "      <th>4</th>\n",
       "      <td>2020-03-25 06:04:11</td>\n",
       "      <td>{'hashtags': [], 'symbols': [], 'user_mentions...</td>\n",
       "    </tr>\n",
       "    <tr>\n",
       "      <th>...</th>\n",
       "      <td>...</td>\n",
       "      <td>...</td>\n",
       "    </tr>\n",
       "    <tr>\n",
       "      <th>890</th>\n",
       "      <td>2020-03-27 03:57:50</td>\n",
       "      <td>{'hashtags': [], 'symbols': [], 'user_mentions...</td>\n",
       "    </tr>\n",
       "    <tr>\n",
       "      <th>891</th>\n",
       "      <td>2020-03-27 03:58:05</td>\n",
       "      <td>{'hashtags': [], 'symbols': [], 'user_mentions...</td>\n",
       "    </tr>\n",
       "    <tr>\n",
       "      <th>892</th>\n",
       "      <td>2020-03-27 03:59:27</td>\n",
       "      <td>{'hashtags': [{'text': 'corona', 'indices': [5...</td>\n",
       "    </tr>\n",
       "    <tr>\n",
       "      <th>893</th>\n",
       "      <td>2020-03-27 03:59:39</td>\n",
       "      <td>{'hashtags': [], 'symbols': [], 'user_mentions...</td>\n",
       "    </tr>\n",
       "    <tr>\n",
       "      <th>894</th>\n",
       "      <td>2020-03-27 04:00:13</td>\n",
       "      <td>{'hashtags': [], 'symbols': [], 'user_mentions...</td>\n",
       "    </tr>\n",
       "  </tbody>\n",
       "</table>\n",
       "<p>4462 rows × 2 columns</p>\n",
       "</div>"
      ],
      "text/plain": [
       "              created_at                                                ent\n",
       "0    2020-03-25 06:02:50  {'hashtags': [], 'symbols': [], 'user_mentions...\n",
       "1    2020-03-25 06:03:31  {'hashtags': [{'text': '21daysLockdown', 'indi...\n",
       "2    2020-03-25 06:03:39  {'hashtags': [], 'symbols': [], 'user_mentions...\n",
       "3    2020-03-25 06:03:56  {'hashtags': [{'text': 'Narayanpet', 'indices'...\n",
       "4    2020-03-25 06:04:11  {'hashtags': [], 'symbols': [], 'user_mentions...\n",
       "..                   ...                                                ...\n",
       "890  2020-03-27 03:57:50  {'hashtags': [], 'symbols': [], 'user_mentions...\n",
       "891  2020-03-27 03:58:05  {'hashtags': [], 'symbols': [], 'user_mentions...\n",
       "892  2020-03-27 03:59:27  {'hashtags': [{'text': 'corona', 'indices': [5...\n",
       "893  2020-03-27 03:59:39  {'hashtags': [], 'symbols': [], 'user_mentions...\n",
       "894  2020-03-27 04:00:13  {'hashtags': [], 'symbols': [], 'user_mentions...\n",
       "\n",
       "[4462 rows x 2 columns]"
      ]
     },
     "execution_count": 5,
     "metadata": {},
     "output_type": "execute_result"
    }
   ],
   "source": [
    "reqd_data = [main_df['created_at'], main_df['entities']]\n",
    "print(type(reqd_data))\n",
    "headers = [\"created_at\", \"ent\"]\n",
    "reqd_df = pd.concat(reqd_data, axis = 1, keys=headers)\n",
    "reqd_df = reqd_df.dropna()\n",
    "reqd_df"
   ]
  },
  {
   "cell_type": "code",
   "execution_count": 48,
   "metadata": {},
   "outputs": [
    {
     "data": {
      "text/plain": [
       "(4462, 2)"
      ]
     },
     "execution_count": 48,
     "metadata": {},
     "output_type": "execute_result"
    }
   ],
   "source": [
    "reqd_df.shape"
   ]
  },
  {
   "cell_type": "code",
   "execution_count": 6,
   "metadata": {},
   "outputs": [
    {
     "data": {
      "text/html": [
       "<div>\n",
       "<style scoped>\n",
       "    .dataframe tbody tr th:only-of-type {\n",
       "        vertical-align: middle;\n",
       "    }\n",
       "\n",
       "    .dataframe tbody tr th {\n",
       "        vertical-align: top;\n",
       "    }\n",
       "\n",
       "    .dataframe thead th {\n",
       "        text-align: right;\n",
       "    }\n",
       "</style>\n",
       "<table border=\"1\" class=\"dataframe\">\n",
       "  <thead>\n",
       "    <tr style=\"text-align: right;\">\n",
       "      <th></th>\n",
       "      <th>date</th>\n",
       "      <th>time</th>\n",
       "      <th>hashtags</th>\n",
       "    </tr>\n",
       "  </thead>\n",
       "  <tbody>\n",
       "  </tbody>\n",
       "</table>\n",
       "</div>"
      ],
      "text/plain": [
       "Empty DataFrame\n",
       "Columns: [date, time, hashtags]\n",
       "Index: []"
      ]
     },
     "execution_count": 6,
     "metadata": {},
     "output_type": "execute_result"
    }
   ],
   "source": [
    "columns = {\"date\", \"time\", \"hashtags\"}\n",
    "split_df = pd.DataFrame(columns=columns)\n",
    "split_df"
   ]
  },
  {
   "cell_type": "code",
   "execution_count": 7,
   "metadata": {},
   "outputs": [
    {
     "name": "stdout",
     "output_type": "stream",
     "text": [
      "Expecting ',' delimiter: line 1 column 290 (char 289)\n",
      "Expecting ',' delimiter: line 1 column 129 (char 128)\n",
      "Expecting ',' delimiter: line 1 column 354 (char 353)\n",
      "Expecting ',' delimiter: line 1 column 225 (char 224)\n",
      "Expecting ',' delimiter: line 1 column 1379 (char 1378)\n",
      "Expecting ',' delimiter: line 1 column 495 (char 494)\n",
      "Expecting ',' delimiter: line 1 column 88 (char 87)\n",
      "Expecting ',' delimiter: line 1 column 473 (char 472)\n",
      "Expecting ',' delimiter: line 1 column 693 (char 692)\n",
      "Expecting ',' delimiter: line 1 column 101 (char 100)\n",
      "Expecting ',' delimiter: line 1 column 1797 (char 1796)\n",
      "Expecting ',' delimiter: line 1 column 619 (char 618)\n",
      "Expecting ',' delimiter: line 1 column 97 (char 96)\n",
      "Expecting ',' delimiter: line 1 column 1973 (char 1972)\n",
      "Invalid \\escape: line 1 column 103 (char 102)\n",
      "Expecting ',' delimiter: line 1 column 270 (char 269)\n",
      "Expecting ',' delimiter: line 1 column 94 (char 93)\n",
      "Expecting ',' delimiter: line 1 column 490 (char 489)\n"
     ]
    }
   ],
   "source": [
    "columns = {\"date\", \"time\", \"hashtags\"}\n",
    "split_df = pd.DataFrame(columns=columns)\n",
    "split_df\n",
    "error_rows = []\n",
    "temp = 0\n",
    "for idx, row in reqd_df.iterrows():\n",
    "#     print('Processing row '+ str(idx))\n",
    "    text_values = []\n",
    "    date, time = str(row.created_at).split()\n",
    "    try:\n",
    "        json_hashtags = json.loads(str(row.ent).replace(\"'\", '\"'))\n",
    "        for value in json_hashtags[\"hashtags\"]:\n",
    "            text_values.append(value[\"text\"].lower())\n",
    "        if len(text_values) != 0:\n",
    "            temp_dict = {'date': date, 'hashtags': text_values, 'time': time}\n",
    "        else:\n",
    "            temp_dict = {'date': date, 'hashtags': NaN, 'time': time}\n",
    "        split_df = split_df.append(temp_dict, ignore_index=True)\n",
    "    except Exception as e:\n",
    "        print(e)\n",
    "#         print(\"error occurred while processing row \" + str(idx))\n",
    "        error_rows.append(idx)"
   ]
  },
  {
   "cell_type": "code",
   "execution_count": 8,
   "metadata": {},
   "outputs": [
    {
     "data": {
      "text/html": [
       "<div>\n",
       "<style scoped>\n",
       "    .dataframe tbody tr th:only-of-type {\n",
       "        vertical-align: middle;\n",
       "    }\n",
       "\n",
       "    .dataframe tbody tr th {\n",
       "        vertical-align: top;\n",
       "    }\n",
       "\n",
       "    .dataframe thead th {\n",
       "        text-align: right;\n",
       "    }\n",
       "</style>\n",
       "<table border=\"1\" class=\"dataframe\">\n",
       "  <thead>\n",
       "    <tr style=\"text-align: right;\">\n",
       "      <th></th>\n",
       "      <th>date</th>\n",
       "      <th>time</th>\n",
       "      <th>hashtags</th>\n",
       "    </tr>\n",
       "  </thead>\n",
       "  <tbody>\n",
       "    <tr>\n",
       "      <th>1</th>\n",
       "      <td>2020-03-25</td>\n",
       "      <td>06:03:31</td>\n",
       "      <td>[21dayslockdown, covid2019, indiafightscorona]</td>\n",
       "    </tr>\n",
       "    <tr>\n",
       "      <th>3</th>\n",
       "      <td>2020-03-25</td>\n",
       "      <td>06:03:56</td>\n",
       "      <td>[narayanpet, corona]</td>\n",
       "    </tr>\n",
       "    <tr>\n",
       "      <th>7</th>\n",
       "      <td>2020-03-25</td>\n",
       "      <td>06:05:05</td>\n",
       "      <td>[corona]</td>\n",
       "    </tr>\n",
       "    <tr>\n",
       "      <th>8</th>\n",
       "      <td>2020-03-25</td>\n",
       "      <td>06:05:46</td>\n",
       "      <td>[ssc_ufm_mat_karona, corona, ufm]</td>\n",
       "    </tr>\n",
       "    <tr>\n",
       "      <th>9</th>\n",
       "      <td>2020-03-25</td>\n",
       "      <td>06:05:56</td>\n",
       "      <td>[keralafightscorona]</td>\n",
       "    </tr>\n",
       "    <tr>\n",
       "      <th>...</th>\n",
       "      <td>...</td>\n",
       "      <td>...</td>\n",
       "      <td>...</td>\n",
       "    </tr>\n",
       "    <tr>\n",
       "      <th>4434</th>\n",
       "      <td>2020-03-27</td>\n",
       "      <td>03:56:02</td>\n",
       "      <td>[coronavirusindia, stayhomestaysafe]</td>\n",
       "    </tr>\n",
       "    <tr>\n",
       "      <th>4437</th>\n",
       "      <td>2020-03-27</td>\n",
       "      <td>03:57:01</td>\n",
       "      <td>[संतों_की_दूरदर्शिता]</td>\n",
       "    </tr>\n",
       "    <tr>\n",
       "      <th>4438</th>\n",
       "      <td>2020-03-27</td>\n",
       "      <td>03:57:31</td>\n",
       "      <td>[lockdown21, indiafightscorona]</td>\n",
       "    </tr>\n",
       "    <tr>\n",
       "      <th>4439</th>\n",
       "      <td>2020-03-27</td>\n",
       "      <td>03:57:39</td>\n",
       "      <td>[lifethriving]</td>\n",
       "    </tr>\n",
       "    <tr>\n",
       "      <th>4442</th>\n",
       "      <td>2020-03-27</td>\n",
       "      <td>03:59:27</td>\n",
       "      <td>[corona, silkroad, silkroute]</td>\n",
       "    </tr>\n",
       "  </tbody>\n",
       "</table>\n",
       "<p>1637 rows × 3 columns</p>\n",
       "</div>"
      ],
      "text/plain": [
       "            date      time                                        hashtags\n",
       "1     2020-03-25  06:03:31  [21dayslockdown, covid2019, indiafightscorona]\n",
       "3     2020-03-25  06:03:56                            [narayanpet, corona]\n",
       "7     2020-03-25  06:05:05                                        [corona]\n",
       "8     2020-03-25  06:05:46               [ssc_ufm_mat_karona, corona, ufm]\n",
       "9     2020-03-25  06:05:56                            [keralafightscorona]\n",
       "...          ...       ...                                             ...\n",
       "4434  2020-03-27  03:56:02            [coronavirusindia, stayhomestaysafe]\n",
       "4437  2020-03-27  03:57:01                           [संतों_की_दूरदर्शिता]\n",
       "4438  2020-03-27  03:57:31                 [lockdown21, indiafightscorona]\n",
       "4439  2020-03-27  03:57:39                                  [lifethriving]\n",
       "4442  2020-03-27  03:59:27                   [corona, silkroad, silkroute]\n",
       "\n",
       "[1637 rows x 3 columns]"
      ]
     },
     "execution_count": 8,
     "metadata": {},
     "output_type": "execute_result"
    }
   ],
   "source": [
    "split_df = split_df.dropna()\n",
    "split_df"
   ]
  },
  {
   "cell_type": "code",
   "execution_count": 9,
   "metadata": {},
   "outputs": [
    {
     "name": "stdout",
     "output_type": "stream",
     "text": [
      "The total number of hashtags is 6148\n"
     ]
    }
   ],
   "source": [
    "all_hashtags = []\n",
    "for idx, row in split_df.iterrows():\n",
    "    for hashtag in row.hashtags:\n",
    "        all_hashtags.append(hashtag.lower())\n",
    "print(\"The total number of hashtags is \" + str(len(all_hashtags)))"
   ]
  },
  {
   "cell_type": "code",
   "execution_count": 10,
   "metadata": {},
   "outputs": [
    {
     "name": "stdout",
     "output_type": "stream",
     "text": [
      "Number of unique hashtags: 2018\n"
     ]
    }
   ],
   "source": [
    "all_hashtags_set = set(all_hashtags)\n",
    "print(\"Number of unique hashtags: \" + str(len(all_hashtags_set)))"
   ]
  },
  {
   "cell_type": "code",
   "execution_count": 11,
   "metadata": {},
   "outputs": [
    {
     "data": {
      "text/plain": [
       "corona               718\n",
       "covid2019            178\n",
       "21daylockdown        143\n",
       "coronavirusindia     141\n",
       "indiafightscorona    135\n",
       "                    ... \n",
       "coronaracism           1\n",
       "republicvscorona       1\n",
       "fashiondesigner        1\n",
       "ojasrawal              1\n",
       "bengal                 1\n",
       "Name: hashtag_text, Length: 2018, dtype: int64"
      ]
     },
     "execution_count": 11,
     "metadata": {},
     "output_type": "execute_result"
    }
   ],
   "source": [
    "temp_df = pd.DataFrame(columns={\"hashtag_text\"})\n",
    "temp_df[\"hashtag_text\"] = all_hashtags\n",
    "temp_df[\"hashtag_text\"].value_counts()"
   ]
  },
  {
   "cell_type": "code",
   "execution_count": 12,
   "metadata": {},
   "outputs": [
    {
     "name": "stdout",
     "output_type": "stream",
     "text": [
      "Number of rows: 6148\n"
     ]
    },
    {
     "data": {
      "text/plain": [
       "corona               718\n",
       "covid2019            178\n",
       "21daylockdown        143\n",
       "coronavirusindia     141\n",
       "indiafightscorona    135\n",
       "                    ... \n",
       "coronaracism           1\n",
       "republicvscorona       1\n",
       "fashiondesigner        1\n",
       "ojasrawal              1\n",
       "bengal                 1\n",
       "Name: hashtags, Length: 2018, dtype: int64"
      ]
     },
     "execution_count": 12,
     "metadata": {},
     "output_type": "execute_result"
    }
   ],
   "source": [
    "split_df_explode = split_df.explode('hashtags')\n",
    "print(\"Number of rows: \"+ str(split_df_explode.shape[0]))\n",
    "split_df_explode['hashtags'].value_counts()"
   ]
  },
  {
   "cell_type": "code",
   "execution_count": 21,
   "metadata": {},
   "outputs": [
    {
     "data": {
      "text/html": [
       "<div>\n",
       "<style scoped>\n",
       "    .dataframe tbody tr th:only-of-type {\n",
       "        vertical-align: middle;\n",
       "    }\n",
       "\n",
       "    .dataframe tbody tr th {\n",
       "        vertical-align: top;\n",
       "    }\n",
       "\n",
       "    .dataframe thead th {\n",
       "        text-align: right;\n",
       "    }\n",
       "</style>\n",
       "<table border=\"1\" class=\"dataframe\">\n",
       "  <thead>\n",
       "    <tr style=\"text-align: right;\">\n",
       "      <th></th>\n",
       "      <th>date</th>\n",
       "      <th>time</th>\n",
       "      <th>hashtags</th>\n",
       "    </tr>\n",
       "  </thead>\n",
       "  <tbody>\n",
       "    <tr>\n",
       "      <th>1</th>\n",
       "      <td>2020-03-25</td>\n",
       "      <td>06:03:31</td>\n",
       "      <td>21dayslockdown</td>\n",
       "    </tr>\n",
       "    <tr>\n",
       "      <th>1</th>\n",
       "      <td>2020-03-25</td>\n",
       "      <td>06:03:31</td>\n",
       "      <td>covid2019</td>\n",
       "    </tr>\n",
       "    <tr>\n",
       "      <th>1</th>\n",
       "      <td>2020-03-25</td>\n",
       "      <td>06:03:31</td>\n",
       "      <td>indiafightscorona</td>\n",
       "    </tr>\n",
       "    <tr>\n",
       "      <th>3</th>\n",
       "      <td>2020-03-25</td>\n",
       "      <td>06:03:56</td>\n",
       "      <td>narayanpet</td>\n",
       "    </tr>\n",
       "    <tr>\n",
       "      <th>3</th>\n",
       "      <td>2020-03-25</td>\n",
       "      <td>06:03:56</td>\n",
       "      <td>corona</td>\n",
       "    </tr>\n",
       "    <tr>\n",
       "      <th>...</th>\n",
       "      <td>...</td>\n",
       "      <td>...</td>\n",
       "      <td>...</td>\n",
       "    </tr>\n",
       "    <tr>\n",
       "      <th>4438</th>\n",
       "      <td>2020-03-27</td>\n",
       "      <td>03:57:31</td>\n",
       "      <td>indiafightscorona</td>\n",
       "    </tr>\n",
       "    <tr>\n",
       "      <th>4439</th>\n",
       "      <td>2020-03-27</td>\n",
       "      <td>03:57:39</td>\n",
       "      <td>lifethriving</td>\n",
       "    </tr>\n",
       "    <tr>\n",
       "      <th>4442</th>\n",
       "      <td>2020-03-27</td>\n",
       "      <td>03:59:27</td>\n",
       "      <td>corona</td>\n",
       "    </tr>\n",
       "    <tr>\n",
       "      <th>4442</th>\n",
       "      <td>2020-03-27</td>\n",
       "      <td>03:59:27</td>\n",
       "      <td>silkroad</td>\n",
       "    </tr>\n",
       "    <tr>\n",
       "      <th>4442</th>\n",
       "      <td>2020-03-27</td>\n",
       "      <td>03:59:27</td>\n",
       "      <td>silkroute</td>\n",
       "    </tr>\n",
       "  </tbody>\n",
       "</table>\n",
       "<p>6148 rows × 3 columns</p>\n",
       "</div>"
      ],
      "text/plain": [
       "            date      time           hashtags\n",
       "1     2020-03-25  06:03:31     21dayslockdown\n",
       "1     2020-03-25  06:03:31          covid2019\n",
       "1     2020-03-25  06:03:31  indiafightscorona\n",
       "3     2020-03-25  06:03:56         narayanpet\n",
       "3     2020-03-25  06:03:56             corona\n",
       "...          ...       ...                ...\n",
       "4438  2020-03-27  03:57:31  indiafightscorona\n",
       "4439  2020-03-27  03:57:39       lifethriving\n",
       "4442  2020-03-27  03:59:27             corona\n",
       "4442  2020-03-27  03:59:27           silkroad\n",
       "4442  2020-03-27  03:59:27          silkroute\n",
       "\n",
       "[6148 rows x 3 columns]"
      ]
     },
     "execution_count": 21,
     "metadata": {},
     "output_type": "execute_result"
    }
   ],
   "source": [
    "split_df_explode"
   ]
  },
  {
   "cell_type": "code",
   "execution_count": 13,
   "metadata": {},
   "outputs": [
    {
     "data": {
      "text/html": [
       "<div>\n",
       "<style scoped>\n",
       "    .dataframe tbody tr th:only-of-type {\n",
       "        vertical-align: middle;\n",
       "    }\n",
       "\n",
       "    .dataframe tbody tr th {\n",
       "        vertical-align: top;\n",
       "    }\n",
       "\n",
       "    .dataframe thead th {\n",
       "        text-align: right;\n",
       "    }\n",
       "</style>\n",
       "<table border=\"1\" class=\"dataframe\">\n",
       "  <thead>\n",
       "    <tr style=\"text-align: right;\">\n",
       "      <th></th>\n",
       "      <th>date</th>\n",
       "      <th>time</th>\n",
       "      <th>hashtags</th>\n",
       "    </tr>\n",
       "  </thead>\n",
       "  <tbody>\n",
       "    <tr>\n",
       "      <th>1</th>\n",
       "      <td>2020-03-25</td>\n",
       "      <td>06:03:31</td>\n",
       "      <td>21dayslockdown</td>\n",
       "    </tr>\n",
       "    <tr>\n",
       "      <th>1</th>\n",
       "      <td>2020-03-25</td>\n",
       "      <td>06:03:31</td>\n",
       "      <td>covid2019</td>\n",
       "    </tr>\n",
       "    <tr>\n",
       "      <th>1</th>\n",
       "      <td>2020-03-25</td>\n",
       "      <td>06:03:31</td>\n",
       "      <td>indiafightscorona</td>\n",
       "    </tr>\n",
       "    <tr>\n",
       "      <th>3</th>\n",
       "      <td>2020-03-25</td>\n",
       "      <td>06:03:56</td>\n",
       "      <td>narayanpet</td>\n",
       "    </tr>\n",
       "    <tr>\n",
       "      <th>3</th>\n",
       "      <td>2020-03-25</td>\n",
       "      <td>06:03:56</td>\n",
       "      <td>corona</td>\n",
       "    </tr>\n",
       "    <tr>\n",
       "      <th>...</th>\n",
       "      <td>...</td>\n",
       "      <td>...</td>\n",
       "      <td>...</td>\n",
       "    </tr>\n",
       "    <tr>\n",
       "      <th>4438</th>\n",
       "      <td>2020-03-27</td>\n",
       "      <td>03:57:31</td>\n",
       "      <td>indiafightscorona</td>\n",
       "    </tr>\n",
       "    <tr>\n",
       "      <th>4439</th>\n",
       "      <td>2020-03-27</td>\n",
       "      <td>03:57:39</td>\n",
       "      <td>lifethriving</td>\n",
       "    </tr>\n",
       "    <tr>\n",
       "      <th>4442</th>\n",
       "      <td>2020-03-27</td>\n",
       "      <td>03:59:27</td>\n",
       "      <td>corona</td>\n",
       "    </tr>\n",
       "    <tr>\n",
       "      <th>4442</th>\n",
       "      <td>2020-03-27</td>\n",
       "      <td>03:59:27</td>\n",
       "      <td>silkroad</td>\n",
       "    </tr>\n",
       "    <tr>\n",
       "      <th>4442</th>\n",
       "      <td>2020-03-27</td>\n",
       "      <td>03:59:27</td>\n",
       "      <td>silkroute</td>\n",
       "    </tr>\n",
       "  </tbody>\n",
       "</table>\n",
       "<p>6148 rows × 3 columns</p>\n",
       "</div>"
      ],
      "text/plain": [
       "            date      time           hashtags\n",
       "1     2020-03-25  06:03:31     21dayslockdown\n",
       "1     2020-03-25  06:03:31          covid2019\n",
       "1     2020-03-25  06:03:31  indiafightscorona\n",
       "3     2020-03-25  06:03:56         narayanpet\n",
       "3     2020-03-25  06:03:56             corona\n",
       "...          ...       ...                ...\n",
       "4438  2020-03-27  03:57:31  indiafightscorona\n",
       "4439  2020-03-27  03:57:39       lifethriving\n",
       "4442  2020-03-27  03:59:27             corona\n",
       "4442  2020-03-27  03:59:27           silkroad\n",
       "4442  2020-03-27  03:59:27          silkroute\n",
       "\n",
       "[6148 rows x 3 columns]"
      ]
     },
     "execution_count": 13,
     "metadata": {},
     "output_type": "execute_result"
    }
   ],
   "source": [
    "split_df_explode_sorted = split_df_explode.sort_values(by=[\"date\", \"time\"])\n",
    "split_df_explode_sorted"
   ]
  },
  {
   "cell_type": "code",
   "execution_count": 14,
   "metadata": {},
   "outputs": [
    {
     "data": {
      "text/plain": [
       "[133, 124, 118, 97, 89, 86, 66, 64, 58, 57]"
      ]
     },
     "execution_count": 14,
     "metadata": {},
     "output_type": "execute_result"
    }
   ],
   "source": [
    "list_value_counts = list(split_df_explode['hashtags'].value_counts())\n",
    "list_value_counts[5:15]"
   ]
  },
  {
   "cell_type": "code",
   "execution_count": 15,
   "metadata": {},
   "outputs": [],
   "source": [
    "def number_of_list_elems_greater_than_certain_value(x: list, val: int) -> int:\n",
    "    count = 0\n",
    "    for value in x:\n",
    "        if(value >= val):\n",
    "            count += 1\n",
    "        else:\n",
    "            break\n",
    "    return count"
   ]
  },
  {
   "cell_type": "code",
   "execution_count": 16,
   "metadata": {},
   "outputs": [
    {
     "data": {
      "text/plain": [
       "8"
      ]
     },
     "execution_count": 16,
     "metadata": {},
     "output_type": "execute_result"
    }
   ],
   "source": [
    "number_of_list_elems_greater_than_certain_value(list_value_counts, 100)"
   ]
  },
  {
   "cell_type": "code",
   "execution_count": 17,
   "metadata": {},
   "outputs": [
    {
     "data": {
      "text/plain": [
       "15"
      ]
     },
     "execution_count": 17,
     "metadata": {},
     "output_type": "execute_result"
    }
   ],
   "source": [
    "number_of_list_elems_greater_than_certain_value(list_value_counts, 50)"
   ]
  },
  {
   "cell_type": "code",
   "execution_count": 33,
   "metadata": {},
   "outputs": [],
   "source": [
    "import datetime\n",
    "time_df = pd.DataFrame(columns={'hashtag','date_datetime', 'time_datetime', 'occurence'})\n",
    "# for idx, row in split_df_explode_sorted.iterrows():\n",
    "#     date = datetime.datetime.strptime(row.date, '%y-%m-%d')\n",
    "#     time = datetime.datetime.strptime(row.time, '%h:%m:%s')\n",
    "#     temp_dict = {'date': row.date, 'date_date': date, 'time_date': time}\n",
    "#     time_df.append(temp_dict, ignore_index=True)\n",
    "# split_df_explode_join = pd.DataFrame.join(split_explode_df, time_df)\n",
    "time_df['hashtag'] = split_df_explode_sorted['hashtags']\n",
    "time_df['date_datetime'] = pd.to_datetime(split_df_explode_sorted['date'])\n",
    "time_df['time_datetime'] = pd.to_datetime(split_df_explode_sorted['time'])"
   ]
  },
  {
   "cell_type": "code",
   "execution_count": 34,
   "metadata": {},
   "outputs": [
    {
     "data": {
      "text/html": [
       "<div>\n",
       "<style scoped>\n",
       "    .dataframe tbody tr th:only-of-type {\n",
       "        vertical-align: middle;\n",
       "    }\n",
       "\n",
       "    .dataframe tbody tr th {\n",
       "        vertical-align: top;\n",
       "    }\n",
       "\n",
       "    .dataframe thead th {\n",
       "        text-align: right;\n",
       "    }\n",
       "</style>\n",
       "<table border=\"1\" class=\"dataframe\">\n",
       "  <thead>\n",
       "    <tr style=\"text-align: right;\">\n",
       "      <th></th>\n",
       "      <th>hashtag</th>\n",
       "      <th>time_datetime</th>\n",
       "      <th>date_datetime</th>\n",
       "    </tr>\n",
       "  </thead>\n",
       "  <tbody>\n",
       "    <tr>\n",
       "      <th>1</th>\n",
       "      <td>21dayslockdown</td>\n",
       "      <td>2021-02-28 06:03:31</td>\n",
       "      <td>2020-03-25</td>\n",
       "    </tr>\n",
       "    <tr>\n",
       "      <th>1</th>\n",
       "      <td>covid2019</td>\n",
       "      <td>2021-02-28 06:03:31</td>\n",
       "      <td>2020-03-25</td>\n",
       "    </tr>\n",
       "    <tr>\n",
       "      <th>1</th>\n",
       "      <td>indiafightscorona</td>\n",
       "      <td>2021-02-28 06:03:31</td>\n",
       "      <td>2020-03-25</td>\n",
       "    </tr>\n",
       "    <tr>\n",
       "      <th>3</th>\n",
       "      <td>narayanpet</td>\n",
       "      <td>2021-02-28 06:03:56</td>\n",
       "      <td>2020-03-25</td>\n",
       "    </tr>\n",
       "    <tr>\n",
       "      <th>3</th>\n",
       "      <td>corona</td>\n",
       "      <td>2021-02-28 06:03:56</td>\n",
       "      <td>2020-03-25</td>\n",
       "    </tr>\n",
       "    <tr>\n",
       "      <th>...</th>\n",
       "      <td>...</td>\n",
       "      <td>...</td>\n",
       "      <td>...</td>\n",
       "    </tr>\n",
       "    <tr>\n",
       "      <th>4438</th>\n",
       "      <td>indiafightscorona</td>\n",
       "      <td>2021-02-28 03:57:31</td>\n",
       "      <td>2020-03-27</td>\n",
       "    </tr>\n",
       "    <tr>\n",
       "      <th>4439</th>\n",
       "      <td>lifethriving</td>\n",
       "      <td>2021-02-28 03:57:39</td>\n",
       "      <td>2020-03-27</td>\n",
       "    </tr>\n",
       "    <tr>\n",
       "      <th>4442</th>\n",
       "      <td>corona</td>\n",
       "      <td>2021-02-28 03:59:27</td>\n",
       "      <td>2020-03-27</td>\n",
       "    </tr>\n",
       "    <tr>\n",
       "      <th>4442</th>\n",
       "      <td>silkroad</td>\n",
       "      <td>2021-02-28 03:59:27</td>\n",
       "      <td>2020-03-27</td>\n",
       "    </tr>\n",
       "    <tr>\n",
       "      <th>4442</th>\n",
       "      <td>silkroute</td>\n",
       "      <td>2021-02-28 03:59:27</td>\n",
       "      <td>2020-03-27</td>\n",
       "    </tr>\n",
       "  </tbody>\n",
       "</table>\n",
       "<p>6148 rows × 3 columns</p>\n",
       "</div>"
      ],
      "text/plain": [
       "                hashtag       time_datetime date_datetime\n",
       "1        21dayslockdown 2021-02-28 06:03:31    2020-03-25\n",
       "1             covid2019 2021-02-28 06:03:31    2020-03-25\n",
       "1     indiafightscorona 2021-02-28 06:03:31    2020-03-25\n",
       "3            narayanpet 2021-02-28 06:03:56    2020-03-25\n",
       "3                corona 2021-02-28 06:03:56    2020-03-25\n",
       "...                 ...                 ...           ...\n",
       "4438  indiafightscorona 2021-02-28 03:57:31    2020-03-27\n",
       "4439       lifethriving 2021-02-28 03:57:39    2020-03-27\n",
       "4442             corona 2021-02-28 03:59:27    2020-03-27\n",
       "4442           silkroad 2021-02-28 03:59:27    2020-03-27\n",
       "4442          silkroute 2021-02-28 03:59:27    2020-03-27\n",
       "\n",
       "[6148 rows x 3 columns]"
      ]
     },
     "execution_count": 34,
     "metadata": {},
     "output_type": "execute_result"
    }
   ],
   "source": [
    "time_df"
   ]
  },
  {
   "cell_type": "code",
   "execution_count": 40,
   "metadata": {},
   "outputs": [],
   "source": [
    "def plot_hashtag_frequency(hashtag: str, df: pd.DataFrame()):\n",
    "    temp_df = df[df.hashtag == hashtag]\n",
    "    temp_df['occurence'] = None\n",
    "#     final_df = pf.DataFrame(columns={'date_datetime', 'freq'})\n",
    "#     for idx, row in temp_df.iterrows():\n",
    "#         count = 1\n",
    "#         first = row.date_datetime\n",
    "#         second = first\n",
    "    return temp_df"
   ]
  },
  {
   "cell_type": "code",
   "execution_count": 43,
   "metadata": {},
   "outputs": [
    {
     "name": "stderr",
     "output_type": "stream",
     "text": [
      "<ipython-input-35-ede1265ea3c9>:3: SettingWithCopyWarning: \n",
      "A value is trying to be set on a copy of a slice from a DataFrame.\n",
      "Try using .loc[row_indexer,col_indexer] = value instead\n",
      "\n",
      "See the caveats in the documentation: https://pandas.pydata.org/pandas-docs/stable/user_guide/indexing.html#returning-a-view-versus-a-copy\n",
      "  temp_df['occurence'] = None\n"
     ]
    },
    {
     "data": {
      "text/plain": [
       "date_datetime\n",
       "2020-03-25    337\n",
       "2020-03-26    343\n",
       "2020-03-27     38\n",
       "dtype: int64"
      ]
     },
     "execution_count": 43,
     "metadata": {},
     "output_type": "execute_result"
    }
   ],
   "source": [
    "x = plot_hashtag_occurrence('corona', time_df)\n",
    "x.groupby(['date_datetime']).size()"
   ]
  },
  {
   "cell_type": "code",
   "execution_count": 45,
   "metadata": {},
   "outputs": [
    {
     "name": "stderr",
     "output_type": "stream",
     "text": [
      "<ipython-input-35-ede1265ea3c9>:3: SettingWithCopyWarning: \n",
      "A value is trying to be set on a copy of a slice from a DataFrame.\n",
      "Try using .loc[row_indexer,col_indexer] = value instead\n",
      "\n",
      "See the caveats in the documentation: https://pandas.pydata.org/pandas-docs/stable/user_guide/indexing.html#returning-a-view-versus-a-copy\n",
      "  temp_df['occurence'] = None\n"
     ]
    },
    {
     "data": {
      "text/plain": [
       "date_datetime\n",
       "2020-03-25    78\n",
       "2020-03-26    93\n",
       "2020-03-27     7\n",
       "dtype: int64"
      ]
     },
     "execution_count": 45,
     "metadata": {},
     "output_type": "execute_result"
    }
   ],
   "source": [
    "x = plot_hashtag_occurrence('covid2019',time_df)\n",
    "x.groupby(['date_datetime']).size()"
   ]
  },
  {
   "cell_type": "code",
   "execution_count": 46,
   "metadata": {},
   "outputs": [
    {
     "name": "stderr",
     "output_type": "stream",
     "text": [
      "<ipython-input-35-ede1265ea3c9>:3: SettingWithCopyWarning: \n",
      "A value is trying to be set on a copy of a slice from a DataFrame.\n",
      "Try using .loc[row_indexer,col_indexer] = value instead\n",
      "\n",
      "See the caveats in the documentation: https://pandas.pydata.org/pandas-docs/stable/user_guide/indexing.html#returning-a-view-versus-a-copy\n",
      "  temp_df['occurence'] = None\n"
     ]
    },
    {
     "data": {
      "text/plain": [
       "date_datetime\n",
       "2020-03-25    97\n",
       "2020-03-26    43\n",
       "2020-03-27     3\n",
       "dtype: int64"
      ]
     },
     "execution_count": 46,
     "metadata": {},
     "output_type": "execute_result"
    }
   ],
   "source": [
    "x = plot_hashtag_occurrence('21daylockdown',time_df)\n",
    "x.groupby(['date_datetime']).size()"
   ]
  },
  {
   "cell_type": "code",
   "execution_count": null,
   "metadata": {},
   "outputs": [],
   "source": []
  }
 ],
 "metadata": {
  "kernelspec": {
   "display_name": "Python 3",
   "language": "python",
   "name": "python3"
  },
  "language_info": {
   "codemirror_mode": {
    "name": "ipython",
    "version": 3
   },
   "file_extension": ".py",
   "mimetype": "text/x-python",
   "name": "python",
   "nbconvert_exporter": "python",
   "pygments_lexer": "ipython3",
   "version": "3.8.3"
  }
 },
 "nbformat": 4,
 "nbformat_minor": 4
}
